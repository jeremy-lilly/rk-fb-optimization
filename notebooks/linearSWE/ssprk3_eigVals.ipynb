{
 "cells": [
  {
   "cell_type": "markdown",
   "id": "d430f1b1",
   "metadata": {},
   "source": [
    "# SSPRK Eigenvalue Analysis\n",
    "\n",
    "Consider a simple model problem:\n",
    "\\begin{align*}\n",
    "    \\frac{\\partial \\zeta}{\\partial t} &= -c \\frac{\\partial u}{\\partial x}, \\\\\n",
    "    \\frac{\\partial u}{\\partial t} &= -c \\frac{\\partial \\zeta}{\\partial x}.\n",
    "\\end{align*}\n",
    "Note that this is similar to the 1D linearized SWEs with the Coriolis term deleted.\n",
    "\n",
    "With the goal of applying a von Neumann stability anaysis, we can apply a Fourier transform in $x$ to the above to get\n",
    "\\begin{align*}\n",
    "    \\frac{\\partial \\hat{\\zeta}}{\\partial t} &= -i \\omega \\hat{u}, \\\\\n",
    "    \\frac{\\partial \\hat{u}}{\\partial t} &= -i \\omega \\hat{\\zeta},\n",
    "\\end{align*}\n",
    "where $\\omega = ck$ for a given wavenumber $k$. Also, from now on, write $u = \\hat{u}$ and $\\zeta = \\hat{\\zeta}$ to ease notation.\n",
    "\n",
    "Chose a time-step $\\Delta t$ and let $\\alpha = \\omega\\Delta t = ck\\Delta t$. The SSPRK3 algorithm for this system is then given by:\n",
    "\\begin{align*}\n",
    "    \\bar{\\zeta}^{n+1} &= \\zeta^n - i \\alpha u^n \\\\\n",
    "    \\bar{u}^{n+1} &= u^n - i \\alpha \\zeta^n \\\\\n",
    "    & \\\\\n",
    "    \\bar{\\zeta}^{n+1/2} &= \\frac{3}{4}\\zeta^n + \\frac{1}{4}\\left( \\bar{\\zeta}^{n+1} - i \\alpha  \\bar{u}^{n+1} \\right) \\\\\n",
    "    \\bar{u}^{n+1/2} &= \\frac{3}{4}u^n + \\frac{1}{4}\\left( \\bar{u}^{n+1} - i \\alpha  \\bar{\\zeta}^{n+1} \\right) \\\\\n",
    "    & \\\\\n",
    "    \\zeta^{n+1} &= \\frac{1}{3}\\zeta^n + \\frac{2}{3}\\left( \\bar{\\zeta}^{n+1/2} - i \\alpha \\bar{u}^{n+1/2} \\right) \\\\\n",
    "    u^{n+1} &= \\frac{1}{3}u^n + \\frac{2}{3}\\left( \\bar{u}^{n+1/2} - i \\alpha \\bar{\\zeta}^{n+1/2} \\right).\n",
    "\\end{align*}"
   ]
  },
  {
   "cell_type": "code",
   "execution_count": 2,
   "id": "25b4b016",
   "metadata": {},
   "outputs": [],
   "source": [
    "from sympy import *\n",
    "import numpy as np\n",
    "import matplotlib.pyplot as plt\n",
    "import scipy as sp\n",
    "%matplotlib inline\n",
    "\n",
    "\n",
    "# define relevent symbols \n",
    "#     _u = u^n, _zeta = \\zeta^n\n",
    "#     U1 = \\bar{u}^{n+1}, ZETA1 = \\bar{\\zeta}^{n+1}\n",
    "#     U2 = \\bar{u}^{n+1/2}, ZETA3 = \\bar{\\zeta}^{n+1/2}\n",
    "#     u = u^{n+1}, zeta = \\zeta^{n+1}\n",
    "_u, _zeta = symbols('u^n \\zeta^n')\n",
    "lam, alpha = symbols('lambda alpha')\n",
    "\n",
    "# define time-stepping scheme\n",
    "ZETA1 = _zeta - I*alpha*_u\n",
    "U1 = _u - I*alpha*_zeta\n",
    "\n",
    "ZETA2 = (3/4)*_zeta + (1/4) * ( ZETA1 - I*alpha*U1 )\n",
    "U2 = (3/4)*_u + (1/4) * ( U1 - I*alpha*ZETA1 )\n",
    "\n",
    "zeta = (1/3)*_zeta + (2/3) * ( ZETA2 - I*alpha*U2 )\n",
    "u = (1/3)*_u + (2/3) * ( U2 - I*alpha*ZETA2 )\n",
    "\n",
    "# simplify the expressions for zeta and u \n",
    "zeta  = nsimplify( zeta.simplify() )\n",
    "u = nsimplify( u.simplify() )"
   ]
  },
  {
   "cell_type": "markdown",
   "id": "fd20865a",
   "metadata": {},
   "source": [
    "Now, we have a system of linear equations in $\\zeta^n$ and $u^n$. We can find the amplification matrix for the scheme by writing it in the form\n",
    "$$ \\mathbf{w}^{n+1} = G \\mathbf{w}^n, $$\n",
    "where $G$ is the amplification matrix and $\\mathbf{w}^* = (\\zeta^*, u^*)^T$.\n",
    "\n",
    "We care about the amplification matrix $G$ as it follows from the above that $\\mathbf{w}^n = G^n \\mathbf{w}^0$. In turn, it follows that the solution $\\mathbf{w}^n$ is bounded as $ n \\to \\infty$ if and only if $||G^n||$ is bounded as $n \\to \\infty$."
   ]
  },
  {
   "cell_type": "code",
   "execution_count": 3,
   "id": "27faeb8a",
   "metadata": {},
   "outputs": [
    {
     "data": {
      "text/latex": [
       "$\\displaystyle \\left[\\begin{matrix}1 - \\frac{\\alpha^{2}}{2} & \\frac{i \\alpha^{3}}{6} - i \\alpha\\\\\\frac{i \\alpha^{3}}{6} - i \\alpha & 1 - \\frac{\\alpha^{2}}{2}\\end{matrix}\\right]$"
      ],
      "text/plain": [
       "Matrix([\n",
       "[        1 - alpha**2/2, I*alpha**3/6 - I*alpha],\n",
       "[I*alpha**3/6 - I*alpha,         1 - alpha**2/2]])"
      ]
     },
     "execution_count": 3,
     "metadata": {},
     "output_type": "execute_result"
    }
   ],
   "source": [
    "# create the amplification matrix G\n",
    "_w = [_zeta, _u]\n",
    "w = [zeta, u]\n",
    "G, _ = linear_eq_to_matrix(w, _w)\n",
    "\n",
    "G"
   ]
  },
  {
   "cell_type": "code",
   "execution_count": 4,
   "id": "5d760698",
   "metadata": {},
   "outputs": [
    {
     "data": {
      "text/latex": [
       "$\\displaystyle \\frac{\\alpha^{6}}{36} - \\frac{\\alpha^{4}}{12} + \\lambda^{2} + \\lambda \\left(\\alpha^{2} - 2\\right) + 1$"
      ],
      "text/plain": [
       "alpha**6/36 - alpha**4/12 + lambda**2 + lambda*(alpha**2 - 2) + 1"
      ]
     },
     "execution_count": 4,
     "metadata": {},
     "output_type": "execute_result"
    }
   ],
   "source": [
    "p = G.charpoly(lam).as_expr()\n",
    "p"
   ]
  },
  {
   "cell_type": "code",
   "execution_count": 5,
   "id": "679cd840",
   "metadata": {},
   "outputs": [
    {
     "name": "stdout",
     "output_type": "stream",
     "text": [
      "nu^max ~ 1.76714586764426\n"
     ]
    },
    {
     "data": {
      "image/png": "[encoded data removed]",
      "text/plain": [
       "<Figure size 640x480 with 1 Axes>"
      ]
     },
     "metadata": {},
     "output_type": "display_data"
    }
   ],
   "source": [
    "optP = p\n",
    "\n",
    "\n",
    "fig, ax = plt.subplots(1)\n",
    "\n",
    "ax.spines['left'].set_position('center')\n",
    "ax.spines['right'].set_color('none')\n",
    "ax.spines['bottom'].set_position('center')\n",
    "ax.spines['top'].set_color('none')\n",
    "\n",
    "axLim = 1.5\n",
    "ax.set_xlim(-axLim, axLim)\n",
    "ax.set_ylim(-axLim, axLim)\n",
    "ax.set_aspect(1)\n",
    "\n",
    "unitCircle = plt.Circle((0, 0), 1, fill=False, alpha=1)\n",
    "ax.add_artist(unitCircle)\n",
    "\n",
    "approx_real = []\n",
    "approx_imag = []\n",
    "badNus =[]\n",
    "\n",
    "for k in np.arange(-16.0, 16.0, 0.5):\n",
    "    if k < 0 and k != 0:\n",
    "        approx = complex(solve(optP.subs(alpha, k*pi/16), lam)[0])\n",
    "    elif k != 0:\n",
    "        approx = complex(solve(optP.subs(alpha, k*pi/16), lam)[1])\n",
    "    # END if\n",
    "    approx_real.append( approx.real )\n",
    "    approx_imag.append( approx.imag )\n",
    "    \n",
    "    exact = complex(exp(I*k*pi/16).evalf())\n",
    "    \n",
    "    absValApprox = sqrt(approx.real**2 + approx.imag**2)\n",
    "    if absValApprox > 1: badNus.append(k*pi/16) \n",
    "\n",
    "    if ( np.isclose(k%1, 0) or np.isclose(k%1, 1) ) and np.abs(k*pi/16) <= np.pi:\n",
    "        # plot exact and approx eigen values\n",
    "        colo = 'blue' if absValApprox <= 1 else 'red'\n",
    "        ax.scatter(exact.real, exact.imag, marker='o', color='orange')\n",
    "        ax.scatter(approx.real, approx.imag, marker='*', color=colo)\n",
    "        # connect exact to approx with dashed line\n",
    "        reals = [approx.real, exact.real]\n",
    "        imags = [approx.imag, exact.imag]\n",
    "        ax.plot(reals, imags, color='black', linestyle='dashed', linewidth=0.75, alpha=0.5)\n",
    "    # END if\n",
    "# END for\n",
    "\n",
    "ax.plot(approx_real, approx_imag, color='blue')\n",
    "try:\n",
    "    print( 'nu^max ~ {}'.format( np.min(np.abs(badNus)).evalf() ) )\n",
    "except: pass"
   ]
  },
  {
   "cell_type": "markdown",
   "id": "534f33fc",
   "metadata": {},
   "source": [
    "In the above, we see that the eigenvalues leave the unit circle (the method becomes unstable), when\n",
    "$$ \\alpha_\\text{max} \\approx 1.76714586764426 $$\n",
    "\n",
    "Now consider SSPRK3 applied to the linearized SWEs:\n",
    "Set $K = 2 \\sin\\left(k\\frac{\\Delta x}{2}\\right)$, $L = 2 \\sin\\left(\\ell\\frac{\\Delta y}{2}\\right)$, and $\\tilde{\\phi} = f\\cos\\left(k\\frac{\\Delta x}{2}\\right)\\cos\\left(\\ell\\frac{\\Delta y}{2}\\right)$. Then, the Fourier transformed, spatially discretized (C-grid), linear SWEs, become\n",
    "\\begin{align*}\n",
    "    \\frac{\\partial \\hat{u}}{\\partial t} &= \\tilde{\\phi}\\hat{v} - i \\frac{cK}{\\Delta x}\\hat{\\eta} \\\\\n",
    "    \\frac{\\partial \\hat{v}}{\\partial t} &= -\\tilde{\\phi}\\hat{u} - i \\frac{cL}{\\Delta y}\\hat{\\eta} \\\\\n",
    "    \\frac{\\partial \\hat{\\eta}}{\\partial t} &= -i \\left( \\frac{cK}{\\Delta x}\\hat{u} + \\frac{cL}{\\Delta y}\\hat{v} \\right).\n",
    "\\end{align*}\n",
    "\n",
    "This looks like:\n",
    "\\begin{align*}\n",
    "    \\bar{u}^{n+1} &= u^n  + \\left( \\phi v^n - iK\\nu_x\\eta^n  \\right) \\\\\n",
    "    \\bar{v}^{n+1} &= v^n  + \\left( -\\phi u^n - iK\\nu_x\\eta^n  \\right) \\\\\n",
    "    \\bar{\\eta}^{n+1} &= \\eta^n - i \\left( K\\nu_x u^n + L \\nu_y v^n  \\right) \\\\\n",
    "    & \\\\\n",
    "    \\bar{u}^{n+1/2} &= \\frac{3}{4}u^n  + \\frac{1}{4}\\left[\\bar{u}^{n+1} + \\left( \\phi \\bar{v}^{n+1} - iK\\nu_x\\bar{\\eta}^{n+1}  \\right)\\right] \\\\\n",
    "    \\bar{v}^{n+1/2} &= \\frac{3}{4}v^n  + \\frac{1}{4}\\left[\\bar{v}^{n+1} + \\left( -\\phi \\bar{u}^{n+1} - iL\\nu_y\\bar{\\eta}^{n+1}  \\right)\\right] \\\\\n",
    "    \\bar{\\eta}^{n+1/2} &= \\frac{3}{4}\\eta^n + \\frac{1}{4}\\left[\\bar{\\eta}^{n+1} - i\\left( K\\nu_x \\bar{u}^{n+1} + L\\nu_y\\bar{v}^{n+1}  \\right)\\right] \\\\\n",
    "    & \\\\\n",
    "    u^{n+1} &= \\frac{1}{3}u^n  + \\frac{2}{3}\\left[\\bar{u}^{n+1/2} + \\left( \\phi \\bar{v}^{n+1/2} - iK\\nu_x\\bar{\\eta}^{n+1/2}  \\right)\\right] \\\\\n",
    "    v^{n+1} &= \\frac{1}{3}v^n  + \\frac{2}{3}\\left[\\bar{v}^{n+1/2} + \\left( -\\phi \\bar{u}^{n+1/2} - iL\\nu_y\\bar{\\eta}^{n+1/2}  \\right)\\right] \\\\\n",
    "    \\eta^{n+1} &= \\frac{1}{3}\\eta^n + \\frac{2}{3}\\left[\\bar{\\eta}^{n+1/2} - i\\left( K\\nu_x \\bar{u}^{n+1/2} + L\\nu_y\\bar{v}^{n+1/2}  \\right)\\right]\n",
    "\\end{align*}"
   ]
  },
  {
   "cell_type": "code",
   "execution_count": 13,
   "id": "b3e450be",
   "metadata": {},
   "outputs": [],
   "source": [
    "# define relevent symbols \n",
    "#     _u = u^n, _v = v^n, _eta = \\eta^n\n",
    "#     U1 = \\bar{u}^{n+1/3}, V1 = \\bar{v}^{n+1/3}, ETA1= \\bar{\\eta}^{n+1/3}\n",
    "#     U2 = \\bar{u}^{n+1/2}, V2 = \\bar{v}^{n+1/2}, ETA2= \\bar{\\eta}^{n+1/2}\n",
    "#     u = u^{n+1}, v = v^{n+1}, eta = \\eta^{n+1}\n",
    "_u, _v, _eta = symbols('u^n v^n eta^n')\n",
    "lam = symbols('lambda')\n",
    "nux, nuy, K, L, phi = symbols('nu_x nu_y K L phi')\n",
    "\n",
    "\n",
    "U1 = _u + (phi*_v - I*K*nux*_eta)\n",
    "V1 = _v + (-phi*_u - I*L*nuy*_eta)\n",
    "ETA1 = _eta - I*(K*nux*_u + L*nuy*_v)\n",
    "\n",
    "U2 = (3/4)*_u + (1/4)*( U1 + (phi*V1 - I*K*nux*ETA1) )\n",
    "V2 = (3/4)*_v + (1/4)*( V1 + (-phi*U1 - I*L*nuy*ETA1) )\n",
    "ETA2 = (3/4)*_eta + (1/4)*( ETA1 - I*(K*nux*U1 + L*nuy*V1)  )\n",
    "\n",
    "u = (1/3)*_u + (2/3)*( U2 + (phi*V2 - I*K*nux*ETA2) )\n",
    "v = (1/3)*_v + (2/3)*( V2 + (-phi*U2 - I*L*nuy*ETA2) )\n",
    "eta = (1/3)*_eta + (2/3)*( ETA2 - I*(K*nux*U2 + L*nuy*V2) )"
   ]
  },
  {
   "cell_type": "code",
   "execution_count": 14,
   "id": "86b18eb5",
   "metadata": {},
   "outputs": [],
   "source": [
    "# create the amplification matrix G\n",
    "_w = [_u, _v, _eta]\n",
    "w = [u, v, eta]\n",
    "_G, _ = linear_eq_to_matrix(w, _w)\n",
    "\n",
    "# We are going to store G as a numpy ndarray, rather than a sympy\n",
    "# matrix as we have in previous notebooks because the symbolic\n",
    "# representation is too complicated to be meaningful and this\n",
    "# is much faster.\n",
    "x = [nux, nuy, K , L, phi]\n",
    "_calcG = lambdify(x, _G)\n",
    "\n",
    "\n",
    "# We build Gtilde using scipy, not sympy -- the symbolic calculation\n",
    "# of e^{A\\Delta t} takes too long (~4 hours). The symbolic expression \n",
    "# is too complicated to be meaningful to a human anyway.\n",
    "def _calcGtilde(nux, nuy, Ktilde, Ltilde, fdt):\n",
    "    Adt = np.matrix( [[0, fdt, -1j*Ktilde*nux],\n",
    "                      [-fdt, 0, -1j*Ltilde*nuy],\n",
    "                      [-1j*Ktilde*nux, -1j*Ltilde*nuy, 0]] )\n",
    "    return sp.linalg.expm(Adt)\n",
    "# END calcGtilde()\n",
    "\n",
    "\n",
    "KtildeVal = np.pi/2\n",
    "LtildeVal = KtildeVal\n",
    "fdtVal = 1/2\n",
    "\n",
    "KVal = 2*np.sin(KtildeVal/2)\n",
    "LVal = KVal\n",
    "phiVal = fdtVal*np.cos(KtildeVal/2)*np.cos(LtildeVal/2)\n",
    "\n",
    "G = lambda nu: _calcG(nu, nu, KVal, LVal, phiVal)\n",
    "Gtilde = lambda nu: _calcGtilde(nu, nu, KtildeVal, LtildeVal, fdtVal)\n",
    "\n",
    "\n",
    "# Define a function to sort eigenvalues so we know which to compare\n",
    "def parseEigVals(eigVals):\n",
    "    eigValDict = {}\n",
    "    reals = []\n",
    "    for eigVal in eigVals:\n",
    "        if np.isclose(eigVal, 1.0+0.0j):\n",
    "            eigValDict['one'] = eigVal\n",
    "        elif not np.isclose(eigVal.imag, 0.0):\n",
    "            if eigVal.imag > 0:\n",
    "                eigValDict['pos'] = eigVal\n",
    "            else:\n",
    "                eigValDict['neg'] = eigVal\n",
    "        else:\n",
    "            reals.append(eigVal.real)\n",
    "            eigValDict['real'] = reals\n",
    "        # END if\n",
    "    # END for\n",
    "    return eigValDict\n",
    "#END parseEigVals()\n",
    "\n",
    "\n",
    "# Define a function to create a plot comparing exact/numerical eigenvalues\n",
    "def eigValPlot(Gtilde, G, a=-16, b=16, delta=1e-2, nuDotLimit=np.pi/3):\n",
    "    fig, ax = plt.subplots(1)\n",
    "\n",
    "    ax.spines['left'].set_position('center')\n",
    "    ax.spines['right'].set_color('none')\n",
    "    ax.spines['bottom'].set_position('center')\n",
    "    ax.spines['top'].set_color('none')\n",
    "\n",
    "    axLim = 1.5\n",
    "    ax.set_xlim(-axLim, axLim)\n",
    "    ax.set_ylim(-axLim, axLim)\n",
    "    ax.set_aspect(1)\n",
    "\n",
    "    unitCircle = plt.Circle((0, 0), 1, fill=False, color='orange')\n",
    "    ax.add_artist(unitCircle)\n",
    "\n",
    "    approx_real = []\n",
    "    approx_imag = []\n",
    "    badNus =[]\n",
    "    count = 0\n",
    "\n",
    "    for k in np.arange(a, b, delta):\n",
    "        nu = k*np.pi/16\n",
    "        # get complex values for exact and approx eigen values\n",
    "        GtildeEigVals = parseEigVals( sp.linalg.eigvals( Gtilde(nu) ) )\n",
    "        GEigVals = parseEigVals( sp.linalg.eigvals( G(nu) ) )\n",
    "\n",
    "        if np.isclose(nu, 0):\n",
    "            exact = GtildeEigVals['one']\n",
    "            approx = GEigVals['one']\n",
    "            #approx = GEigVals['real'][0]\n",
    "        else:\n",
    "            key = 'pos' if nu > 0 else 'neg'\n",
    "            exact = GtildeEigVals[key]\n",
    "            if key in GEigVals.keys():\n",
    "                approx = GEigVals[key]\n",
    "            else:\n",
    "                if len(GEigVals['real']) == 1:\n",
    "                    approx = GEigVals['real'][0]\n",
    "                else:\n",
    "                    ind = 1 if nu >= 0 else 0\n",
    "                    approx = GEigVals['real'][ind]\n",
    "                # END if\n",
    "            # END if\n",
    "        # END if\n",
    "        approx_real.append( approx.real )\n",
    "        approx_imag.append( approx.imag )\n",
    "        \n",
    "        absValApprox = sqrt(approx.real**2 + approx.imag**2)\n",
    "        if absValApprox > 1: badNus.append(nu) \n",
    "        \n",
    "        if ( np.isclose(k%1, 0) or np.isclose(k%1, 1) ) and np.abs(nu) <= nuDotLimit:\n",
    "            # plot exact and approx eigen values\n",
    "            colo = 'blue' if absValApprox <= 1 else 'red'\n",
    "            ax.scatter(exact.real, exact.imag, marker='o', color='orange')\n",
    "            ax.scatter(approx.real, approx.imag, marker='*', color=colo)\n",
    "            # connect exact to approx with dashed line\n",
    "            reals = [approx.real, exact.real]\n",
    "            imags = [approx.imag, exact.imag]\n",
    "            ax.plot(reals, imags, color='black', linestyle='dashed', linewidth=0.75, alpha=0.5)\n",
    "        # END if\n",
    "    # END for\n",
    "\n",
    "    ax.plot(approx_real, approx_imag, color='blue')\n",
    "    try:\n",
    "        print( 'nu^max ~ {}'.format( np.min(np.abs(badNus)) ) )\n",
    "    except: pass\n",
    "# END eigValPlot()"
   ]
  },
  {
   "cell_type": "code",
   "execution_count": 15,
   "id": "e62e5eff",
   "metadata": {},
   "outputs": [
    {
     "name": "stdout",
     "output_type": "stream",
     "text": [
      "nu^max ~ 0.8580474935116267\n"
     ]
    },
    {
     "data": {
      "image/png": "[encoded data removed]",
      "text/plain": [
       "<Figure size 640x480 with 1 Axes>"
      ]
     },
     "metadata": {},
     "output_type": "display_data"
    }
   ],
   "source": [
    "eigValPlot(Gtilde, G)"
   ]
  },
  {
   "cell_type": "code",
   "execution_count": null,
   "id": "66100a5d",
   "metadata": {},
   "outputs": [],
   "source": []
  }
 ],
 "metadata": {
  "kernelspec": {
   "display_name": "Python 3 (ipykernel)",
   "language": "python",
   "name": "python3"
  },
  "language_info": {
   "codemirror_mode": {
    "name": "ipython",
    "version": 3
   },
   "file_extension": ".py",
   "mimetype": "text/x-python",
   "name": "python",
   "nbconvert_exporter": "python",
   "pygments_lexer": "ipython3",
   "version": "3.10.8"
  }
 },
 "nbformat": 4,
 "nbformat_minor": 5
}
