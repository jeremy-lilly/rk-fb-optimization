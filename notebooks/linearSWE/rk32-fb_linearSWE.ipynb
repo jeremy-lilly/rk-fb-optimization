{
 "cells": [
  {
   "cell_type": "markdown",
   "id": "44d78241",
   "metadata": {},
   "source": [
    "# RK(3,2)-FB: Courant Number Optimization on Linearized SWEs\n",
    "\n",
    "## Linearized SWEs\n",
    "\n",
    "The linearized SWEs are\n",
    "\\begin{align*}\n",
    "    \\frac{\\partial\\mathbf{u}}{\\partial t} + f\\mathbf{u}^\\perp &= -g\\nabla h \\\\\n",
    "    \\frac{\\partial h}{\\partial t} + H (\\nabla \\cdot \\mathbf{u}) &= 0,\n",
    "\\end{align*}\n",
    "where $\\mathbf{u} = (u, v)$ is the horizontal fluid velocity, $t$ is the time coordinate, $f$ is the Coriolis parameter, $g$ is the gravitational constant, $h$ is the fluid thickness, and $H$ is the resting thickness of the fluid. Note that $u^\\perp = (v, -u)$.\n",
    "\n",
    "We can write these in terms of dimensionless quantities by letting $c = \\sqrt{gH}$, $\\eta = h/H$ and replacing $u$ and $v$ with the dimensionless quantities $\\frac{u}{c}$ and $\\frac{v}{c}$. Doing this, we get the dimensionless, linear SWEs:\n",
    "\\begin{align*}\n",
    "    \\frac{\\partial u}{\\partial t} &= fv - c\\frac{\\partial \\eta}{\\partial x} \\\\\n",
    "    \\frac{\\partial v}{\\partial t} &= -fu - c\\frac{\\partial \\eta}{\\partial y} \\\\\n",
    "    \\frac{\\partial \\eta}{\\partial t} &= -c\\left( \\frac{\\partial u}{\\partial x} + \\frac{\\partial v}{\\partial y} \\right).\n",
    "\\end{align*}\n",
    "Note that implicit in this simplification is that $H$ is constant, i.e. there is no spatially varying topography.\n",
    "\n",
    "With the goal of applying a von Neumann-type analysis, we apply a Fourier transform in space. This is equivalent to looking for solutions of the form\n",
    "\\begin{align*}\n",
    "    u(x, y, t) &= \\hat{u}(k, \\ell, t)e^{ikx+i\\ell y} \\\\\n",
    "    v(x, y, t) &= \\hat{v}(k, \\ell, t)e^{ikx+i\\ell y} \\\\\n",
    "    \\eta(x, y, t) &= \\hat{\\eta}(k, \\ell, t)e^{ikx+i\\ell y}.\n",
    "\\end{align*}\n",
    "\n",
    "In doing this, spatial derivatives are now all of the form\n",
    "$$ \\frac{\\partial}{\\partial *} \\left( e^{ikx+i\\ell y} \\right). $$\n",
    "Assuming we are on a rectangular, staggered Arakawa C-grid, discretizing in space yields\n",
    "\\begin{align*}\n",
    "    \\frac{\\partial}{\\partial x} \\left( e^{ikx+i\\ell y} \\right) &= \\frac{i 2 \\sin\\left(k\\frac{\\Delta x}{2}\\right)}{\\Delta x}e^{ikx+i\\ell y} \\\\\n",
    "    \\frac{\\partial}{\\partial y} \\left( e^{ikx+i\\ell y} \\right) &= \\frac{i 2 \\sin\\left(\\ell\\frac{\\Delta y}{2}\\right)}{\\Delta y}e^{ikx+i\\ell y}.\n",
    "\\end{align*}\n",
    "\n",
    "To compute the (linear) Coriolis term, we need to be able to compute $u$ at $v$-points and vice-versa. On a rectangular C-grid, we do this with an unweighted 4-point average. For example, to get $v$ at a $u$-point (written as $v_u$), we calculate \n",
    "\\begin{align*}\n",
    "    v_u(x, y, t) &= \\frac{1}{4}\\hat{v}(k, \\ell, t)\\left( e^{ik\\left(x+\\frac{\\Delta x}{2}\\right) + i\\ell\\left(y+\\frac{\\Delta y}{2}\\right)} + e^{ik\\left(x+\\frac{\\Delta x}{2}\\right) + i\\ell\\left(y-\\frac{\\Delta y}{2}\\right)} + e^{ik\\left(x-\\frac{\\Delta x}{2}\\right) + i\\ell\\left(y+\\frac{\\Delta y}{2}\\right)} + e^{ik\\left(x-\\frac{\\Delta x}{2}\\right) + i\\ell\\left(y-\\frac{\\Delta y}{2}\\right)} \\right) \\\\\n",
    "    &= \\cos\\left(k\\frac{\\Delta x}{2}\\right)\\cos\\left(\\ell\\frac{\\Delta y}{2}\\right)\\hat{v}(k, \\ell, t)e^{ikx+i\\ell y}.\n",
    "\\end{align*}\n",
    "An identical calculation holds for values of $u$ at $v$-points.\n",
    "\n",
    "Set $K = 2 \\sin\\left(k\\frac{\\Delta x}{2}\\right)$, $L = 2 \\sin\\left(\\ell\\frac{\\Delta y}{2}\\right)$, and $\\tilde{\\phi} = f\\cos\\left(k\\frac{\\Delta x}{2}\\right)\\cos\\left(\\ell\\frac{\\Delta y}{2}\\right)$. Then, the Fourier transformed, spatially discretized (C-grid), linear SWEs, become\n",
    "\\begin{align*}\n",
    "    \\frac{\\partial \\hat{u}}{\\partial t} &= \\tilde{\\phi}\\hat{v} - i \\frac{cK}{\\Delta x}\\hat{\\eta} \\\\\n",
    "    \\frac{\\partial \\hat{v}}{\\partial t} &= -\\tilde{\\phi}\\hat{u} - i \\frac{cL}{\\Delta y}\\hat{\\eta} \\\\\n",
    "    \\frac{\\partial \\hat{\\eta}}{\\partial t} &= -i \\left( \\frac{cK}{\\Delta x}\\hat{u} + \\frac{cL}{\\Delta y}\\hat{v} \\right).\n",
    "\\end{align*}\n",
    "\n",
    "## Application of RK(3,2)-FB\n",
    "\n",
    "Now, we can apply a temporal discretization. To ease notation, write $u = \\hat{u}$, $v = \\hat{v}$, and $\\eta = \\hat{\\eta}$ from now on. RK(3,2)-FB is given by: \n",
    "\\begin{align*}\n",
    "    \\bar{\\eta}^{n+1/3} &= \\eta^n - i \\frac{\\Delta t}{3} \\left( \\frac{cK}{\\Delta x}u^n + \\frac{cL}{\\Delta y}v^n \\right) \\\\\n",
    "    \\bar{u}^{n+1/3} &= u^n + \\frac{\\Delta t}{3} \\left( \\tilde{\\phi}v^n - i\\frac{cK}{\\Delta x}\\left(\\beta_1\\bar{\\eta}^{n+1/3} + (1-\\beta_1)\\eta^n\\right) \\right) \\\\\n",
    "    \\bar{v}^{n+1/3} &= v^n + \\frac{\\Delta t}{3} \\left( -\\tilde{\\phi}u^n - i\\frac{cL}{\\Delta y}\\left(\\beta_1\\bar{\\eta}^{n+1/3} + (1-\\beta_1)\\eta^n\\right) \\right) \\\\\n",
    "    & \\\\\n",
    "    \\bar{\\eta}^{n+1/2} &= \\eta^n - i \\frac{\\Delta t}{2} \\left( \\frac{cK}{\\Delta x}\\bar{u}^{n+1/3} + \\frac{cL}{\\Delta y}\\bar{v}^{n+1/3} \\right) \\\\\n",
    "    \\bar{u}^{n+1/2} &= u^n + \\frac{\\Delta t}{2} \\left( \\tilde{\\phi}\\bar{v}^{n+1/3} - i\\frac{cK}{\\Delta x}\\left(\\beta_2\\bar{\\eta}^{n+1/2} + (1-\\beta_2)\\eta^n\\right) \\right) \\\\\n",
    "    \\bar{v}^{n+1/2} &= v^n + \\frac{\\Delta t}{2} \\left( -\\tilde{\\phi}\\bar{u}^{n+1/3} - i\\frac{cL}{\\Delta y}\\left(\\beta_2\\bar{\\eta}^{n+1/2} + (1-\\beta_2)\\eta^n\\right) \\right) \\\\\n",
    "    & \\\\\n",
    "    \\eta^{n+1} &= \\eta^n - i \\Delta t \\left( \\frac{cK}{\\Delta x}\\bar{u}^{n+1/2} + \\frac{cL}{\\Delta y}\\bar{v}^{n+1/2} \\right) \\\\\n",
    "    u^{n+1} &= u^n + \\Delta t \\left( \\tilde{\\phi}\\bar{v}^{n+1/2} - i\\frac{cK}{\\Delta x}\\left(\\beta_3\\eta^{n+1} + (1-2\\beta_3)\\bar{\\eta}^{n+1/2} + \\beta_3\\eta^n\\right) \\right) \\\\\n",
    "    v^{n+1} &= v^n + \\Delta t \\left( -\\tilde{\\phi}\\bar{u}^{n+1/2} - i\\frac{cL}{\\Delta y}\\left(\\beta_3\\eta^{n+1} + (1-2\\beta_3)\\bar{\\eta}^{n+1/2} + \\beta_3\\eta^n\\right) \\right).\n",
    "\\end{align*}\n",
    "\n",
    "Our goal here is to maximize the Courant numbers $\\nu_x = c\\frac{\\Delta t}{\\Delta x}$ and $\\nu_y = c\\frac{\\Delta t}{\\Delta y}$. So that we can bake these into our notation, we take $\\phi = \\Delta t \\tilde{\\phi} = \\Delta t f \\cos\\left(k\\frac{\\Delta x}{2}\\right)\\cos\\left(\\ell\\frac{\\Delta y}{2}\\right)$ rewrite the above as\n",
    "\\begin{align*}\n",
    "    \\bar{\\eta}^{n+1/3} &= \\eta^n - \\frac{1}{3} \\left( iK \\nu_x u^n + iL \\nu_y v^n \\right) \\\\\n",
    "    \\bar{u}^{n+1/3} &= u^n + \\frac{1}{3} \\left( \\phi v^n - iK\\nu_x \\left(\\beta_1\\bar{\\eta}^{n+1/3} + (1-\\beta_1)\\eta^n\\right) \\right) \\\\\n",
    "    \\bar{v}^{n+1/3} &= v^n + \\frac{1}{3} \\left( -\\phi u^n - iL\\nu_y \\left(\\beta_1\\bar{\\eta}^{n+1/3} + (1-\\beta_1)\\eta^n\\right) \\right) \\\\\n",
    "    & \\\\\n",
    "    \\bar{\\eta}^{n+1/2} &= \\eta^n - \\frac{1}{2} \\left( iK\\nu_x  \\bar{u}^{n+1/3} + iL\\nu_y \\bar{v}^{n+1/3} \\right) \\\\\n",
    "    \\bar{u}^{n+1/2} &= u^n + \\frac{1}{2} \\left( \\phi\\bar{v}^{n+1/3} - iK\\nu_x  \\left(\\beta_2\\bar{\\eta}^{n+1/2} + (1-\\beta_2)\\eta^n\\right) \\right) \\\\\n",
    "    \\bar{v}^{n+1/2} &= v^n + \\frac{1}{2} \\left( -\\phi\\bar{u}^{n+1/3} - iL\\nu_y  \\left(\\beta_2\\bar{\\eta}^{n+1/2} + (1-\\beta_2)\\eta^n\\right) \\right) \\\\\n",
    "    & \\\\\n",
    "    \\eta^{n+1} &= \\eta^n - \\left( iK\\nu_x \\bar{u}^{n+1/2} + iL\\nu_y \\bar{v}^{n+1/2} \\right) \\\\\n",
    "    u^{n+1} &= u^n + \\left( \\phi\\bar{v}^{n+1/2} - iK\\nu_x \\left(\\beta_3\\eta^{n+1} + (1-2\\beta_3)\\bar{\\eta}^{n+1/2} + \\beta_3\\eta^n\\right) \\right) \\\\\n",
    "    v^{n+1} &= v^n + \\left( -\\phi\\bar{u}^{n+1/2} - iL\\nu_y \\left(\\beta_3\\eta^{n+1} + (1-2\\beta_3)\\bar{\\eta}^{n+1/2} + \\beta_3\\eta^n\\right) \\right).\n",
    "\\end{align*}\n",
    "\n",
    "Note: To revert the above to a point where there was no spatial discretization (i.e. continuous in space), we can simply take $K = k \\Delta x$, $L = \\ell \\Delta y$, and $\\phi = \\Delta t f$."
   ]
  },
  {
   "cell_type": "code",
   "execution_count": 2,
   "id": "80c33d2e",
   "metadata": {
    "scrolled": true
   },
   "outputs": [],
   "source": [
    "from sympy import *\n",
    "import scipy as sp\n",
    "import numpy as np\n",
    "import matplotlib.pyplot as plt\n",
    "%matplotlib inline\n",
    "\n",
    "\n",
    "# define relevent symbols \n",
    "#     _u = u^n, _v = v^n, _eta = \\eta^n\n",
    "#     U1 = \\bar{u}^{n+1/3}, V1 = \\bar{v}^{n+1/3}, ETA1= \\bar{\\eta}^{n+1/3}\n",
    "#     U2 = \\bar{u}^{n+1/2}, V2 = \\bar{v}^{n+1/2}, ETA2= \\bar{\\eta}^{n+1/2}\n",
    "#     u = u^{n+1}, v = v^{n+1}, eta = \\eta^{n+1}\n",
    "_u, _v, _eta = symbols('u^n v^n eta^n')\n",
    "lam, beta1, beta2, beta3 = symbols('lambda beta_1 beta_2 beta_3')\n",
    "nux, nuy, K, L, phi = symbols('nu_x nu_y K L phi')\n",
    "\n",
    "\n",
    "# RK(3,2)-FB \n",
    "ETA1 = _eta - (1/3) * ( I*K*nux*_u + I*L*nuy*_v )\n",
    "U1 = _u + (1/3) * ( phi*_v - I*nux*K*( beta1*ETA1 + (1-beta1)*_eta ) )\n",
    "V1 = _v + (1/3) * ( -phi*_u - I*nuy*L*( beta1*ETA1 + (1-beta1)*_eta ) )\n",
    "\n",
    "ETA2 = _eta - (1/2) * ( I*K*nux*U1 + I*L*nuy*V1 )\n",
    "U2 = _u + (1/2) * ( phi*V1 - I*K*nux*( beta2*ETA2 + (1-beta2)*_eta ) )\n",
    "V2 = _v + (1/2) * ( -phi*U1 - I*L*nuy*( beta2*ETA2 + (1-beta2)*_eta ) )\n",
    "\n",
    "eta = _eta - ( I*K*nux*U2 + I*L*nuy*V2 )\n",
    "u = _u + ( phi*V2 - I*K*nux*( beta3*eta + (1-2*beta3)*ETA2 + beta3*_eta ) )\n",
    "v = _v + ( -phi*U2 - I*L*nuy*( beta3*eta + (1-2*beta3)*ETA2 + beta3*_eta ) )\n",
    "\n",
    "#eta = eta.simplify()\n",
    "#u = u.simplify()\n",
    "#v = v.simplify()"
   ]
  },
  {
   "cell_type": "markdown",
   "id": "b0a27706",
   "metadata": {},
   "source": [
    "## Amplification matrices\n",
    "\n",
    "Now, we have a system of linear equations in $\\eta^n$, $u^n$, and $v^n$. We can find the amplification matrix for the scheme by writing it in the form\n",
    "$$ \\mathbf{w}^{n+1} = G \\mathbf{w}^n, $$\n",
    "where $G$ is the amplification matrix and $\\mathbf{w}^n = (u^n, v^n, \\eta^n)^T$.\n",
    "\n",
    "We care about the amplification matrix $G$ as it follows from the above that $\\mathbf{w}^n = G^n \\mathbf{w}^0$. In turn, it follows that the solution $\\mathbf{w}^n$ is bounded as $n \\to \\infty$ if and only if $||G^n||$ is bounded as $n \\to \\infty$."
   ]
  },
  {
   "cell_type": "code",
   "execution_count": 3,
   "id": "330c812f",
   "metadata": {},
   "outputs": [],
   "source": [
    "# create the amplification matrix G\n",
    "_w = [_u, _v, _eta]\n",
    "w = [u, v, eta]\n",
    "_G, _ = linear_eq_to_matrix(w, _w)\n",
    "\n",
    "# We are going to store G as a numpy ndarray, rather than a sympy\n",
    "# matrix as we have in previous notebooks because the symbolic\n",
    "# representation is too complicated to be meaningful and this\n",
    "# is much faster.\n",
    "x = [nux, nuy, beta1, beta2, beta3, K , L, phi]\n",
    "_calcG = lambdify(x, _G)"
   ]
  },
  {
   "cell_type": "markdown",
   "id": "093576a1",
   "metadata": {},
   "source": [
    "Normally, we would now be interested in the eigenvalues of $G$ given that it can be shown that as long as $G$ is diagonalizable, then $||G^n||$ is bounded if and only if each eigenvalue $\\lambda$ of $G$ is such that $|\\lambda| \\leq 1$. However, we are first interested in choosing the \"optimal\" FB feedback coefficients $\\beta_i$.\n",
    "\n",
    "To do this, we first need to know the eigenvalues of the amplification matrix in the continuous problem. The continuous problem can be written as\n",
    "$$ \\frac{\\partial}{\\partial t} \\begin{pmatrix}\n",
    "    u \\\\ v \\\\ \\eta\n",
    "\\end{pmatrix} = \\begin{pmatrix}\n",
    "    0 & f & -ick \\\\ -f & 0 & -ic\\ell \\\\ -ick & -ic\\ell & 0\n",
    "\\end{pmatrix} \\begin{pmatrix}\n",
    "    u \\\\ v \\\\ \\eta\n",
    "\\end{pmatrix}. $$\n",
    "\n",
    "It can be shown that the general solution to the system is\n",
    "$$ \\begin{pmatrix}\n",
    "    u(t) \\\\ v(t) \\\\ \\eta(t)\n",
    "\\end{pmatrix} = e^{ At }\\begin{pmatrix}\n",
    "    u(0) \\\\ v(0) \\\\ \\eta(0)\n",
    "\\end{pmatrix}, $$\n",
    "where\n",
    "$$ A = \\begin{pmatrix}\n",
    "    0 & f & -ick \\\\ -f & 0 & -ic\\ell \\\\ -ick & -ic\\ell & 0\n",
    "\\end{pmatrix}. $$\n",
    "\n",
    "Now, consider the general solution of the system after exactly one time-step, i.e. at  time $t = \\Delta t$. Then,\n",
    "\\begin{align*}\n",
    "    A \\Delta t &= \\begin{pmatrix}\n",
    "        0 & f \\Delta t & -ic\\Delta t k \\\\ \n",
    "        -f \\Delta t & 0 & -ic\\Delta t \\ell \\\\ \n",
    "        -ic\\Delta t k & -ic\\Delta t\\ell & 0\n",
    "    \\end{pmatrix} \\\\\n",
    "    &= \\begin{pmatrix}\n",
    "        0 & f \\Delta t & -i\\tilde{K}\\nu_x \\\\ \n",
    "        -f \\Delta t & 0 & -i\\tilde{L}\\nu_y \\\\ \n",
    "        -i\\tilde{K}\\nu_x & -i\\tilde{L}\\nu_y & 0\n",
    "    \\end{pmatrix}.\n",
    "\\end{align*}\n",
    "where $\\tilde{K} = k \\Delta x$ and $\\tilde{L} = \\ell \\Delta y$. The final step in the above is done so that we can have the Courant numbers $\\nu_x$ and $\\nu_y$ baked directly into the notation.\n",
    "\n",
    "Let $\\tilde{G} = e^{A\\Delta t}$. This is the exact amplification matrix we wish to \"approximate\" by our numerical amplification matrix $G$."
   ]
  },
  {
   "cell_type": "code",
   "execution_count": 4,
   "id": "cb8c21fd",
   "metadata": {},
   "outputs": [],
   "source": [
    "# We build Gtilde using scipy, not sympy -- the symbolic calculation\n",
    "# of e^{A\\Delta t} takes too long (~4 hours). The symbolic expression \n",
    "# is too complicated to be meaningful to a human anyway.\n",
    "def _calcGtilde(nux, nuy, Ktilde, Ltilde, fdt):\n",
    "    Adt = np.matrix( [[0, fdt, -1j*Ktilde*nux],\n",
    "                      [-fdt, 0, -1j*Ltilde*nuy],\n",
    "                      [-1j*Ktilde*nux, -1j*Ltilde*nuy, 0]] )\n",
    "    return sp.linalg.expm(Adt)\n",
    "# END calcGtilde()"
   ]
  },
  {
   "cell_type": "markdown",
   "id": "a9a0bf82",
   "metadata": {},
   "source": [
    "## Statement of the optimization problem\n",
    "\n",
    "Now we can clearly state our goal: Choose the FBFCs $\\beta_i$ so that the eigenvalues of the numerical amplification matrix $G$ approximate the eigenvalues of $\\tilde{G} = e^{A\\Delta t}$ while maximizing the Courant numbers $\\nu_x$ and $\\nu_y$. To do this, we are going to solve a numerical optimization problem.\n",
    "\n",
    "Let $\\nu_x^\\text{max}$ and $\\nu_y^\\text{max}$ be the maximum allowable Courant numbers for stability of the method. These depend on our choice of the FBFCs $\\beta_i$. We can maximize\n",
    "$\\nu_*^\\text{max}$ by minimizing an appropriate cost function\n",
    "$$ C = C(\\nu_x^\\text{max}, \\nu_y^\\text{max}, \\beta_1, \\beta_2, \\beta_3), $$\n",
    "subject to the restriction that eigenvalues of $G$, $\\lambda = \\lambda(\\nu_x, \\nu_y, \\beta_1, \\beta_2, \\beta_3)$, are such that\n",
    "$$ |\\lambda(\\nu_x, \\nu_y, \\beta_1, \\beta_2, \\beta_3)| \\leq 1 \\qquad \\forall\\ (\\nu_x, \\nu_y) \\in (0, \\nu_x^\\text{max}] \\times (0, \\nu_y^\\text{max}]. $$\n",
    "\n",
    "### Simplifying assumptions\n",
    "\n",
    "Before we can move forward, we need to address the additional parameters that both $\\tilde{G}$ and $G$ depend on. These are:\n",
    "\\begin{align*}\n",
    "    \\tilde{K} &= k\\Delta x \\\\\n",
    "    \\tilde{L} &= \\ell\\Delta y \\\\\n",
    "    & \\\\\n",
    "    K &= 2\\sin\\left(k\\frac{\\Delta x}{2}\\right) \\\\\n",
    "    L &= 2\\sin\\left(\\ell\\frac{\\Delta y}{2}\\right) \\\\\n",
    "    & \\\\\n",
    "    \\phi &= f\\Delta t \\cos\\left(k\\frac{\\Delta x}{2}\\right)\\cos\\left(\\ell\\frac{\\Delta y}{2}\\right)\n",
    "\\end{align*}\n",
    "We need to fix these values so that they are not counted as free parameters in the optimization problem. We are going to make some arbitrary choices here, so this part would be good to discuss and revisit later.\n",
    "\n",
    "First, make the simplifying assumption that $\\nu_x = \\nu_y = \\nu$ so that we have a single Courant number (this means that we have a square spatial grid). Further, assume that $k = \\ell$ (later we could try $k = F(\\ell)$ for some function $F$). Under these assumptions, we have that\n",
    "\\begin{align*}\n",
    "    \\tilde{K} &= \\tilde{L} \\\\\n",
    "    K &= L \\\\\n",
    "    \\phi &= f \\Delta t \\cos^2\\left(k\\frac{\\Delta x}{2}\\right).\n",
    "\\end{align*}\n",
    "\n",
    "Let's (arbitrarily) choose to fix $\\tilde{K} = k \\Delta x = \\frac{\\pi}{2}$. It then follows that $K = 2\\sin\\left( k\\frac{\\Delta x}{2} \\right) = \\sqrt{2}$ and $\\phi = f \\Delta t \\cos^2\\left(k\\frac{\\Delta x}{2}\\right) = \\frac{f\\Delta t}{2}$. We will chose $f\\Delta t = \\frac{1}{2}$ to match with some analysis done in Bob's paper titled \"A two-level time-stepping scheme for layered ocean circulation models\". So, we have\n",
    "\\begin{align*}\n",
    "    \\tilde{K} = \\tilde{L} &= \\frac{\\pi}{2} \\\\\n",
    "    K = L &= \\sqrt{2} \\\\\n",
    "    f\\Delta t &= \\frac{1}{2} \\\\\n",
    "    \\phi &= \\frac{1}{4}.\n",
    "\\end{align*}\n",
    "\n",
    "As can be seen in the cell below, we only need to fix values for $\\tilde{K}$ and $f\\Delta t$, then values for the other parameters follow."
   ]
  },
  {
   "cell_type": "code",
   "execution_count": 5,
   "id": "804f3fd0",
   "metadata": {},
   "outputs": [],
   "source": [
    "KtildeVal = np.pi/2\n",
    "LtildeVal = KtildeVal\n",
    "fdtVal = 1/2\n",
    "\n",
    "KVal = 2*np.sin(KtildeVal/2)\n",
    "LVal = KVal\n",
    "phiVal = fdtVal*np.cos(KtildeVal/2)*np.cos(LtildeVal/2)\n",
    "\n",
    "G = lambda nu, beta1, beta2, beta3: _calcG(nu, nu, beta1, beta2, beta3, KVal, LVal, phiVal)\n",
    "Gtilde = lambda nu: _calcGtilde(nu, nu, KtildeVal, LtildeVal, fdtVal)"
   ]
  },
  {
   "cell_type": "markdown",
   "id": "cd4cd7a7",
   "metadata": {},
   "source": [
    "## Darren's FBFCs\n",
    "\n",
    "Darren found that the choices of\n",
    "\\begin{align*}\n",
    "    \\beta_1 &= \\frac{1}{3} \\\\\n",
    "    \\beta_2 &= \\frac{1}{2} \\\\\n",
    "    \\beta_3 &= \\frac{89}{300}\n",
    "\\end{align*}\n",
    "seem to give a large Courant number and an admittable $\\Delta t$ of `dt = 225.0` seconds for his test problem. As a point of comparison, SSPRK3 can take a maximum time-step of `dt = 114.0` seconds. \n",
    "\n",
    "These choices for $\\beta_i$ in the current frame work give us the following:"
   ]
  },
  {
   "cell_type": "code",
   "execution_count": 14,
   "id": "88d0cf2b",
   "metadata": {},
   "outputs": [],
   "source": [
    "# Define a function to sort eigenvalues so we know which to compare\n",
    "def parseEigVals(eigVals):\n",
    "    eigValDict = {}\n",
    "    reals = []\n",
    "    for eigVal in eigVals:\n",
    "        if np.isclose(eigVal, 1.0+0.0j):\n",
    "            eigValDict['one'] = eigVal\n",
    "        elif not np.isclose(eigVal.imag, 0.0):\n",
    "            if eigVal.imag > 0:\n",
    "                eigValDict['pos'] = eigVal\n",
    "            else:\n",
    "                eigValDict['neg'] = eigVal\n",
    "        else:\n",
    "            reals.append(eigVal.real)\n",
    "            eigValDict['real'] = reals\n",
    "        # END if\n",
    "    # END for\n",
    "    return eigValDict\n",
    "#END parseEigVals()\n",
    "\n",
    "\n",
    "# Define a function to create a plot comparing exact/numerical eigenvalues\n",
    "def eigValPlot(Gtilde, G, a=-16, b=16, delta=1e-2, nuDotLimit=np.pi/3):\n",
    "    fig, ax = plt.subplots(1)\n",
    "\n",
    "    ax.spines['left'].set_position('center')\n",
    "    ax.spines['right'].set_color('none')\n",
    "    ax.spines['bottom'].set_position('center')\n",
    "    ax.spines['top'].set_color('none')\n",
    "\n",
    "    axLim = 1.5\n",
    "    ax.set_xlim(-axLim, axLim)\n",
    "    ax.set_ylim(-axLim, axLim)\n",
    "    ax.set_aspect(1)\n",
    "\n",
    "    unitCircle = plt.Circle((0, 0), 1, fill=False, color='orange')\n",
    "    ax.add_artist(unitCircle)\n",
    "\n",
    "    approx_real = []\n",
    "    approx_imag = []\n",
    "    badNus =[]\n",
    "    count = 0\n",
    "\n",
    "    for k in np.arange(a, b, delta):\n",
    "        nu = k*np.pi/16\n",
    "        # get complex values for exact and approx eigen values\n",
    "        GtildeEigVals = parseEigVals( sp.linalg.eigvals( Gtilde(nu) ) )\n",
    "        GEigVals = parseEigVals( sp.linalg.eigvals( G(nu) ) )\n",
    "\n",
    "        if np.isclose(nu, 0):\n",
    "            exact = GtildeEigVals['one']\n",
    "            approx = GEigVals['one']\n",
    "            #approx = GEigVals['real'][0]\n",
    "        else:\n",
    "            key = 'pos' if nu > 0 else 'neg'\n",
    "            exact = GtildeEigVals[key]\n",
    "            if 'real' not in GEigVals.keys():\n",
    "                approx = GEigVals[key]\n",
    "            else:\n",
    "                if len(GEigVals['real']) == 1:\n",
    "                    approx = GEigVals['real'][0]\n",
    "                else:\n",
    "                    ind = 1 if nu >= 0 else 0\n",
    "                    approx = GEigVals['real'][ind]\n",
    "                # END if\n",
    "            # END if\n",
    "        # END if\n",
    "        approx_real.append( approx.real )\n",
    "        approx_imag.append( approx.imag )\n",
    "        \n",
    "        absValApprox = sqrt(approx.real**2 + approx.imag**2)\n",
    "        if absValApprox > 1: badNus.append(nu) \n",
    "        \n",
    "        if ( np.isclose(k%1, 0) or np.isclose(k%1, 1) ) and np.abs(nu) <= nuDotLimit:\n",
    "            # plot exact and approx eigen values\n",
    "            colo = 'blue' if absValApprox <= 1 else 'red'\n",
    "            ax.scatter(exact.real, exact.imag, marker='o', color='orange')\n",
    "            ax.scatter(approx.real, approx.imag, marker='*', color=colo)\n",
    "            # connect exact to approx with dashed line\n",
    "            reals = [approx.real, exact.real]\n",
    "            imags = [approx.imag, exact.imag]\n",
    "            ax.plot(reals, imags, color='black', linestyle='dashed', linewidth=0.75, alpha=0.5)\n",
    "        # END if\n",
    "    # END for\n",
    "\n",
    "    ax.plot(approx_real, approx_imag, color='blue')\n",
    "    try:\n",
    "        print( 'nu^max ~ {}'.format( np.min(np.abs(badNus)) ) )\n",
    "    except: pass\n",
    "# END eigValPlot()"
   ]
  },
  {
   "cell_type": "code",
   "execution_count": 15,
   "id": "035547c2",
   "metadata": {},
   "outputs": [
    {
     "name": "stdout",
     "output_type": "stream",
     "text": [
      "nu^max ~ 1.7612553814186729\n"
     ]
    },
    {
     "data": {
      "image/png": "[encoded data removed]",
      "text/plain": [
       "<Figure size 640x480 with 1 Axes>"
      ]
     },
     "metadata": {},
     "output_type": "display_data"
    }
   ],
   "source": [
    "optG = lambda nu: G(nu, 1/3, 1/2, 89/300)\n",
    "\n",
    "eigValPlot(Gtilde, optG, nuDotLimit=np.pi/2.25)"
   ]
  },
  {
   "cell_type": "markdown",
   "id": "082e9200",
   "metadata": {},
   "source": [
    "## Setup for the optimization problem\n",
    "\n",
    "Recall that the primary constraint on our optimization problem is that\n",
    "$$ |\\lambda(\\nu_x, \\nu_y, \\beta_1, \\beta_2, \\beta_3)| \\leq 1 \\qquad \\forall\\ (\\nu_x, \\nu_y) \\in (0, \\nu_x^\\text{max}] \\times (0, \\nu_y^\\text{max}]. $$\n",
    "\n",
    "As described above, we are using the simplifying assumption that $\\nu_x = \\nu_y = \\nu$, so this becomes\n",
    "$$ |\\lambda(\\nu, \\beta_1, \\beta_2, \\beta_3)| \\leq 1 \\qquad \\forall\\ \\nu \\in (0, \\nu^\\text{max}]. $$\n",
    "In practice, we check this condition by checking the absolute value of the eigenvalues on a grid in $\\nu$, i.e. we check\n",
    "$$ |\\lambda(\\nu, \\beta_1, \\beta_2, \\beta_3)| \\leq 1 \\qquad \\forall \\nu = \\delta, 2\\delta, 3\\delta, \\cdots \\nu^\\text{max}, $$\n",
    "where $\\delta$ is a user-defined step-size in `eigValMax()` (defined below), the smaller $\\delta$ is, the longer the numerical optimization takes to execute."
   ]
  },
  {
   "cell_type": "code",
   "execution_count": 8,
   "id": "bdab8503",
   "metadata": {},
   "outputs": [],
   "source": [
    "# Require that |lambda| <= 1 for all 0 < nu <= nu^max\n",
    "def eigValMax(x): # x = [nu_max, beta1, beta2, beta3]\n",
    "    delta = np.pi/256\n",
    "    absList = []\n",
    "    \n",
    "    nus = np.arange(delta, x[0], delta)\n",
    "    if x[0] not in nus: nus = np.append(nus, x[0])\n",
    "    \n",
    "    for nu in nus:\n",
    "        eigVals = sp.linalg.eigvals( G(nu, x[1], x[2], x[3]) )\n",
    "        for eigVal in eigVals:\n",
    "            if not np.isclose(eigVal, 1.0+0.0j):\n",
    "                absList.append( np.abs(eigVal) )\n",
    "            else:\n",
    "                absList.append(1.0)\n",
    "        # END for\n",
    "    # END for\n",
    "    return np.max(absList)\n",
    "# END eigValMax()\n",
    "\n",
    "# Set up the contraints for scipy.optimize.shgo()\n",
    "eigValCons = lambda x: 1 - eigValMax(x) # >= 0\n",
    "cons = [{'type': 'ineq', 'fun': eigValCons}]"
   ]
  },
  {
   "cell_type": "markdown",
   "id": "ecad1e5d",
   "metadata": {},
   "source": [
    "### A cost function\n",
    "\n",
    "Our first choice of cost function will be\n",
    "$$ C_1(\\nu^\\text{max}, \\beta_1, \\beta_2, \\beta_3) = \\frac{1}{\\nu^\\text{max}} + \\int_{0}^{\\frac{\\pi}{3}} \\left| \\lambda_\\text{exact}(\\nu) - \\lambda(\\nu, \\beta_1, \\beta_2, \\beta_3) \\right| \\text{d}\\nu. $$\n",
    "The first term asks that $\\nu^\\text{max}$ be as large as possible, while the second term asks that, over the given bounds, the absolute difference between the eigenvalues of $\\tilde{G}$ and $G$ be as small as possible.\n",
    "\n",
    "In practice, the integral term in the above will be evaluated as a simple sum (though we could consider doing a quadrature of some sort if we really wanted to). This is implemented below in `eigValDiffSum()`."
   ]
  },
  {
   "cell_type": "code",
   "execution_count": 9,
   "id": "7454d6a8",
   "metadata": {},
   "outputs": [],
   "source": [
    "# Define a function that gives a measure of how close the numerical eigenvalues are\n",
    "# to their exact counterparts, we want this to be small for given nu_max and beta_i\n",
    "def eigValDiffSum(x, a=0, b=np.pi/3):\n",
    "    delta = np.pi/64\n",
    "    diffSum = 0\n",
    "    \n",
    "    nus = np.arange(a, b, delta)\n",
    "    for nu in nus:\n",
    "        GtildeEigVals = parseEigVals( sp.linalg.eigvals( Gtilde(nu) ) )\n",
    "        GEigVals = parseEigVals( sp.linalg.eigvals( G(nu, x[1], x[2], x[3]) ) )\n",
    "        \n",
    "        if np.isclose(nu, 0):\n",
    "            diffSum += 0\n",
    "        elif 'real' not in GEigVals.keys():\n",
    "            key = 'pos' if nu >= 0 else 'neg'\n",
    "            diffSum += np.abs( GtildeEigVals[key] - GEigVals[key] )\n",
    "        else:\n",
    "            try:\n",
    "                diffSum += np.min([ np.abs( GtildeEigVals['pos'] - GEigVals['real'][0] ),\n",
    "                                   np.abs( GtildeEigVals['pos'] - GEigVals['real'][1] ) ])\n",
    "            except: \n",
    "                diffSum += np.abs( GtildeEigVals['pos'] - GEigVals['real'][0] )\n",
    "            # END try\n",
    "        # END if\n",
    "    # END for\n",
    "    return delta*diffSum\n",
    "# END eigValDiffSum()"
   ]
  },
  {
   "cell_type": "markdown",
   "id": "a03c946f",
   "metadata": {},
   "source": [
    "Now, we can use `scipy.optimize.shgo()` to find a numerical solution to the optimization problem stated above. This is a global optimization scheme and seems to be much more robust than `scipy.optimize.minimize()` which only acts as a local optimizer."
   ]
  },
  {
   "cell_type": "code",
   "execution_count": 10,
   "id": "bba63526",
   "metadata": {},
   "outputs": [
    {
     "data": {
      "text/plain": [
       "     fun: 0.7368263550867944\n",
       "    funl: array([0.73682636])\n",
       " message: 'Optimization terminated successfully.'\n",
       "    nfev: 508\n",
       "     nit: 3\n",
       "   nlfev: 500\n",
       "   nlhev: 0\n",
       "   nljev: 100\n",
       " success: True\n",
       "       x: array([2.        , 0.51871142, 0.5       , 0.32281252])\n",
       "      xl: array([[2.        , 0.51871142, 0.5       , 0.32281252]])"
      ]
     },
     "execution_count": 10,
     "metadata": {},
     "output_type": "execute_result"
    }
   ],
   "source": [
    "res = {}\n",
    "\n",
    "cost = lambda x: 1/x[0] + eigValDiffSum(x)\n",
    "bounds = [(1, 3), (0, 1), (0, 1), (0, 1)]\n",
    "res['C1'] = sp.optimize.shgo(cost, bounds, constraints=cons, iters=3)\n",
    "res['C1']"
   ]
  },
  {
   "cell_type": "code",
   "execution_count": 16,
   "id": "73a9a861",
   "metadata": {},
   "outputs": [
    {
     "name": "stdout",
     "output_type": "stream",
     "text": [
      "nu^max ~ 2.0008018212548904\n"
     ]
    },
    {
     "data": {
      "image/png": "[encoded data removed]",
      "text/plain": [
       "<Figure size 640x480 with 1 Axes>"
      ]
     },
     "metadata": {},
     "output_type": "display_data"
    }
   ],
   "source": [
    "vals = res['C1'].x\n",
    "optG = lambda nu: G(nu, vals[1], vals[2], vals[3])\n",
    "\n",
    "eigValPlot(Gtilde, optG, nuDotLimit=np.pi/2.5)"
   ]
  },
  {
   "cell_type": "markdown",
   "id": "9217b3d8",
   "metadata": {},
   "source": [
    "With these choices of FBFCs, we can take a maximum time-step of `dt = 197.0` seconds on the barotropic jet test case in `swe-python`.\n",
    "\n",
    "Next, we try a different cost function, this time\n",
    "$$ C_1(\\nu^\\text{max}, \\beta_1, \\beta_2, \\beta_3) = \\frac{1}{\\nu^\\text{max}}. $$"
   ]
  },
  {
   "cell_type": "code",
   "execution_count": 12,
   "id": "52d97841",
   "metadata": {},
   "outputs": [
    {
     "data": {
      "text/plain": [
       "     fun: 0.5\n",
       "    funl: array([0.5       , 0.5       , 0.5       , 0.5       , 0.55240664,\n",
       "       0.66666667, 0.66666667, 0.66666667, 0.66666667, 0.6666667 ,\n",
       "       0.6721109 , 0.68162425, 0.68182162, 0.68182164, 0.68312847,\n",
       "       0.68457232, 0.68627623, 0.68937581, 0.69157861, 0.69403168,\n",
       "       0.69557569, 0.69746918, 0.70708693, 0.707106  , 0.70768161,\n",
       "       0.70829767, 0.70840977, 0.70853933, 0.70891386, 0.70953033,\n",
       "       0.7107321 , 0.71123835, 0.71244948, 0.72334326, 0.72338952,\n",
       "       0.72496151, 0.72945562, 0.73369625, 0.74322732, 0.75050432,\n",
       "       0.7520797 , 0.7603726 ])\n",
       " message: 'Optimization terminated successfully.'\n",
       "    nfev: 18454\n",
       "     nit: 5\n",
       "   nlfev: 17951\n",
       "   nlhev: 0\n",
       "   nljev: 2796\n",
       " success: True\n",
       "       x: array([2.        , 0.29786101, 0.43242493, 0.40747803])\n",
       "      xl: array([[2.00000000e+00, 2.97861009e-01, 4.32424928e-01, 4.07478028e-01],\n",
       "       [2.00000000e+00, 2.22507908e-01, 3.95799885e-01, 4.31115181e-01],\n",
       "       [2.00000000e+00, 6.87500000e-01, 5.62500000e-01, 3.12500000e-01],\n",
       "       [2.00000000e+00, 5.63037564e-01, 5.62424266e-01, 3.14520252e-01],\n",
       "       [1.81026065e+00, 3.96682186e-16, 4.33690445e-01, 3.08842474e-01],\n",
       "       [1.50000000e+00, 9.36709866e-01, 9.36658870e-01, 1.84998866e-01],\n",
       "       [1.50000000e+00, 3.22951339e-01, 6.35716657e-01, 5.24414810e-01],\n",
       "       [1.50000000e+00, 9.37500000e-01, 8.12500000e-01, 1.87500000e-01],\n",
       "       [1.50000000e+00, 3.16773639e-01, 6.28534744e-01, 6.52038607e-01],\n",
       "       [1.49999993e+00, 6.24999951e-01, 8.75000000e-01, 3.07409054e-01],\n",
       "       [1.48784970e+00, 2.50000000e-01, 6.25000000e-01, 3.75000000e-01],\n",
       "       [1.46708395e+00, 2.50000000e-01, 5.00000000e-01, 8.75000000e-01],\n",
       "       [1.46665926e+00, 6.25018515e-01, 6.59005806e-01, 1.25000000e-01],\n",
       "       [1.46665922e+00, 6.22808570e-01, 6.59516792e-01, 1.25000000e-01],\n",
       "       [1.46385349e+00, 5.00000000e-01, 7.50000000e-01, 2.50000000e-01],\n",
       "       [1.46076605e+00, 7.50001257e-01, 6.33105198e-01, 1.25000000e-01],\n",
       "       [1.45713921e+00, 4.99999990e-01, 6.93787276e-01, 1.25000000e-01],\n",
       "       [1.45058760e+00, 5.52248166e-01, 8.75000003e-01, 3.75000007e-01],\n",
       "       [1.44596723e+00, 3.75000000e-01, 3.79004328e-01, 5.00000000e-01],\n",
       "       [1.44085642e+00, 3.75000000e-01, 5.00000000e-01, 5.00000000e-01],\n",
       "       [1.43765807e+00, 3.75000000e-01, 6.25000000e-01, 5.00000000e-01],\n",
       "       [1.43375510e+00, 2.50000000e-01, 6.25000000e-01, 5.00000000e-01],\n",
       "       [1.41425327e+00, 3.74775544e-01, 7.50000000e-01, 1.26956508e-01],\n",
       "       [1.41421513e+00, 3.82654010e-01, 7.50000000e-01, 1.25000000e-01],\n",
       "       [1.41306484e+00, 5.00000000e-01, 7.50000000e-01, 1.25000000e-01],\n",
       "       [1.41183579e+00, 6.25000000e-01, 7.50000000e-01, 1.25000000e-01],\n",
       "       [1.41161238e+00, 1.25000000e-01, 6.25000000e-01, 3.75000000e-01],\n",
       "       [1.41135425e+00, 3.75000000e-01, 7.50000000e-01, 2.50000000e-01],\n",
       "       [1.41060861e+00, 7.50000000e-01, 7.50000000e-01, 1.25000000e-01],\n",
       "       [1.40938302e+00, 8.75000000e-01, 7.50000000e-01, 1.25000000e-01],\n",
       "       [1.40699990e+00, 3.75000000e-01, 7.50000000e-01, 3.75000000e-01],\n",
       "       [1.40599843e+00, 6.25000000e-01, 8.75000000e-01, 2.50000000e-01],\n",
       "       [1.40360829e+00, 2.50000000e-01, 7.50000000e-01, 1.54476482e-01],\n",
       "       [1.38246950e+00, 1.00000000e+00, 8.75000000e-01, 1.25000000e-01],\n",
       "       [1.38238111e+00, 1.25000000e-01, 7.50001301e-01, 1.78316451e-01],\n",
       "       [1.37938357e+00, 3.75000000e-01, 3.75000000e-01, 6.25000000e-01],\n",
       "       [1.37088532e+00, 2.50000000e-01, 7.50000000e-01, 2.50000000e-01],\n",
       "       [1.36296186e+00, 8.75000000e-01, 8.75000000e-01, 1.25000000e-01],\n",
       "       [1.34548337e+00, 7.50000000e-01, 8.75000000e-01, 1.25000000e-01],\n",
       "       [1.33243737e+00, 5.00000000e-01, 8.75000000e-01, 2.50000000e-01],\n",
       "       [1.32964630e+00, 6.25000000e-01, 8.75000000e-01, 1.25000000e-01],\n",
       "       [1.31514471e+00, 5.00000000e-01, 8.75000000e-01, 1.25000000e-01]])"
      ]
     },
     "execution_count": 12,
     "metadata": {},
     "output_type": "execute_result"
    }
   ],
   "source": [
    "cost = lambda x: 1/x[0]\n",
    "bounds = [(1, 5), (0, 1), (0, 1), (0, 1)]\n",
    "res['C2'] = sp.optimize.shgo(cost, bounds, constraints=cons, iters=5)\n",
    "res['C2']"
   ]
  },
  {
   "cell_type": "code",
   "execution_count": 13,
   "id": "06a69692",
   "metadata": {},
   "outputs": [
    {
     "name": "stdout",
     "output_type": "stream",
     "text": [
      "nu^max ~ 2.042035224833255\n"
     ]
    },
    {
     "data": {
      "image/png": "[encoded data removed]",
      "text/plain": [
       "<Figure size 640x480 with 1 Axes>"
      ]
     },
     "metadata": {},
     "output_type": "display_data"
    }
   ],
   "source": [
    "vals = res['C2'].x\n",
    "optG = lambda nu: G(nu, vals[1], vals[2], vals[3])\n",
    "\n",
    "eigValPlot(Gtilde, optG, nuDotLimit=np.pi/2.5)"
   ]
  },
  {
   "cell_type": "markdown",
   "id": "00a19b68",
   "metadata": {},
   "source": [
    "This returns a slightly larger $\\nu^\\text{max}$ than the optimization with the previous cost function, though the errors past a certain value of $\\nu$ look like they could be unacceptable. Also note that the configs passed to `sp.optimize.shgo()` are slightly different in this case -- the problem is still \"stiff\" in that different configs for `bounds` or `iters` can effect the result."
   ]
  }
 ],
 "metadata": {
  "kernelspec": {
   "display_name": "Python 3 (ipykernel)",
   "language": "python",
   "name": "python3"
  },
  "language_info": {
   "codemirror_mode": {
    "name": "ipython",
    "version": 3
   },
   "file_extension": ".py",
   "mimetype": "text/x-python",
   "name": "python",
   "nbconvert_exporter": "python",
   "pygments_lexer": "ipython3",
   "version": "3.10.8"
  }
 },
 "nbformat": 4,
 "nbformat_minor": 5
}
