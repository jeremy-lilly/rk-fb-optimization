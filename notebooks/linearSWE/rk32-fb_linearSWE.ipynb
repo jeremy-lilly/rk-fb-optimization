{
 "cells": [
  {
   "cell_type": "markdown",
   "id": "44d78241",
   "metadata": {},
   "source": [
    "# RK(3,2)-FB: Courant Number Optimization on Linearized SWEs\n",
    "\n",
    "## Linearized SWEs\n",
    "\n",
    "The linearized SWEs are\n",
    "\\begin{align*}\n",
    "    \\frac{\\partial\\mathbf{u}}{\\partial t} + f\\mathbf{u}^\\perp &= -g\\nabla h \\\\\n",
    "    \\frac{\\partial h}{\\partial t} + H (\\nabla \\cdot \\mathbf{u}) &= 0,\n",
    "\\end{align*}\n",
    "where $\\mathbf{u} = (u, v)$ is the horizontal fluid velocity, $t$ is the time coordinate, $f$ is the Coriolis parameter, $g$ is the gravitational constant, $h$ is the fluid thickness, and $H$ is the resting thickness of the fluid. Note that $u^\\perp = (-v, u)$.\n",
    "\n",
    "We can write these in terms of dimensionless quantities by letting $c = \\sqrt{gH}$, $\\eta = h/H$ and replacing $u$ and $v$ with the dimensionless quantities $\\frac{u}{c}$ and $\\frac{v}{c}$. Doing this, we get the dimensionless, linear SWEs:\n",
    "\\begin{align*}\n",
    "    \\frac{\\partial u}{\\partial t} &= fv - c\\frac{\\partial \\eta}{\\partial x} \\\\\n",
    "    \\frac{\\partial v}{\\partial t} &= -fu - c\\frac{\\partial \\eta}{\\partial y} \\\\\n",
    "    \\frac{\\partial \\eta}{\\partial t} &= -c\\left( \\frac{\\partial u}{\\partial x} + \\frac{\\partial v}{\\partial y} \\right).\n",
    "\\end{align*}\n",
    "Note that implicit in this simplification is that $H$ is constant, i.e. there is no spatially varying topography.\n",
    "\n",
    "With the goal of applying a von Neumann-type analysis, we apply a Fourier transform in space. This is equivalent to looking for solutions of the form\n",
    "\\begin{align*}\n",
    "    u(x, y, t) &= \\hat{u}(k, \\ell, t)e^{ikx+i\\ell y} \\\\\n",
    "    v(x, y, t) &= \\hat{v}(k, \\ell, t)e^{ikx+i\\ell y} \\\\\n",
    "    \\eta(x, y, t) &= \\hat{\\eta}(k, \\ell, t)e^{ikx+i\\ell y}.\n",
    "\\end{align*}\n",
    "\n",
    "In doing this, spatial derivatives are now all of the form\n",
    "$$ \\frac{\\partial}{\\partial *} \\left( e^{ikx+i\\ell y} \\right). $$\n",
    "Assuming we are on a rectangular, staggered Arakawa C-grid, discretizing in space yields\n",
    "\\begin{align*}\n",
    "    \\frac{\\partial}{\\partial x} \\left( e^{ikx+i\\ell y} \\right) &= \\frac{i 2 \\sin\\left(k\\frac{\\Delta x}{2}\\right)}{\\Delta x}e^{ikx+i\\ell y} \\\\\n",
    "    \\frac{\\partial}{\\partial y} \\left( e^{ikx+i\\ell y} \\right) &= \\frac{i 2 \\sin\\left(\\ell\\frac{\\Delta y}{2}\\right)}{\\Delta y}e^{ikx+i\\ell y}.\n",
    "\\end{align*}\n",
    "\n",
    "To compute the (linear) Coriolis term, we need to be able to compute $u$ at $v$-points and vice-versa. On a rectangular C-grid, we do this with an unweighted 4-point average. For example, to get $v$ at a $u$-point (written as $v_u$), we calculate \n",
    "\\begin{align*}\n",
    "    v_u(x, y, t) &= \\frac{1}{4}\\hat{v}(k, \\ell, t)\\left( e^{ik\\left(x+\\frac{\\Delta x}{2}\\right) + i\\ell\\left(y+\\frac{\\Delta y}{2}\\right)} + e^{ik\\left(x+\\frac{\\Delta x}{2}\\right) + i\\ell\\left(y-\\frac{\\Delta y}{2}\\right)} + e^{ik\\left(x-\\frac{\\Delta x}{2}\\right) + i\\ell\\left(y+\\frac{\\Delta y}{2}\\right)} + e^{ik\\left(x-\\frac{\\Delta x}{2}\\right) + i\\ell\\left(y-\\frac{\\Delta y}{2}\\right)} \\right) \\\\\n",
    "    &= \\cos\\left(k\\frac{\\Delta x}{2}\\right)\\cos\\left(\\ell\\frac{\\Delta y}{2}\\right)\\hat{v}(k, \\ell, t)e^{ikx+i\\ell y}.\n",
    "\\end{align*}\n",
    "An identical calculation holds for values of $u$ at $v$-points.\n",
    "\n",
    "Set $K = 2 \\sin\\left(k\\frac{\\Delta x}{2}\\right)$, $L = 2 \\sin\\left(\\ell\\frac{\\Delta y}{2}\\right)$, and $\\tilde{\\phi} = f\\cos\\left(k\\frac{\\Delta x}{2}\\right)\\cos\\left(\\ell\\frac{\\Delta y}{2}\\right)$. Then, the Fourier transformed, spatially discretized (C-grid), linear SWEs, become\n",
    "\\begin{align*}\n",
    "    \\frac{\\partial \\hat{u}}{\\partial t} &= \\tilde{\\phi}\\hat{v} - i \\frac{cK}{\\Delta x}\\hat{\\eta} \\\\\n",
    "    \\frac{\\partial \\hat{v}}{\\partial t} &= -\\tilde{\\phi}\\hat{u} - i \\frac{cL}{\\Delta y}\\hat{\\eta} \\\\\n",
    "    \\frac{\\partial \\hat{\\eta}}{\\partial t} &= -i \\left( \\frac{cK}{\\Delta x}\\hat{u} + \\frac{cL}{\\Delta y}\\hat{v} \\right).\n",
    "\\end{align*}\n",
    "\n",
    "## Application of RK(3,2)-FB\n",
    "\n",
    "Now, we can apply a temporal discretization. To ease notation, write $u = \\hat{u}$, $v = \\hat{v}$, and $\\eta = \\hat{\\eta}$ from now on. RK(3,2)-FB is given by: \n",
    "\\begin{align*}\n",
    "    \\bar{\\eta}^{n+1/3} &= \\eta^n - i \\frac{\\Delta t}{3} \\left( \\frac{cK}{\\Delta x}u^n + \\frac{cL}{\\Delta y}v^n \\right) \\\\\n",
    "    \\bar{u}^{n+1/3} &= u^n + \\frac{\\Delta t}{3} \\left( \\tilde{\\phi}v^n - i\\frac{cK}{\\Delta x}\\left(\\beta_1\\bar{\\eta}^{n+1/3} + (1-\\beta_1)\\eta^n\\right) \\right) \\\\\n",
    "    \\bar{v}^{n+1/3} &= v^n + \\frac{\\Delta t}{3} \\left( -\\tilde{\\phi}u^n - i\\frac{cL}{\\Delta y}\\left(\\beta_1\\bar{\\eta}^{n+1/3} + (1-\\beta_1)\\eta^n\\right) \\right) \\\\\n",
    "    & \\\\\n",
    "    \\bar{\\eta}^{n+1/2} &= \\eta^n - i \\frac{\\Delta t}{2} \\left( \\frac{cK}{\\Delta x}\\bar{u}^{n+1/3} + \\frac{cL}{\\Delta y}\\bar{v}^{n+1/3} \\right) \\\\\n",
    "    \\bar{u}^{n+1/2} &= u^n + \\frac{\\Delta t}{2} \\left( \\tilde{\\phi}\\bar{v}^{n+1/3} - i\\frac{cK}{\\Delta x}\\left(\\beta_2\\bar{\\eta}^{n+1/2} + (1-\\beta_2)\\eta^n\\right) \\right) \\\\\n",
    "    \\bar{v}^{n+1/2} &= v^n + \\frac{\\Delta t}{2} \\left( -\\tilde{\\phi}\\bar{u}^{n+1/3} - i\\frac{cL}{\\Delta y}\\left(\\beta_2\\bar{\\eta}^{n+1/2} + (1-\\beta_2)\\eta^n\\right) \\right) \\\\\n",
    "    & \\\\\n",
    "    \\eta^{n+1} &= \\eta^n - i \\Delta t \\left( \\frac{cK}{\\Delta x}\\bar{u}^{n+1/2} + \\frac{cL}{\\Delta y}\\bar{v}^{n+1/2} \\right) \\\\\n",
    "    u^{n+1} &= u^n + \\Delta t \\left( \\tilde{\\phi}\\bar{v}^{n+1/2} - i\\frac{cK}{\\Delta x}\\left(\\beta_3\\eta^{n+1} + (1-2\\beta_3)\\bar{\\eta}^{n+1/2} + \\beta_3\\eta^n\\right) \\right) \\\\\n",
    "    v^{n+1} &= v^n + \\Delta t \\left( -\\tilde{\\phi}\\bar{u}^{n+1/2} - i\\frac{cL}{\\Delta y}\\left(\\beta_3\\eta^{n+1} + (1-2\\beta_3)\\bar{\\eta}^{n+1/2} + \\beta_3\\eta^n\\right) \\right).\n",
    "\\end{align*}\n",
    "\n",
    "Our goal here is to maximize the Courant numbers $\\nu_x = c\\frac{\\Delta t}{\\Delta x}$ and $\\nu_y = c\\frac{\\Delta t}{\\Delta y}$. So that we can bake these into our notation, we take $\\phi = \\Delta t \\tilde{\\phi} = \\Delta t f \\cos\\left(k\\frac{\\Delta x}{2}\\right)\\cos\\left(\\ell\\frac{\\Delta y}{2}\\right)$ rewrite the above as\n",
    "\\begin{align*}\n",
    "    \\bar{\\eta}^{n+1/3} &= \\eta^n - \\frac{1}{3} \\left( iK \\nu_x u^n + iL \\nu_y v^n \\right) \\\\\n",
    "    \\bar{u}^{n+1/3} &= u^n + \\frac{1}{3} \\left( \\phi v^n - iK\\nu_x \\left(\\beta_1\\bar{\\eta}^{n+1/3} + (1-\\beta_1)\\eta^n\\right) \\right) \\\\\n",
    "    \\bar{v}^{n+1/3} &= v^n + \\frac{1}{3} \\left( -\\phi u^n - iL\\nu_y \\left(\\beta_1\\bar{\\eta}^{n+1/3} + (1-\\beta_1)\\eta^n\\right) \\right) \\\\\n",
    "    & \\\\\n",
    "    \\bar{\\eta}^{n+1/2} &= \\eta^n - \\frac{1}{2} \\left( iK\\nu_x  \\bar{u}^{n+1/3} + iL\\nu_y \\bar{v}^{n+1/3} \\right) \\\\\n",
    "    \\bar{u}^{n+1/2} &= u^n + \\frac{1}{2} \\left( \\phi\\bar{v}^{n+1/3} - iK\\nu_x  \\left(\\beta_2\\bar{\\eta}^{n+1/2} + (1-\\beta_2)\\eta^n\\right) \\right) \\\\\n",
    "    \\bar{v}^{n+1/2} &= v^n + \\frac{1}{2} \\left( -\\phi\\bar{u}^{n+1/3} - iL\\nu_y  \\left(\\beta_2\\bar{\\eta}^{n+1/2} + (1-\\beta_2)\\eta^n\\right) \\right) \\\\\n",
    "    & \\\\\n",
    "    \\eta^{n+1} &= \\eta^n - \\left( iK\\nu_x \\bar{u}^{n+1/2} + iL\\nu_y \\bar{v}^{n+1/2} \\right) \\\\\n",
    "    u^{n+1} &= u^n + \\left( \\phi\\bar{v}^{n+1/2} - iK\\nu_x \\left(\\beta_3\\eta^{n+1} + (1-2\\beta_3)\\bar{\\eta}^{n+1/2} + \\beta_3\\eta^n\\right) \\right) \\\\\n",
    "    v^{n+1} &= v^n + \\left( -\\phi\\bar{u}^{n+1/2} - iL\\nu_y \\left(\\beta_3\\eta^{n+1} + (1-2\\beta_3)\\bar{\\eta}^{n+1/2} + \\beta_3\\eta^n\\right) \\right).\n",
    "\\end{align*}\n",
    "\n",
    "Note: To revert the above to a point where there was no spatial discretization (i.e. continuous in space), we can simply take $K = k \\Delta x$, $L = \\ell \\Delta y$, and $\\phi = \\Delta t f$."
   ]
  },
  {
   "cell_type": "code",
   "execution_count": 1,
   "id": "80c33d2e",
   "metadata": {
    "scrolled": true
   },
   "outputs": [],
   "source": [
    "from sympy import *\n",
    "import scipy as sp\n",
    "import numpy as np\n",
    "import matplotlib.pyplot as plt\n",
    "%matplotlib inline\n",
    "\n",
    "\n",
    "# define relevent symbols \n",
    "#     _u = u^n, _v = v^n, _eta = \\eta^n\n",
    "#     U1 = \\bar{u}^{n+1/3}, V1 = \\bar{v}^{n+1/3}, ETA1= \\bar{\\eta}^{n+1/3}\n",
    "#     U2 = \\bar{u}^{n+1/2}, V2 = \\bar{v}^{n+1/2}, ETA2= \\bar{\\eta}^{n+1/2}\n",
    "#     u = u^{n+1}, v = v^{n+1}, eta = \\eta^{n+1}\n",
    "_u, _v, _eta = symbols('u^n v^n eta^n')\n",
    "lam, beta1, beta2, beta3 = symbols('lambda beta_1 beta_2 beta_3')\n",
    "nux, nuy, K, L, phi = symbols('nu_x nu_y K L phi')\n",
    "\n",
    "\n",
    "# RK(3,2)-FB \n",
    "ETA1 = _eta - (1/3) * ( I*K*nux*_u + I*L*nuy*_v )\n",
    "U1 = _u + (1/3) * ( phi*_v - I*nux*K*( beta1*ETA1 + (1-beta1)*_eta ) )\n",
    "V1 = _v + (1/3) * ( -phi*_u - I*nuy*L*( beta1*ETA1 + (1-beta1)*_eta ) )\n",
    "\n",
    "ETA2 = _eta - (1/2) * ( I*K*nux*U1 + I*L*nuy*V1 )\n",
    "U2 = _u + (1/2) * ( phi*V1 - I*K*nux*( beta2*ETA2 + (1-beta2)*_eta ) )\n",
    "V2 = _v + (1/2) * ( -phi*U1 - I*L*nuy*( beta2*ETA2 + (1-beta2)*_eta ) )\n",
    "\n",
    "eta = _eta - ( I*K*nux*U2 + I*L*nuy*V2 )\n",
    "u = _u + ( phi*V2 - I*K*nux*( beta3*eta + (1-2*beta3)*ETA2 + beta3*_eta ) )\n",
    "v = _v + ( -phi*U2 - I*L*nuy*( beta3*eta + (1-2*beta3)*ETA2 + beta3*_eta ) )"
   ]
  },
  {
   "cell_type": "markdown",
   "id": "b0a27706",
   "metadata": {},
   "source": [
    "## Amplification matrices\n",
    "\n",
    "Now, we have a system of linear equations in $\\eta^n$, $u^n$, and $v^n$. We can find the amplification matrix for the scheme by writing it in the form\n",
    "$$ \\mathbf{w}^{n+1} = G \\mathbf{w}^n, $$\n",
    "where $G$ is the amplification matrix and $\\mathbf{w}^n = (u^n, v^n, \\eta^n)^T$.\n",
    "\n",
    "We care about the amplification matrix $G$ as it follows from the above that $\\mathbf{w}^n = G^n \\mathbf{w}^0$. In turn, it follows that the solution $\\mathbf{w}^n$ is bounded as $n \\to \\infty$ if and only if $||G^n||$ is bounded as $n \\to \\infty$."
   ]
  },
  {
   "cell_type": "code",
   "execution_count": 2,
   "id": "330c812f",
   "metadata": {},
   "outputs": [],
   "source": [
    "# create the amplification matrix G\n",
    "_w = [_u, _v, _eta]\n",
    "w = [u, v, eta]\n",
    "_G, _ = linear_eq_to_matrix(w, _w)\n",
    "\n",
    "x = [nux, nuy, beta1, beta2, beta3, K , L, phi]\n",
    "_calcG = lambdify(x, _G)"
   ]
  },
  {
   "cell_type": "markdown",
   "id": "093576a1",
   "metadata": {},
   "source": [
    "Normally, we would now be interested in the eigenvalues of $G$ given that it can be shown that as long as $G$ is diagonalizable, then $||G^n||$ is bounded if and only if each eigenvalue $\\lambda$ of $G$ is such that $|\\lambda| \\leq 1$. However, we are first interested in choosing the \"optimal\" FB feedback coefficients $\\beta_i$.\n",
    "\n",
    "To do this, we first need to know the eigenvalues of the amplification matrix in the continuous problem. The continuous problem can be written as\n",
    "$$ \\frac{\\partial}{\\partial t} \\begin{pmatrix}\n",
    "    u \\\\ v \\\\ \\eta\n",
    "\\end{pmatrix} = \\begin{pmatrix}\n",
    "    0 & f & -ick \\\\ -f & 0 & -ic\\ell \\\\ -ick & -ic\\ell & 0\n",
    "\\end{pmatrix} \\begin{pmatrix}\n",
    "    u \\\\ v \\\\ \\eta\n",
    "\\end{pmatrix}. $$\n",
    "\n",
    "It can be shown that the general solution to the system is\n",
    "$$ \\begin{pmatrix}\n",
    "    u(t) \\\\ v(t) \\\\ \\eta(t)\n",
    "\\end{pmatrix} = e^{ At }\\begin{pmatrix}\n",
    "    u(0) \\\\ v(0) \\\\ \\eta(0)\n",
    "\\end{pmatrix}, $$\n",
    "where\n",
    "$$ A = \\begin{pmatrix}\n",
    "    0 & f & -ick \\\\ -f & 0 & -ic\\ell \\\\ -ick & -ic\\ell & 0\n",
    "\\end{pmatrix}. $$\n",
    "\n",
    "Now, consider the general solution of the system after exactly one time-step, i.e. at  time $t = \\Delta t$. Then,\n",
    "\\begin{align*}\n",
    "    A \\Delta t &= \\begin{pmatrix}\n",
    "        0 & f \\Delta t & -ic\\Delta t k \\\\ \n",
    "        -f \\Delta t & 0 & -ic\\Delta t \\ell \\\\ \n",
    "        -ic\\Delta t k & -ic\\Delta t\\ell & 0\n",
    "    \\end{pmatrix} \\\\\n",
    "    &= \\begin{pmatrix}\n",
    "        0 & f \\Delta t & -i\\tilde{K}\\nu_x \\\\ \n",
    "        -f \\Delta t & 0 & -i\\tilde{L}\\nu_y \\\\ \n",
    "        -i\\tilde{K}\\nu_x & -i\\tilde{L}\\nu_y & 0\n",
    "    \\end{pmatrix}.\n",
    "\\end{align*}\n",
    "where $\\tilde{K} = k \\Delta x$ and $\\tilde{L} = \\ell \\Delta y$. The final step in the above is done so that we can have the Courant numbers $\\nu_x$ and $\\nu_y$ baked directly into the notation.\n",
    "\n",
    "Let $\\tilde{G} = e^{A\\Delta t}$. This is the exact amplification matrix we wish to \"approximate\" by our numerical amplification matrix $G$."
   ]
  },
  {
   "cell_type": "code",
   "execution_count": 3,
   "id": "cb8c21fd",
   "metadata": {},
   "outputs": [],
   "source": [
    "# We build Gtilde using numpy/scipy\n",
    "def _calcGtilde(nux, nuy, Ktilde, Ltilde, fdt):\n",
    "    Adt = np.matrix( [[0, fdt, -1j*Ktilde*nux],\n",
    "                      [-fdt, 0, -1j*Ltilde*nuy],\n",
    "                      [-1j*Ktilde*nux, -1j*Ltilde*nuy, 0]] )\n",
    "    return sp.linalg.expm(Adt)\n",
    "# END calcGtilde()"
   ]
  },
  {
   "cell_type": "markdown",
   "id": "a9a0bf82",
   "metadata": {},
   "source": [
    "## Statement of the optimization problem\n",
    "\n",
    "Now we can clearly state our goal: Choose the FBFCs $\\beta_i$ so that the eigenvalues of the numerical amplification matrix $G$ approximate the eigenvalues of $\\tilde{G} = e^{A\\Delta t}$ while maximizing the Courant numbers $\\nu_x$ and $\\nu_y$. To do this, we are going to solve a numerical optimization problem.\n",
    "\n",
    "Let $\\nu_x^\\text{max}$ and $\\nu_y^\\text{max}$ be the maximum allowable Courant numbers for stability of the method. These depend on our choice of the FBFCs $\\beta_i$. We can maximize\n",
    "$\\nu_*^\\text{max}$ by minimizing an appropriate cost function\n",
    "$$ C = C(\\nu_x^\\text{max}, \\nu_y^\\text{max}, \\beta_1, \\beta_2, \\beta_3), $$\n",
    "subject to the restriction that eigenvalues of $G$, $\\lambda = \\lambda(\\nu_x, \\nu_y, \\beta_1, \\beta_2, \\beta_3)$, are such that\n",
    "$$ |\\lambda(\\nu_x, \\nu_y, \\beta_1, \\beta_2, \\beta_3)| \\leq 1 \\qquad \\forall\\ (\\nu_x, \\nu_y) \\in (0, \\nu_x^\\text{max}] \\times (0, \\nu_y^\\text{max}]. $$\n",
    "\n",
    "### Simplifying assumptions\n",
    "\n",
    "Before we can move forward, we need to address the additional parameters that both $\\tilde{G}$ and $G$ depend on. These are:\n",
    "\\begin{align*}\n",
    "    \\tilde{K} &= k\\Delta x \\\\\n",
    "    \\tilde{L} &= \\ell\\Delta y \\\\\n",
    "    & \\\\\n",
    "    K &= 2\\sin\\left(k\\frac{\\Delta x}{2}\\right) \\\\\n",
    "    L &= 2\\sin\\left(\\ell\\frac{\\Delta y}{2}\\right) \\\\\n",
    "    & \\\\\n",
    "    \\phi &= f\\Delta t \\cos\\left(k\\frac{\\Delta x}{2}\\right)\\cos\\left(\\ell\\frac{\\Delta y}{2}\\right)\n",
    "\\end{align*}\n",
    "We need to fix these values so that they are not counted as free parameters in the optimization problem. As can be seen in the cell below, we only need to fix values for $\\tilde{K}$ and $f\\Delta t$, then values for the other parameters follow.\n",
    "\n",
    "According to Bob, a decent choice for $f$ would be $f = 10^{-4}$, and since the time-steps for the nonlinear SWE test cases we are looking at are on the order of $10^2$, a good choice for $f\\Delta t$ is\n",
    "$$f\\Delta t = 10^{-2}.$$\n",
    "\n",
    "For $\\tilde{K}$ and $\\tilde{L}$, we want to sample this space:\n",
    "$$\\left(\\tilde{K}, \\tilde{L} \\right) \\in [0, \\pi] \\times [0, \\pi].$$\n",
    "For each pair $\\left(\\tilde{K}, \\tilde{L} \\right)$, we need to complete the optimization problem and get a suggested tuple of $\\beta_i$."
   ]
  },
  {
   "cell_type": "code",
   "execution_count": 4,
   "id": "88d0cf2b",
   "metadata": {},
   "outputs": [],
   "source": [
    "# Define a function to sort eigenvalues so we know which to compare\n",
    "def parseEigVals(eigVals):\n",
    "    eigValDict = {}\n",
    "    reals = []\n",
    "    for eigVal in eigVals:\n",
    "        if np.isclose(eigVal, 1.0+0.0j):\n",
    "            eigValDict['one'] = eigVal\n",
    "        elif not np.isclose(eigVal.imag, 0.0):\n",
    "            if eigVal.imag > 0:\n",
    "                eigValDict['pos'] = eigVal\n",
    "            else:\n",
    "                eigValDict['neg'] = eigVal\n",
    "        else:\n",
    "            reals.append(eigVal.real)\n",
    "            eigValDict['real'] = reals\n",
    "        # END if\n",
    "    # END for\n",
    "    return eigValDict\n",
    "#END parseEigVals()\n",
    "\n",
    "\n",
    "# Define a function to create a plot comparing exact/numerical eigenvalues\n",
    "def eigValPlot(Gtilde, G, KtildeVal=-1, LtildeVal=-1,\n",
    "               a=-16, b=16, delta=1e-2, nuDotLimit=np.pi/3):\n",
    "    \n",
    "    red = '#ee4035'\n",
    "    orange = '#f37736'\n",
    "    yellow = '#fdf498'\n",
    "    green = '#7bc043'\n",
    "    blue = '#0392cf'\n",
    "    \n",
    "    fig, ax = plt.subplots(1)\n",
    "\n",
    "    ax.spines['left'].set_position('center')\n",
    "    ax.spines['right'].set_color('none')\n",
    "    ax.spines['bottom'].set_position('center')\n",
    "    ax.spines['top'].set_color('none')\n",
    "\n",
    "    axLim = 1.5\n",
    "    ax.set_xlim(-axLim, axLim)\n",
    "    ax.set_ylim(-axLim, axLim)\n",
    "    ax.set_aspect(1)\n",
    "\n",
    "    unitCircle = plt.Circle((0, 0), 1, fill=False, color=orange)\n",
    "    ax.add_artist(unitCircle)\n",
    "\n",
    "    approx_real = []\n",
    "    approx_imag = []\n",
    "    badNus =[]\n",
    "    count = 0\n",
    "\n",
    "    for k in np.arange(a, b, delta):\n",
    "        nu = k*np.pi/16\n",
    "        # get complex values for exact and approx eigen values\n",
    "        GtildeEigVals = parseEigVals( sp.linalg.eigvals( Gtilde(nu) ) )\n",
    "        GEigVals = parseEigVals( sp.linalg.eigvals( G(nu) ) )\n",
    "\n",
    "        # this process needs to be revisited\n",
    "        if np.isclose(nu, 0):\n",
    "            exact = 1+0.j\n",
    "            approx = 1.+0.j\n",
    "        else:\n",
    "            key = 'pos' if nu > 0 else 'neg'\n",
    "            exact = GtildeEigVals[key]\n",
    "            if 'real' not in GEigVals.keys():\n",
    "                approx = GEigVals[key]\n",
    "            else:\n",
    "                if len(GEigVals['real']) == 1:\n",
    "                    approx = GEigVals['real'][0]\n",
    "                else:\n",
    "                    ind = 1 if nu >= 0 else 0\n",
    "                    approx = GEigVals['real'][ind]\n",
    "                # END if\n",
    "            # END if\n",
    "        # END if\n",
    "        approx_real.append( approx.real )\n",
    "        approx_imag.append( approx.imag )\n",
    "        \n",
    "        absValApprox = sqrt(approx.real**2 + approx.imag**2)\n",
    "        if absValApprox > 1: badNus.append(nu) \n",
    "        \n",
    "        if ( np.isclose(k%1, 0) or np.isclose(k%1, 1) ) and np.abs(nu) <= nuDotLimit:\n",
    "            # plot exact and approx eigen values\n",
    "            colo = blue if absValApprox <= 1 else red\n",
    "            ax.scatter(exact.real, exact.imag, marker='o', color=orange)\n",
    "            ax.scatter(approx.real, approx.imag, marker='*', color=colo)\n",
    "            # connect exact to approx with dashed line\n",
    "            reals = [approx.real, exact.real]\n",
    "            imags = [approx.imag, exact.imag]\n",
    "            ax.plot(reals, imags, color='black', linestyle='dashed', linewidth=0.75, alpha=0.5)\n",
    "        # END if\n",
    "    # END for\n",
    "\n",
    "    ax.plot(approx_real, approx_imag, color=blue)\n",
    "    try:\n",
    "        print( 'nu^max ~ {}'.format( np.min(np.abs(badNus)) ) )\n",
    "    except: pass\n",
    "\n",
    "# END eigValPlot()"
   ]
  },
  {
   "cell_type": "markdown",
   "id": "082e9200",
   "metadata": {},
   "source": [
    "## Setup for the optimization problem\n",
    "\n",
    "Recall that the primary constraint on our optimization problem is that\n",
    "$$ |\\lambda(\\nu_x, \\nu_y, \\beta_1, \\beta_2, \\beta_3)| \\leq 1 \\qquad \\forall\\ (\\nu_x, \\nu_y) \\in (0, \\nu_x^\\text{max}] \\times (0, \\nu_y^\\text{max}]. $$\n",
    "\n",
    "As described above, we are using the simplifying assumption that $\\nu_x = \\nu_y = \\nu$, so this becomes\n",
    "$$ |\\lambda(\\nu, \\beta_1, \\beta_2, \\beta_3)| \\leq 1 \\qquad \\forall\\ \\nu \\in (0, \\nu^\\text{max}]. $$\n",
    "In practice, we check this condition by checking the absolute value of the eigenvalues on a grid in $\\nu$, i.e. we check\n",
    "$$ |\\lambda(\\nu, \\beta_1, \\beta_2, \\beta_3)| \\leq 1 \\qquad \\forall \\nu = \\delta, 2\\delta, 3\\delta, \\cdots \\nu^\\text{max}, $$\n",
    "where $\\delta$ is a user-defined step-size in `eigValMax()` (defined below), the smaller $\\delta$ is, the longer the numerical optimization takes to execute."
   ]
  },
  {
   "cell_type": "code",
   "execution_count": 5,
   "id": "bdab8503",
   "metadata": {},
   "outputs": [],
   "source": [
    "# Require that |lambda| <= 1 for all 0 < nu <= nu^max\n",
    "def eigValMax(x, delta=np.pi/512): # x = [nu_max, beta1, beta2, beta3]\n",
    "    global G\n",
    "\n",
    "    absList = []\n",
    "    \n",
    "    nus = np.arange(delta, x[0], delta)\n",
    "    if x[0] not in nus: nus = np.append(nus, x[0])\n",
    "    \n",
    "    for nu in nus:\n",
    "        eigVals = sp.linalg.eigvals( G(nu, x[1], x[2], x[3]) )\n",
    "        for eigVal in eigVals:\n",
    "            absVal = np.abs(eigVal)\n",
    "            if not np.isclose(absVal, 1.0):\n",
    "                absList.append( absVal )\n",
    "            else:\n",
    "                absList.append(1.0)\n",
    "        # END for\n",
    "    # END for\n",
    "    return np.max(absList)\n",
    "# END eigValMax()\n",
    "\n",
    "# Set up the contraints for scipy.optimize.shgo()\n",
    "eigValCons = lambda x: 1 - eigValMax(x) # >= 0\n",
    "cons = [{'type': 'ineq', 'fun': eigValCons}]"
   ]
  },
  {
   "cell_type": "markdown",
   "id": "ecad1e5d",
   "metadata": {},
   "source": [
    "### Optimization\n",
    "\n",
    "Our first choice of cost function will be\n",
    "$$ C_1(\\nu^\\text{max}, \\beta_1, \\beta_2, \\beta_3) = \\frac{1}{\\nu^\\text{max}}.$$"
   ]
  },
  {
   "cell_type": "code",
   "execution_count": 6,
   "id": "7454d6a8",
   "metadata": {},
   "outputs": [],
   "source": [
    "# Define a function that gives a measure of how close the numerical eigenvalues are\n",
    "# to their exact counterparts, we want this to be small for given nu_max and beta_i\n",
    "def eigValDiffSum(x, G, Gtilde, b=np.pi/3, delta=np.pi/64):   \n",
    "    diffSum = 0\n",
    "    \n",
    "    nus = np.arange(0, b, delta)\n",
    "    for nu in nus:\n",
    "        GtildeEigVals = [eigVal for eigVal in \\\n",
    "                         sp.linalg.eigvals( Gtilde(nu) ) \\\n",
    "                         if not np.isclose(eigVal, 1.+0.j)]\n",
    "        GEigVals = [eigVal for eigVal in \\\n",
    "                    sp.linalg.eigvals( G(nu, x[1], x[2], x[3]) ) \\\n",
    "                    if not np.isclose(eigVal, 1.+0.j)]\n",
    "        \n",
    "        if np.isclose(nu, 0):\n",
    "            diffSum += 0\n",
    "        else:\n",
    "            diffs = []\n",
    "            for GEigVal in GEigVals:\n",
    "                for GtildeEigVal in GtildeEigVals:\n",
    "                    diffs.append( np.abs(GEigVal - GtildeEigVal) )\n",
    "                # END for\n",
    "            # END for\n",
    "            diffSum += np.min(diffs)\n",
    "        # END if\n",
    "    # END for\n",
    "    return 2*delta*diffSum\n",
    "# END eigValDiffSum()"
   ]
  },
  {
   "cell_type": "markdown",
   "id": "a03c946f",
   "metadata": {},
   "source": [
    "Now, we can use `scipy.optimize.shgo()` to find a numerical solution to the optimization problem stated above. This is a global optimization scheme and seems to be much more robust than `scipy.optimize.minimize()` which only acts as a local optimizer."
   ]
  },
  {
   "cell_type": "code",
   "execution_count": 7,
   "id": "5934251d",
   "metadata": {},
   "outputs": [],
   "source": [
    "res = {}"
   ]
  },
  {
   "cell_type": "code",
   "execution_count": 8,
   "id": "36179cd3",
   "metadata": {},
   "outputs": [
    {
     "data": {
      "text/plain": [
       "     fun: 0.6666666666666666\n",
       "    funl: array([0.66666667, 0.66666667, 0.72727273, 0.72727273, 0.8       ,\n",
       "       0.8       , 0.8       , 0.8       , 0.8       ])\n",
       " message: 'Optimization terminated successfully.'\n",
       "    nfev: 1412\n",
       "     nit: 5\n",
       "   nlfev: 1337\n",
       "   nlhev: 0\n",
       "   nljev: 119\n",
       " success: True\n",
       "       x: array([1.5   , 0.6875, 0.5625, 0.3125])\n",
       "      xl: array([[1.5       , 0.6875    , 0.5625    , 0.3125    ],\n",
       "       [1.5       , 0.56334038, 0.56255837, 0.31557884],\n",
       "       [1.375     , 0.375     , 0.5       , 0.375     ],\n",
       "       [1.375     , 0.1875    , 0.38032346, 0.49029438],\n",
       "       [1.25      , 0.19033026, 0.40180769, 0.67457333],\n",
       "       [1.25      , 0.0625    , 0.4375    , 0.3125    ],\n",
       "       [1.25      , 0.6875    , 0.5625    , 0.3125    ],\n",
       "       [1.25      , 0.56206798, 0.68713136, 0.31089317],\n",
       "       [1.25      , 0.5625    , 0.5625    , 0.3125    ]])"
      ]
     },
     "execution_count": 8,
     "metadata": {},
     "output_type": "execute_result"
    }
   ],
   "source": [
    "fdtVal = 1e-2\n",
    "\n",
    "KtildeVal = np.pi\n",
    "LtildeVal = np.pi\n",
    "\n",
    "KVal = 2*np.sin(KtildeVal/2)\n",
    "LVal = 2*np.sin(LtildeVal/2)\n",
    "phiVal = fdtVal*np.cos(KtildeVal/2)*np.cos(LtildeVal/2)\n",
    "\n",
    "G = lambda nu, beta1, beta2, beta3: _calcG(nu, nu, beta1, beta2, beta3, KVal, LVal, phiVal)\n",
    "Gtilde = lambda nu: _calcGtilde(nu, nu, KtildeVal, LtildeVal, fdtVal)\n",
    "\n",
    "cost = lambda x: 1/x[0] + eigValDiffSum(x, G, Gtilde, b=0)\n",
    "bounds = [(1, 3), (0, 1), (0, 1), (0, 1)]\n",
    "res['C1'] = sp.optimize.shgo(cost, bounds, constraints=cons, iters=5)\n",
    "res['C1']"
   ]
  },
  {
   "cell_type": "code",
   "execution_count": 9,
   "id": "840910be",
   "metadata": {},
   "outputs": [
    {
     "name": "stdout",
     "output_type": "stream",
     "text": [
      "nu^max ~ 1.5374169048505393\n"
     ]
    },
    {
     "data": {
      "image/png": "[encoded data removed]",
      "text/plain": [
       "<Figure size 640x480 with 1 Axes>"
      ]
     },
     "metadata": {},
     "output_type": "display_data"
    }
   ],
   "source": [
    "vals = res['C1'].x\n",
    "optG = lambda nu: G(nu, vals[1], vals[2], vals[3])\n",
    "\n",
    "eigValPlot(Gtilde, optG, nuDotLimit=0)"
   ]
  },
  {
   "cell_type": "markdown",
   "id": "d822873c",
   "metadata": {},
   "source": [
    "Our second choice of cost function will be\n",
    "$$ C_2(\\nu^\\text{max}, \\beta_1, \\beta_2, \\beta_3) = \\frac{1}{\\nu^\\text{max}} + \\int_{\\frac{-\\pi}{6}}^{\\frac{\\pi}{6}} \\left| \\lambda_\\text{exact}(\\nu) - \\lambda(\\nu, \\beta_1, \\beta_2, \\beta_3) \\right| \\text{d}\\nu. $$\n",
    "The first term asks that $\\nu^\\text{max}$ be as large as possible, while the second term asks that, over the given bounds, the absolute difference between the eigenvalues of $\\tilde{G}$ and $G$ be as small as possible.\n",
    "\n",
    "In practice, the integral term in the above will be evaluated as a simple sum (though we could consider doing a quadrature of some sort if we really wanted to). This is implemented above in `eigValDiffSum()`."
   ]
  },
  {
   "cell_type": "code",
   "execution_count": 10,
   "id": "1c6b4361",
   "metadata": {},
   "outputs": [
    {
     "data": {
      "text/plain": [
       "     fun: 1.0932665450692336\n",
       "    funl: array([1.09326655, 1.09750622, 1.14728042, 1.14840366, 1.21707226,\n",
       "       1.2255619 , 1.22569868, 1.22705641, 1.23523909, 1.38793361])\n",
       " message: 'Optimization terminated successfully.'\n",
       "    nfev: 5434\n",
       "     nit: 5\n",
       "   nlfev: 5359\n",
       "   nlhev: 0\n",
       "   nljev: 996\n",
       " success: True\n",
       "       x: array([1.5       , 0.5261397 , 0.5       , 0.32516343])\n",
       "      xl: array([[1.5       , 0.5261397 , 0.5       , 0.32516343],\n",
       "       [1.5       , 0.625     , 0.55415902, 0.3061879 ],\n",
       "       [1.375     , 0.18720155, 0.38918265, 0.4375    ],\n",
       "       [1.375     , 0.32777568, 0.4375    , 0.34378371],\n",
       "       [1.25      , 0.        , 0.42961999, 0.31091172],\n",
       "       [1.25      , 0.20320856, 0.375     , 0.625     ],\n",
       "       [1.25      , 0.5       , 0.5       , 0.30159875],\n",
       "       [1.25      , 0.625     , 0.5       , 0.3207991 ],\n",
       "       [1.25      , 0.625     , 0.625     , 0.27788862],\n",
       "       [1.04443192, 0.35747923, 0.6875    , 0.15512673]])"
      ]
     },
     "execution_count": 10,
     "metadata": {},
     "output_type": "execute_result"
    }
   ],
   "source": [
    "fdtVal = 1e-2\n",
    "\n",
    "KtildeVal = np.pi\n",
    "LtildeVal = np.pi\n",
    "\n",
    "KVal = 2*np.sin(KtildeVal/2)\n",
    "LVal = 2*np.sin(LtildeVal/2)\n",
    "phiVal = fdtVal*np.cos(KtildeVal/2)*np.cos(LtildeVal/2)\n",
    "\n",
    "G = lambda nu, beta1, beta2, beta3: _calcG(nu, nu, beta1, beta2, beta3, KVal, LVal, phiVal)\n",
    "Gtilde = lambda nu: _calcGtilde(nu, nu, KtildeVal, LtildeVal, fdtVal)\n",
    "\n",
    "cost = lambda x: 1/x[0] + eigValDiffSum(x, G, Gtilde, b=np.pi/6)\n",
    "bounds = [(1, 3), (0, 1), (0, 1), (0, 1)]\n",
    "res['C2'] = sp.optimize.shgo(cost, bounds, constraints=cons, iters=5)\n",
    "res['C2']"
   ]
  },
  {
   "cell_type": "code",
   "execution_count": 11,
   "id": "540dc1e4",
   "metadata": {},
   "outputs": [
    {
     "name": "stdout",
     "output_type": "stream",
     "text": [
      "nu^max ~ 1.4706580609616233\n"
     ]
    },
    {
     "data": {
      "image/png": "[encoded data removed]",
      "text/plain": [
       "<Figure size 640x480 with 1 Axes>"
      ]
     },
     "metadata": {},
     "output_type": "display_data"
    }
   ],
   "source": [
    "vals = res['C2'].x\n",
    "optG = lambda nu: G(nu, vals[1], vals[2], vals[3])\n",
    "\n",
    "eigValPlot(Gtilde, optG, nuDotLimit=0)"
   ]
  },
  {
   "cell_type": "code",
   "execution_count": 12,
   "id": "e90bca5b",
   "metadata": {},
   "outputs": [
    {
     "name": "stdout",
     "output_type": "stream",
     "text": [
      "nu^max ~ 1.5001104920890274\n"
     ]
    },
    {
     "data": {
      "image/png": "[encoded data removed]",
      "text/plain": [
       "<Figure size 640x480 with 1 Axes>"
      ]
     },
     "metadata": {},
     "output_type": "display_data"
    }
   ],
   "source": [
    "optG = lambda nu: G(nu, 1/2, 1/2, 1/3)\n",
    "\n",
    "eigValPlot(Gtilde, optG, nuDotLimit=0)"
   ]
  }
 ],
 "metadata": {
  "kernelspec": {
   "display_name": "Python 3 (ipykernel)",
   "language": "python",
   "name": "python3"
  },
  "language_info": {
   "codemirror_mode": {
    "name": "ipython",
    "version": 3
   },
   "file_extension": ".py",
   "mimetype": "text/x-python",
   "name": "python",
   "nbconvert_exporter": "python",
   "pygments_lexer": "ipython3",
   "version": "3.10.10"
  }
 },
 "nbformat": 4,
 "nbformat_minor": 5
}
