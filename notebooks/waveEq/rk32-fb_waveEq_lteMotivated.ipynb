{
 "cells": [
  {
   "cell_type": "markdown",
   "id": "d430f1b1",
   "metadata": {},
   "source": [
    "# RK(3,2)-FB FBFC Analysis (Eigenvalue Optimization)\n",
    "\n",
    "*FBFC = Forward-backward feedback coefficients*\n",
    "\n",
    "Consider a simple model problem:\n",
    "\\begin{align*}\n",
    "    \\frac{\\partial \\zeta}{\\partial t} &= -c \\frac{\\partial u}{\\partial x}, \\\\\n",
    "    \\frac{\\partial u}{\\partial t} &= -c \\frac{\\partial \\zeta}{\\partial x}.\n",
    "\\end{align*}\n",
    "Note that this is similar to the 1D linearized SWEs with the Coriolis term deleted.\n",
    "\n",
    "With the goal of applying a von Neumann stability anaysis, we can apply a Fourier transform in $x$ to the above to get\n",
    "\\begin{align*}\n",
    "    \\frac{\\partial \\hat{\\zeta}}{\\partial t} &= -i \\omega \\hat{u}, \\\\\n",
    "    \\frac{\\partial \\hat{u}}{\\partial t} &= -i \\omega \\hat{\\zeta},\n",
    "\\end{align*}\n",
    "where $\\omega = ck$ for a given wavenumber $k$. Also, from now on, write $u = \\hat{u}$ and $\\zeta = \\hat{\\zeta}$ to ease notation.\n",
    "\n",
    "Chose a time-step $\\Delta t$ and let $\\alpha = \\omega\\Delta t = ck\\Delta t$. The RK(3,2)-FB algorithm for this system is then given by:\n",
    "\\begin{align*}\n",
    "    \\bar{\\zeta}^{n+1/3} &= \\zeta^n - \\frac{i \\alpha}{3} u^n \\\\\n",
    "    \\bar{u}^{n+1/3} &= u^n - \\frac{i \\alpha}{3} \\left( \\beta_1\\bar{\\zeta}^{n+1/3} + (1 - \\beta_1)\\zeta^n \\right) \\\\\n",
    "    & \\\\\n",
    "    \\bar{\\zeta}^{n+1/2} &= \\zeta^n - \\frac{i \\alpha}{2} \\bar{u}^{n+1/3} \\\\\n",
    "    \\bar{u}^{n+1/2} &= u^n - \\frac{i \\alpha}{2} \\left( \\beta_2 \\bar{\\zeta}^{n+1/2} + (1 - \\beta_2)\\zeta^n \\right), \\\\\n",
    "    & \\\\\n",
    "    \\zeta^{n+1} &= \\zeta^n - i \\alpha \\bar{u}^{n+1/2} \\\\\n",
    "    u^{n+1} &= u^n -i \\alpha \\left( \\beta_3\\zeta^{n+1} + (1-2\\beta_3)\\bar{\\zeta}^{n+1/2} + \\beta_3\\zeta^n \\right)\n",
    "\\end{align*}\n",
    "where $\\beta_i$ for $i = 1, 2, 3$, are the tunable FB feedback coefficients."
   ]
  },
  {
   "cell_type": "code",
   "execution_count": 2,
   "id": "25b4b016",
   "metadata": {},
   "outputs": [],
   "source": [
    "from sympy import *\n",
    "from scipy.optimize import minimize, minimize_scalar\n",
    "import numpy as np\n",
    "import matplotlib.pyplot as plt\n",
    "%matplotlib inline\n",
    "\n",
    "\n",
    "# define relevent symbols \n",
    "#     _u = u^n, _zeta = \\zeta^n\n",
    "#     U1 = \\bar{u}^{n+1/3}, ZETA1= \\bar{\\zeta}^{n+1/3}\n",
    "#     U2 = \\bar{u}^{n+1/2}, ZETA2= \\bar{\\zeta}^{n+1/2}\n",
    "#     u = u^{n+1}, zeta = \\zeta^{n+1}\n",
    "_u, _zeta = symbols('u^n \\zeta^n')\n",
    "lam, alpha, beta1, beta2, beta3 = symbols('lambda alpha beta_1 beta_2 beta_3')\n",
    "\n",
    "# define time-stepping scheme\n",
    "ZETA1 = _zeta - (I*alpha/3) * _u\n",
    "U1 = _u - (I*alpha/3) * ( beta1*ZETA1 + (1-beta1)*_zeta )\n",
    "\n",
    "ZETA2 = _zeta - (I*alpha/2) * U1 \n",
    "U2 = _u - (I*alpha/2) * ( beta2*ZETA2 + (1-beta2)*_zeta )\n",
    "\n",
    "zeta = _zeta - I*alpha*U2\n",
    "u = _u - I*alpha * ( beta3*zeta + (1-2*beta3)*ZETA2 + beta3*_zeta )\n",
    "\n",
    "# simplify the expressions for zeta and u \n",
    "zeta  = zeta.simplify()\n",
    "u = u.simplify()"
   ]
  },
  {
   "cell_type": "markdown",
   "id": "fd20865a",
   "metadata": {},
   "source": [
    "Now, we have a system of linear equations in $\\zeta^n$ and $u^n$. We can find the amplification matrix for the scheme by writing it in the form\n",
    "$$ \\mathbf{w}^{n+1} = G \\mathbf{w}^n, $$\n",
    "where $G$ is the amplification matrix and $\\mathbf{w}^* = (\\zeta^*, u^*)^T$.\n",
    "\n",
    "We care about the amplification matrix $G$ as it follows from the above that $\\mathbf{w}^n = G^n \\mathbf{w}^0$. In turn, it follows that the solution $\\mathbf{w}^n$ is bounded as $n \\to \\infty$ if and only if $||G^n||$ is bounded as $n \\to \\infty$."
   ]
  },
  {
   "cell_type": "code",
   "execution_count": 3,
   "id": "27faeb8a",
   "metadata": {},
   "outputs": [
    {
     "data": {
      "text/latex": [
       "$\\displaystyle \\left[\\begin{matrix}\\frac{\\alpha^{4} \\beta_{2}}{12} - \\frac{\\alpha^{2}}{2} + 1 & - \\frac{i \\alpha^{5} \\beta_{1} \\beta_{2}}{36} + \\frac{i \\alpha^{3} \\beta_{2}}{4} - i \\alpha\\\\- \\frac{i \\alpha^{5} \\beta_{2} \\beta_{3}}{12} + \\frac{i \\alpha^{3} \\beta_{3}}{6} + \\frac{i \\alpha^{3}}{6} - i \\alpha & - \\frac{\\alpha^{6} \\beta_{1} \\beta_{2} \\beta_{3}}{36} - \\frac{\\alpha^{4} \\beta_{1} \\beta_{3}}{9} + \\frac{\\alpha^{4} \\beta_{1}}{18} + \\frac{\\alpha^{4} \\beta_{2} \\beta_{3}}{4} - \\frac{\\alpha^{2}}{2} + 1\\end{matrix}\\right]$"
      ],
      "text/plain": [
       "Matrix([\n",
       "[                                        alpha**4*beta_2/12 - alpha**2/2 + 1,                                                                  -I*alpha**5*beta_1*beta_2/36 + I*alpha**3*beta_2/4 - I*alpha],\n",
       "[-I*alpha**5*beta_2*beta_3/12 + I*alpha**3*beta_3/6 + I*alpha**3/6 - I*alpha, -alpha**6*beta_1*beta_2*beta_3/36 - alpha**4*beta_1*beta_3/9 + alpha**4*beta_1/18 + alpha**4*beta_2*beta_3/4 - alpha**2/2 + 1]])"
      ]
     },
     "execution_count": 3,
     "metadata": {},
     "output_type": "execute_result"
    }
   ],
   "source": [
    "# create the amplification matrix G\n",
    "_w = [_zeta, _u]\n",
    "w = [zeta, u]\n",
    "G, _ = linear_eq_to_matrix(w, _w)\n",
    "\n",
    "G"
   ]
  },
  {
   "cell_type": "markdown",
   "id": "5cabad21",
   "metadata": {},
   "source": [
    "Normally, we would now be interested in the eigenvalues of $G$ given that it can be shown that as long as $G$ is diagonalizable, then $||G^n||$ is bounded if and only if each eigenvalue $\\lambda$ of $G$ is such that $|\\lambda| \\leq 1$.\n",
    "\n",
    "However, we are first interesting in chosing the \"optimal\" FB feedback coefficients $\\beta_i$.\n",
    "\n",
    "To do this, we observe that we can write the orignal, Fourier transformed, system as\n",
    "$$ \\frac{\\partial}{\\partial t}\\begin{pmatrix} \\zeta \\\\ u \\end{pmatrix} = \\begin{pmatrix} 0 & -i\\omega \\\\ -i\\omega & 0 \\end{pmatrix} \\begin{pmatrix} \\zeta \\\\ u \\end{pmatrix}. $$\n",
    "\n",
    "One can show that the solution to the system is\n",
    "$$ \\begin{pmatrix} \\zeta(t) \\\\ u(t) \\end{pmatrix} = e^{t \\begin{pmatrix} 0 & -i\\omega \\\\ -i\\omega & 0 \\end{pmatrix}} \\begin{pmatrix} \\zeta(0) \\\\ u(0) \\end{pmatrix}, $$\n",
    "and that eigenvalues of the matrix exponential above are\n",
    "$$ \\lambda = e^{\\pm i \\omega t}. $$\n",
    "\n",
    "That is, the eigenvalues of the amplification matrix in the exact solution are $\\lambda = e^{ \\pm i \\omega t}$. We would like the eigenvalues of our approximate amplification matrix $G$ to be the same, or as close as possible to $e^{\\pm i \\omega t}$.\n",
    "\n",
    "Consider the solution to the system after exatly one time-step, at time $t = \\Delta t$. We want the eigenvalues of $G$ to approximate $e^{\\pm i \\omega \\Delta t} = e^{\\pm i \\alpha}$. \n",
    "\n",
    "To do this, we first calculate the characteristic polynomial $p(\\lambda) = \\text{det}(G - \\lambda I)$ of $G$:"
   ]
  },
  {
   "cell_type": "code",
   "execution_count": 4,
   "id": "5d760698",
   "metadata": {},
   "outputs": [
    {
     "data": {
      "text/latex": [
       "$\\displaystyle - \\frac{\\alpha^{6} \\beta_{1} \\beta_{2} \\beta_{3}}{36} + \\frac{\\alpha^{6} \\beta_{1} \\beta_{2}}{36} + \\frac{\\alpha^{6} \\beta_{1} \\beta_{3}}{18} - \\frac{\\alpha^{6} \\beta_{1}}{36} - \\frac{\\alpha^{4} \\beta_{1} \\beta_{3}}{9} + \\frac{\\alpha^{4} \\beta_{1}}{18} + \\frac{\\alpha^{4} \\beta_{2} \\beta_{3}}{4} - \\frac{\\alpha^{4} \\beta_{2}}{6} - \\frac{\\alpha^{4} \\beta_{3}}{6} + \\frac{\\alpha^{4}}{12} + \\lambda^{2} + \\lambda \\left(\\frac{\\alpha^{6} \\beta_{1} \\beta_{2} \\beta_{3}}{36} + \\frac{\\alpha^{4} \\beta_{1} \\beta_{3}}{9} - \\frac{\\alpha^{4} \\beta_{1}}{18} - \\frac{\\alpha^{4} \\beta_{2} \\beta_{3}}{4} - \\frac{\\alpha^{4} \\beta_{2}}{12} + \\alpha^{2} - 2\\right) + 1$"
      ],
      "text/plain": [
       "-alpha**6*beta_1*beta_2*beta_3/36 + alpha**6*beta_1*beta_2/36 + alpha**6*beta_1*beta_3/18 - alpha**6*beta_1/36 - alpha**4*beta_1*beta_3/9 + alpha**4*beta_1/18 + alpha**4*beta_2*beta_3/4 - alpha**4*beta_2/6 - alpha**4*beta_3/6 + alpha**4/12 + lambda**2 + lambda*(alpha**6*beta_1*beta_2*beta_3/36 + alpha**4*beta_1*beta_3/9 - alpha**4*beta_1/18 - alpha**4*beta_2*beta_3/4 - alpha**4*beta_2/12 + alpha**2 - 2) + 1"
      ]
     },
     "execution_count": 4,
     "metadata": {},
     "output_type": "execute_result"
    }
   ],
   "source": [
    "p = G.charpoly(lam).as_expr()\n",
    "p"
   ]
  },
  {
   "cell_type": "markdown",
   "id": "41a0a058",
   "metadata": {},
   "source": [
    "Next, we substitute in the desired value $\\lambda = e^{\\pm i \\alpha}$ into the characteristic polynomial $p(\\lambda)$ of $G$.\n",
    "\n",
    "Now, if $e^{\\pm i \\alpha}$ was a true eigenvalue of $G$, then we would have\n",
    "$$ p\\left(e^{\\pm i \\alpha}\\right) = 0. $$\n",
    "This is not the case, so we want to choose values for $\\beta$ and $\\epsilon$ that get us as close as possible as $\\alpha \\to 0$ (i.e. as $\\Delta t \\to 0$).\n",
    "\n",
    "So, expand the characteristic polynomial $p\\left(e^{\\pm i \\alpha}\\right)$ as a Taylor series in $\\alpha$ centered at $0$:"
   ]
  },
  {
   "cell_type": "code",
   "execution_count": 5,
   "id": "0a808241",
   "metadata": {},
   "outputs": [
    {
     "data": {
      "text/latex": [
       "$\\displaystyle \\alpha^{4} \\left(- \\frac{\\beta_{2}}{4} - \\frac{\\beta_{3}}{6} + \\frac{1}{6}\\right) + \\alpha^{5} \\left(\\frac{i \\beta_{1} \\beta_{3}}{9} - \\frac{i \\beta_{1}}{18} - \\frac{i \\beta_{2} \\beta_{3}}{4} - \\frac{i \\beta_{2}}{12} + \\frac{i}{12}\\right) + \\alpha^{6} \\left(\\frac{\\beta_{1} \\beta_{2}}{36} + \\frac{\\beta_{2} \\beta_{3}}{8} + \\frac{\\beta_{2}}{24} - \\frac{2}{45}\\right) + O\\left(\\alpha^{7}\\right)$"
      ],
      "text/plain": [
       "alpha**4*(-beta_2/4 - beta_3/6 + 1/6) + alpha**5*(I*beta_1*beta_3/9 - I*beta_1/18 - I*beta_2*beta_3/4 - I*beta_2/12 + I/12) + alpha**6*(beta_1*beta_2/36 + beta_2*beta_3/8 + beta_2/24 - 2/45) + O(alpha**7)"
      ]
     },
     "execution_count": 5,
     "metadata": {},
     "output_type": "execute_result"
    }
   ],
   "source": [
    "exactPplus = p.subs([(lam, exp(I*alpha))])\n",
    "exactPminus = p.subs([(lam, exp(-I*alpha))])\n",
    "\n",
    "series(exactPplus, alpha, 0, 7)"
   ]
  },
  {
   "cell_type": "code",
   "execution_count": 6,
   "id": "6048696c",
   "metadata": {},
   "outputs": [
    {
     "data": {
      "text/latex": [
       "$\\displaystyle \\alpha^{4} \\left(- \\frac{\\beta_{2}}{4} - \\frac{\\beta_{3}}{6} + \\frac{1}{6}\\right) + \\alpha^{5} \\left(- \\frac{i \\beta_{1} \\beta_{3}}{9} + \\frac{i \\beta_{1}}{18} + \\frac{i \\beta_{2} \\beta_{3}}{4} + \\frac{i \\beta_{2}}{12} - \\frac{i}{12}\\right) + \\alpha^{6} \\left(\\frac{\\beta_{1} \\beta_{2}}{36} + \\frac{\\beta_{2} \\beta_{3}}{8} + \\frac{\\beta_{2}}{24} - \\frac{2}{45}\\right) + O\\left(\\alpha^{7}\\right)$"
      ],
      "text/plain": [
       "alpha**4*(-beta_2/4 - beta_3/6 + 1/6) + alpha**5*(-I*beta_1*beta_3/9 + I*beta_1/18 + I*beta_2*beta_3/4 + I*beta_2/12 - I/12) + alpha**6*(beta_1*beta_2/36 + beta_2*beta_3/8 + beta_2/24 - 2/45) + O(alpha**7)"
      ]
     },
     "execution_count": 6,
     "metadata": {},
     "output_type": "execute_result"
    }
   ],
   "source": [
    "series(exactPminus, alpha, 0, 7)"
   ]
  },
  {
   "cell_type": "markdown",
   "id": "cf01fcda",
   "metadata": {},
   "source": [
    "So, we want that\n",
    "$$\\alpha^4 \\left(-\\frac{\\beta_2}{4} - \\frac{\\beta_3}{6} + \\frac{1}{6}\\right) \\pm i\\alpha^5 \\left( \\frac{\\beta_1\\beta_3}{9} - \\frac{\\beta_1}{18} - \\frac{\\beta_2\\beta_3}{4} - \\frac{\\beta_2}{12} + \\frac{1}{12} \\right) + \\alpha^6\\left( \\frac{\\beta_1\\beta_2}{36} + \\frac{\\beta_2\\beta_3}{8} + \\frac{\\beta_2}{24} - \\frac{2}{45} \\right) + \\mathcal{O}(\\alpha^7) \\approx 0. $$\n",
    "\n",
    "A local truncation error (LTE) analysis (see Section 3 of Darren's Overleaf document), shows us that RK(3,2)-FB is always at least 2nd order in time when applied to this problem, no matter the choice of FBFCs. However, the order can be increased with certain choices for $\\beta_i$, in particular:\n",
    "\\begin{align*}\n",
    "    \\tau^n_u &= \\begin{cases}\n",
    "        \\mathcal{O}(\\Delta t^3) & \\text{if } \\beta_3 = 0 \\\\\n",
    "        \\mathcal{O}(\\Delta t^4) & \\text{if } \\beta_3 = 0,\\, \\beta_1 = \\frac{18}{24}\n",
    "    \\end{cases} \\\\\n",
    "    & \\\\\n",
    "    \\tau^n_\\zeta &= \\mathcal{O}(\\Delta t^3) \\quad\\text{if } \\beta_2 = \\frac{2}{3}\n",
    "\\end{align*}\n",
    "\n",
    "For now, we are going to guess that taking $\\beta_3 = 0$ is a bad call for CFL considerations since this removes all FB feedback from the final stage of the method. However, taking $\\beta_2 = \\frac{2}{3}$ *could* be a good call -- this reduces the dimension of our problem to 2 instead of 3. We could make some sort of argument along the line of \"the $\\zeta$ data are used in the FB steps to compute $u$, so it makes sense to increase their order\"?"
   ]
  },
  {
   "cell_type": "code",
   "execution_count": 7,
   "id": "6c75f2d5",
   "metadata": {},
   "outputs": [
    {
     "data": {
      "text/latex": [
       "$\\displaystyle - \\frac{\\alpha^{4} \\beta_{3}}{6} + \\alpha^{5} \\left(\\frac{i \\beta_{1} \\beta_{3}}{9} - \\frac{i \\beta_{1}}{18} - \\frac{i \\beta_{3}}{6} + \\frac{i}{36}\\right) + \\alpha^{6} \\left(\\frac{\\beta_{1}}{54} + \\frac{\\beta_{3}}{12} - \\frac{1}{60}\\right) + O\\left(\\alpha^{7}\\right)$"
      ],
      "text/plain": [
       "-alpha**4*beta_3/6 + alpha**5*(I*beta_1*beta_3/9 - I*beta_1/18 - I*beta_3/6 + I/36) + alpha**6*(beta_1/54 + beta_3/12 - 1/60) + O(alpha**7)"
      ]
     },
     "execution_count": 7,
     "metadata": {},
     "output_type": "execute_result"
    }
   ],
   "source": [
    "beta2Val = 2./3\n",
    "\n",
    "series( nsimplify( exactPplus.subs([(beta2, beta2Val)]) ), alpha, 0, 7 )"
   ]
  },
  {
   "cell_type": "code",
   "execution_count": 8,
   "id": "abfba9fa",
   "metadata": {},
   "outputs": [
    {
     "data": {
      "text/latex": [
       "$\\displaystyle - \\frac{\\alpha^{4} \\beta_{3}}{6} + \\alpha^{5} \\left(- \\frac{i \\beta_{1} \\beta_{3}}{9} + \\frac{i \\beta_{1}}{18} + \\frac{i \\beta_{3}}{6} - \\frac{i}{36}\\right) + \\alpha^{6} \\left(\\frac{\\beta_{1}}{54} + \\frac{\\beta_{3}}{12} - \\frac{1}{60}\\right) + O\\left(\\alpha^{7}\\right)$"
      ],
      "text/plain": [
       "-alpha**4*beta_3/6 + alpha**5*(-I*beta_1*beta_3/9 + I*beta_1/18 + I*beta_3/6 - I/36) + alpha**6*(beta_1/54 + beta_3/12 - 1/60) + O(alpha**7)"
      ]
     },
     "execution_count": 8,
     "metadata": {},
     "output_type": "execute_result"
    }
   ],
   "source": [
    "series( nsimplify( exactPminus.subs([(beta2, beta2Val)]) ), alpha, 0, 7 )"
   ]
  },
  {
   "cell_type": "markdown",
   "id": "e87abc5b",
   "metadata": {},
   "source": [
    "Working with the restriction that all $\\beta_i$ are positive, the $\\alpha^4$ term can't be touched, so we can try to eliminate the $\\alpha^5$ term by expressing $\\beta_3$ as a function of $\\beta_1$:\n",
    "$$\\beta_3 = \\frac{2\\beta_1 - 1}{4\\beta_1 - 6}$$\n",
    "With this, we can try to eliminate the $\\alpha^6$ term."
   ]
  },
  {
   "cell_type": "code",
   "execution_count": 11,
   "id": "b8523955",
   "metadata": {},
   "outputs": [
    {
     "data": {
      "text/latex": [
       "$\\displaystyle \\frac{\\beta_{1}}{54} + \\frac{2 \\beta_{1} - 1}{12 \\cdot \\left(4 \\beta_{1} - 6\\right)} - \\frac{1}{60}$"
      ],
      "text/plain": [
       "beta_1/54 + (2*beta_1 - 1)/(12*(4*beta_1 - 6)) - 1/60"
      ]
     },
     "execution_count": 11,
     "metadata": {},
     "output_type": "execute_result"
    }
   ],
   "source": [
    "a6term = ( beta1/54 + beta3/12 - 1/60 ).subs([(beta3, (2*beta1 - 1)/(4*beta1 - 6))])\n",
    "nsimplify(a6term)"
   ]
  },
  {
   "cell_type": "markdown",
   "id": "30581b48",
   "metadata": {},
   "source": [
    "This cannot be solved by any real value of $\\beta_1$, and the global minimum (absolute) value sits at $\\beta_1 = 0$, which we decided is not allowed. There are no local minimums in the interval $(0,1)$, so our choice for $\\beta_1$ becomes arbitrary -- this is a dead end..."
   ]
  },
  {
   "cell_type": "code",
   "execution_count": null,
   "id": "d7ad8eea",
   "metadata": {},
   "outputs": [],
   "source": []
  }
 ],
 "metadata": {
  "kernelspec": {
   "display_name": "Python 3 (ipykernel)",
   "language": "python",
   "name": "python3"
  },
  "language_info": {
   "codemirror_mode": {
    "name": "ipython",
    "version": 3
   },
   "file_extension": ".py",
   "mimetype": "text/x-python",
   "name": "python",
   "nbconvert_exporter": "python",
   "pygments_lexer": "ipython3",
   "version": "3.10.10"
  }
 },
 "nbformat": 4,
 "nbformat_minor": 5
}
