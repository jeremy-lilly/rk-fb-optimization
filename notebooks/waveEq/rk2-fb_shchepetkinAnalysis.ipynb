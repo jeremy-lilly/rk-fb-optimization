{
 "cells": [
  {
   "cell_type": "markdown",
   "id": "d430f1b1",
   "metadata": {},
   "source": [
    "# RK2-FB Analysis from Shchepetkin\n",
    "\n",
    "Consider a simple model problem:\n",
    "\\begin{align*}\n",
    "    \\frac{\\partial \\zeta}{\\partial t} &= -c \\frac{\\partial u}{\\partial x}, \\\\\n",
    "    \\frac{\\partial u}{\\partial t} &= -c \\frac{\\partial \\zeta}{\\partial x}.\n",
    "\\end{align*}\n",
    "Note that this is similar to the 1D linearized SWEs with the Coriolis term deleted.\n",
    "\n",
    "With the goal of applying a von Neumann stability anaysis, we can apply a Fourier transform in $x$ to the above to get\n",
    "\\begin{align*}\n",
    "    \\frac{\\partial \\hat{\\zeta}}{\\partial t} &= -i \\omega \\hat{u}, \\\\\n",
    "    \\frac{\\partial \\hat{u}}{\\partial t} &= -i \\omega \\hat{\\zeta},\n",
    "\\end{align*}\n",
    "where $\\omega = ck$ for a given wavenumber $k$. Also, from now on, write $u = \\hat{u}$ and $\\zeta = \\hat{\\zeta}$ to ease notation.\n",
    "\n",
    "Chose a time-step $\\Delta t$ and let $\\alpha = \\omega\\Delta t = ck\\Delta t$. The RK2-FB algorithm for this system is then given by:\n",
    "\\begin{align*}\n",
    "    \\bar{\\zeta}^{n+1} &= \\zeta^n - i \\alpha u^n \\\\\n",
    "    \\bar{u}^{n+1} &= u^n - i \\alpha \\left[ \\beta\\bar{\\zeta}^{n+1} + (1 - \\beta)\\zeta^n \\right] \\\\\n",
    "    & \\\\\n",
    "    \\zeta^{n+1} &= \\zeta^n - i \\alpha \\left( \\frac{\\bar{u}^{n+1} + u^n}{2} \\right) \\\\\n",
    "    u^{n+1} &= u^n - i \\alpha \\left( \\frac{ \\left( \\varepsilon \\zeta^{n+1} + (1 - \\varepsilon)\\bar{\\zeta}^{n+1} \\right) + \\zeta^n }{2} \\right),\n",
    "\\end{align*}\n",
    "where $\\beta$ and $\\varepsilon$ are the tunable FB feedback coefficients."
   ]
  },
  {
   "cell_type": "code",
   "execution_count": 1,
   "id": "25b4b016",
   "metadata": {},
   "outputs": [],
   "source": [
    "from sympy import *\n",
    "import numpy as np\n",
    "import matplotlib.pyplot as plt\n",
    "from scipy.optimize import minimize\n",
    "%matplotlib inline\n",
    "\n",
    "\n",
    "# define relevent symbols \n",
    "#     _u = u^n, _zeta = \\zeta^n\n",
    "#     U = \\bar{u}^{n+1}, ZETA = \\bar{\\zeta}^{n+1}\n",
    "#     u = u^{n+1}, zeta = \\zeta^{n+1}\n",
    "_u, _zeta = symbols('u^n \\zeta^n')\n",
    "lam, alpha, beta, eps = symbols('lambda alpha beta varepsilon')\n",
    "\n",
    "# define time-stepping scheme\n",
    "ZETA = _zeta - I*alpha*_u\n",
    "U = _u - I*alpha * ( beta*ZETA + (1-beta)*_zeta )\n",
    "\n",
    "zeta = _zeta - I*alpha * (U + _u)/2\n",
    "u = _u - I*alpha * ( ( eps*zeta + (1-eps)*ZETA ) + _zeta )/2\n",
    "\n",
    "# simplify the expressions for zeta and u \n",
    "zeta  = zeta.simplify()\n",
    "u = u.simplify()"
   ]
  },
  {
   "cell_type": "markdown",
   "id": "fd20865a",
   "metadata": {},
   "source": [
    "Now, we have a system of linear equations in $\\zeta^n$ and $u^n$. We can find the amplification matrix for the scheme by writing it in the form\n",
    "$$ \\mathbf{w}^{n+1} = G \\mathbf{w}^n, $$\n",
    "where $G$ is the amplification matrix and $\\mathbf{w}^* = (\\zeta^*, u^*)^T$.\n",
    "\n",
    "We care about the amplification matrix $G$ as it follows from the above that $\\mathbf{w}^n = G^n \\mathbf{w}^0$. In turn, it follows that the solution $\\mathbf{w}^n$ is bounded as $ n \\to \\infty$ if and only if $||G^n||$ is bounded as $n \\to \\infty$."
   ]
  },
  {
   "cell_type": "code",
   "execution_count": 2,
   "id": "27faeb8a",
   "metadata": {},
   "outputs": [
    {
     "data": {
      "text/latex": [
       "$\\displaystyle \\left[\\begin{matrix}1 - \\frac{\\alpha^{2}}{2} & \\frac{i \\alpha^{3} \\beta}{2} - i \\alpha\\\\\\frac{i \\alpha^{3} \\varepsilon}{4} - i \\alpha & \\frac{\\alpha^{4} \\beta \\varepsilon}{4} - \\frac{\\alpha^{2}}{2} + 1\\end{matrix}\\right]$"
      ],
      "text/plain": [
       "Matrix([\n",
       "[                   1 - alpha**2/2,                 I*alpha**3*beta/2 - I*alpha],\n",
       "[I*alpha**3*varepsilon/4 - I*alpha, alpha**4*beta*varepsilon/4 - alpha**2/2 + 1]])"
      ]
     },
     "execution_count": 2,
     "metadata": {},
     "output_type": "execute_result"
    }
   ],
   "source": [
    "# create the amplification matrix G\n",
    "_w = [_zeta, _u]\n",
    "w = [zeta, u]\n",
    "G, _ = linear_eq_to_matrix(w, _w)\n",
    "\n",
    "G"
   ]
  },
  {
   "cell_type": "markdown",
   "id": "5cabad21",
   "metadata": {},
   "source": [
    "Normally, we would now be interested in the eigenvalues of $G$ given that it can be shown that as long as $G$ is diagonalizable, then $||G^n||$ is bounded if and only if each eigenvalue $\\lambda$ of $G$ is such that $|\\lambda| \\leq 1$.\n",
    "\n",
    "However, we are first interesting in chosing the \"optimal\" FB feedback coefficients $\\beta$ and $\\varepsilon$.\n",
    "\n",
    "To do this, we observe that we can write the orignal, Fourier transformed, system as\n",
    "$$ \\frac{\\partial}{\\partial t}\\begin{pmatrix} \\zeta \\\\ u \\end{pmatrix} = \\begin{pmatrix} 0 & -i\\omega \\\\ -i\\omega & 0 \\end{pmatrix} \\begin{pmatrix} \\zeta \\\\ u \\end{pmatrix}. $$\n",
    "\n",
    "One can show that the solution to the system is\n",
    "$$ \\begin{pmatrix} \\zeta(t) \\\\ u(t) \\end{pmatrix} = e^{t \\begin{pmatrix} 0 & -i\\omega \\\\ -i\\omega & 0 \\end{pmatrix}} \\begin{pmatrix} \\zeta(0) \\\\ u(0) \\end{pmatrix}, $$\n",
    "and that eigenvalues of the matrix exponential above are\n",
    "$$ \\lambda = e^{\\pm i \\omega t}. $$\n",
    "\n",
    "That is, the eigenvalues of the amplification matrix in the exact solution are $ \\lambda = e^{ \\pm i \\omega t} $. We would like the eigenvalues of our approximate amplification matrix $G$ to be the same, or as close as possible to $ e^{\\pm i \\omega t} $.\n",
    "\n",
    "Consider the solution to the system after exatly one time-step, at time $t = \\Delta t$. We want the eigenvalues of $G$ to approximate $e^{\\pm i \\omega \\Delta t} = e^{\\pm i \\alpha}$. \n",
    "\n",
    "To do this, we first calculate the characteristic polynomial $p(\\lambda) = \\text{det}(G - \\lambda I)$ of $G$:"
   ]
  },
  {
   "cell_type": "code",
   "execution_count": 3,
   "id": "5d760698",
   "metadata": {},
   "outputs": [
    {
     "data": {
      "text/latex": [
       "$\\displaystyle \\frac{\\alpha^{4} \\beta \\varepsilon}{4} - \\frac{\\alpha^{4} \\beta}{2} - \\frac{\\alpha^{4} \\varepsilon}{4} + \\frac{\\alpha^{4}}{4} + \\lambda^{2} + \\lambda \\left(- \\frac{\\alpha^{4} \\beta \\varepsilon}{4} + \\alpha^{2} - 2\\right) + 1$"
      ],
      "text/plain": [
       "alpha**4*beta*varepsilon/4 - alpha**4*beta/2 - alpha**4*varepsilon/4 + alpha**4/4 + lambda**2 + lambda*(-alpha**4*beta*varepsilon/4 + alpha**2 - 2) + 1"
      ]
     },
     "execution_count": 3,
     "metadata": {},
     "output_type": "execute_result"
    }
   ],
   "source": [
    "p = G.charpoly(lam).as_expr()\n",
    "p"
   ]
  },
  {
   "cell_type": "markdown",
   "id": "41a0a058",
   "metadata": {},
   "source": [
    "Next, we substitute in the desired value $\\lambda = e^{\\pm i \\alpha}$ into the characteristic polynomial $p(\\lambda)$ of $G$.\n",
    "\n",
    "Now, if $e^{\\pm i \\alpha}$ was a true eigenvalue of $G$, then we would have\n",
    "$$ p\\left(e^{\\pm i \\alpha}\\right) = 0. $$\n",
    "This is not the case, so we want to choose values for $\\beta$ and $\\epsilon$ that get us as close as possible as $\\alpha \\to 0$ (i.e. as $\\Delta t \\to 0$).\n",
    "\n",
    "So, expand the characteristic polynomial $p\\left(e^{\\pm i \\alpha}\\right)$ as a Taylor series in $\\alpha$ centered at $0$:"
   ]
  },
  {
   "cell_type": "code",
   "execution_count": 4,
   "id": "0a808241",
   "metadata": {},
   "outputs": [
    {
     "data": {
      "text/latex": [
       "$\\displaystyle \\alpha^{4} \\left(- \\frac{\\beta}{2} - \\frac{\\varepsilon}{4} + \\frac{1}{3}\\right) + \\alpha^{5} \\left(- \\frac{i \\beta \\varepsilon}{4} + \\frac{i}{12}\\right) + \\alpha^{6} \\left(\\frac{\\beta \\varepsilon}{8} - \\frac{2}{45}\\right) + O\\left(\\alpha^{7}\\right)$"
      ],
      "text/plain": [
       "alpha**4*(-beta/2 - varepsilon/4 + 1/3) + alpha**5*(-I*beta*varepsilon/4 + I/12) + alpha**6*(beta*varepsilon/8 - 2/45) + O(alpha**7)"
      ]
     },
     "execution_count": 4,
     "metadata": {},
     "output_type": "execute_result"
    }
   ],
   "source": [
    "exactPplus = p.subs([(lam, exp(I*alpha))])\n",
    "exactPminus = p.subs([(lam, exp(-I*alpha))])\n",
    "\n",
    "series(exactPplus, alpha, 0, 7)"
   ]
  },
  {
   "cell_type": "code",
   "execution_count": 5,
   "id": "6048696c",
   "metadata": {},
   "outputs": [
    {
     "data": {
      "text/latex": [
       "$\\displaystyle \\alpha^{4} \\left(- \\frac{\\beta}{2} - \\frac{\\varepsilon}{4} + \\frac{1}{3}\\right) + \\alpha^{5} \\left(\\frac{i \\beta \\varepsilon}{4} - \\frac{i}{12}\\right) + \\alpha^{6} \\left(\\frac{\\beta \\varepsilon}{8} - \\frac{2}{45}\\right) + O\\left(\\alpha^{7}\\right)$"
      ],
      "text/plain": [
       "alpha**4*(-beta/2 - varepsilon/4 + 1/3) + alpha**5*(I*beta*varepsilon/4 - I/12) + alpha**6*(beta*varepsilon/8 - 2/45) + O(alpha**7)"
      ]
     },
     "execution_count": 5,
     "metadata": {},
     "output_type": "execute_result"
    }
   ],
   "source": [
    "series(exactPminus, alpha, 0, 7)"
   ]
  },
  {
   "cell_type": "markdown",
   "id": "cf01fcda",
   "metadata": {},
   "source": [
    "So, we want that\n",
    "$$\\alpha^4 \\left(-\\frac{\\beta}{2} - \\frac{\\varepsilon}{4} + \\frac{1}{3}\\right) \\pm \\alpha^5 \\left(\\frac{i\\beta\\varepsilon}{4} - \\frac{i}{12}\\right) + \\alpha^6\\left(\\frac{\\beta\\varepsilon}{8} - \\frac{2}{45}\\right) + \\mathcal{O}(\\alpha^7) \\approx 0. $$\n",
    "\n",
    "We can chose $\\varepsilon$ to eliminate the $\\mathcal{O}(\\alpha^4)$ term:"
   ]
  },
  {
   "cell_type": "code",
   "execution_count": 6,
   "id": "5198bd73",
   "metadata": {},
   "outputs": [
    {
     "data": {
      "text/latex": [
       "$\\displaystyle \\frac{4}{3} - 2 \\beta$"
      ],
      "text/plain": [
       "4/3 - 2*beta"
      ]
     },
     "execution_count": 6,
     "metadata": {},
     "output_type": "execute_result"
    }
   ],
   "source": [
    "epsVal = nsimplify( solve(-beta/2 - eps/4 + 1/3, eps)[0] )\n",
    "epsVal"
   ]
  },
  {
   "cell_type": "markdown",
   "id": "c04362d7",
   "metadata": {},
   "source": [
    "With\n",
    "$$ \\varepsilon = \\frac{4}{3} - 2\\beta, $$\n",
    "the $\\mathcal{O}(\\alpha^4)$ term is eliminated. We then substitute this into the coefficent of the $\\mathcal{O}(\\alpha^5)$ term:"
   ]
  },
  {
   "cell_type": "code",
   "execution_count": 7,
   "id": "6e01c475",
   "metadata": {},
   "outputs": [
    {
     "data": {
      "text/latex": [
       "$\\displaystyle - \\frac{\\beta^{2}}{2} + \\frac{\\beta}{3} - \\frac{1}{12}$"
      ],
      "text/plain": [
       "-beta**2/2 + beta/3 - 1/12"
      ]
     },
     "execution_count": 7,
     "metadata": {},
     "output_type": "execute_result"
    }
   ],
   "source": [
    "nsimplify( (beta*epsVal/4 - 1/12).expand() )"
   ]
  },
  {
   "cell_type": "markdown",
   "id": "4d668894",
   "metadata": {},
   "source": [
    "This has no real roots, so the best we can do is minimize the coefficient. It can be rewritten as \n",
    "$$ \\frac{1}{2}\\left( \\beta - \\frac{1}{3} \\right)^2 + \\frac{1}{36}, $$\n",
    "so we chose\n",
    "$$ \\beta = \\frac{1}{3}. $$\n",
    "As a result we also get\n",
    "$$ \\varepsilon = \\frac{2}{3}. $$\n",
    "\n",
    "Now, we can plot the complex eigenvalues of the \"optimal\" amplification matrix $G$ as we vary $\\alpha$."
   ]
  },
  {
   "cell_type": "code",
   "execution_count": 8,
   "id": "ed57852c",
   "metadata": {},
   "outputs": [
    {
     "data": {
      "text/plain": [
       "      fun: 0.02777777777777781\n",
       " hess_inv: array([[1]])\n",
       "      jac: array([-9.31322575e-10])\n",
       "  message: 'Optimization terminated successfully.'\n",
       "     nfev: 4\n",
       "      nit: 1\n",
       "     njev: 2\n",
       "   status: 0\n",
       "  success: True\n",
       "        x: array([0.33333333])"
      ]
     },
     "execution_count": 8,
     "metadata": {},
     "output_type": "execute_result"
    }
   ],
   "source": [
    "a5coef = nsimplify( (beta*epsVal/4 - 1/12).expand() )\n",
    "\n",
    "#a5coefFun = lambdify(beta, a5coef)\n",
    "a5coefFun = lambda x: np.abs(-(x**2)/2 + x/3 - 1/12)\n",
    "res = minimize(a5coefFun, 0)\n",
    "res"
   ]
  },
  {
   "cell_type": "code",
   "execution_count": 9,
   "id": "679cd840",
   "metadata": {},
   "outputs": [
    {
     "data": {
      "image/png": "[encoded data removed]",
      "text/plain": [
       "<Figure size 640x480 with 1 Axes>"
      ]
     },
     "metadata": {},
     "output_type": "display_data"
    }
   ],
   "source": [
    "optP = p.subs([(beta, 1/3), (eps, 2/3)])\n",
    "\n",
    "\n",
    "fig, ax = plt.subplots(1)\n",
    "\n",
    "ax.spines['left'].set_position('center')\n",
    "ax.spines['right'].set_color('none')\n",
    "ax.spines['bottom'].set_position('center')\n",
    "ax.spines['top'].set_color('none')\n",
    "\n",
    "axLim = 1.5\n",
    "ax.set_xlim(-axLim, axLim)\n",
    "ax.set_ylim(-axLim, axLim)\n",
    "ax.set_aspect(1)\n",
    "\n",
    "unitCircle = plt.Circle((0, 0), 1, fill=False, alpha=1)\n",
    "ax.add_artist(unitCircle)\n",
    "\n",
    "for k in np.arange(-16.0, 16.0, 0.25):\n",
    "    if k < 0 and k != 0:\n",
    "        approx = complex(solve(optP.subs(alpha, k*pi/16), lam)[0])\n",
    "    elif k != 0:\n",
    "        approx = complex(solve(optP.subs(alpha, k*pi/16), lam)[1])\n",
    "    # END if        \n",
    "    exact = complex(exp(I*k*pi/16).evalf())\n",
    "    \n",
    "    ax.scatter(exact.real, exact.imag, color='orange')\n",
    "    ax.scatter(approx.real, approx.imag, color='blue')\n",
    "# END for"
   ]
  },
  {
   "cell_type": "markdown",
   "id": "2db93922",
   "metadata": {},
   "source": [
    "We note that the eigenvalues leave the unit circle at $\\lambda = -1$ (this is when we lose stability). If we substitute $\\lambda = -1$ into our \"optimal\" characteristic polynomial, we can find the maximum allowable value for $\\alpha = ck\\Delta t$.\n",
    "\n",
    "In plain language, we are finding the first value for $\\alpha$ for which the eigenvalues leave the unit circle, i.e. solving for $\\alpha$ in\n",
    "$$ p(-1) = 0. $$"
   ]
  },
  {
   "cell_type": "code",
   "execution_count": 10,
   "id": "8c7e99f6",
   "metadata": {},
   "outputs": [
    {
     "data": {
      "text/plain": [
       "[-5.60503415377629, -2.14093253863854, 2.14093253863854, 5.60503415377629]"
      ]
     },
     "execution_count": 10,
     "metadata": {},
     "output_type": "execute_result"
    }
   ],
   "source": [
    "solve(optP.subs([(lam, -1)]), alpha)"
   ]
  },
  {
   "cell_type": "markdown",
   "id": "e0141d33",
   "metadata": {},
   "source": [
    "Therefore, we have that\n",
    "$$ \\alpha_{\\text{max}} = 2.14093253863854 $$\n",
    "\n",
    "Trying to find the largest $\\alpha_\\text{max}$ as in Shchepetkin:"
   ]
  },
  {
   "cell_type": "code",
   "execution_count": 11,
   "id": "55ab80ff",
   "metadata": {},
   "outputs": [
    {
     "data": {
      "text/latex": [
       "$\\displaystyle \\frac{\\alpha^{4} \\beta \\left(\\frac{4}{3} - 2 \\beta\\right)}{2} - \\frac{\\alpha^{4} \\beta}{2} - \\frac{\\alpha^{4} \\cdot \\left(\\frac{4}{3} - 2 \\beta\\right)}{4} + \\frac{\\alpha^{4}}{4} - \\alpha^{2} + 4$"
      ],
      "text/plain": [
       "alpha**4*beta*(4/3 - 2*beta)/2 - alpha**4*beta/2 - alpha**4*(4/3 - 2*beta)/4 + alpha**4/4 - alpha**2 + 4"
      ]
     },
     "execution_count": 11,
     "metadata": {},
     "output_type": "execute_result"
    }
   ],
   "source": [
    "alphOptP = p.subs([(lam, -1), (eps, epsVal)])\n",
    "alphOptP"
   ]
  },
  {
   "cell_type": "code",
   "execution_count": 12,
   "id": "770b1595",
   "metadata": {},
   "outputs": [
    {
     "name": "stdout",
     "output_type": "stream",
     "text": [
      "      fun: nan\n",
      " hess_inv: array([[1]])\n",
      "      jac: array([nan])\n",
      "  message: 'NaN result encountered.'\n",
      "     nfev: 2\n",
      "      nit: 0\n",
      "     njev: 1\n",
      "   status: 3\n",
      "  success: False\n",
      "        x: array([0.])\n",
      "\n",
      "\n",
      "      fun: nan\n",
      " hess_inv: array([[1]])\n",
      "      jac: array([nan])\n",
      "  message: 'NaN result encountered.'\n",
      "     nfev: 2\n",
      "      nit: 0\n",
      "     njev: 1\n",
      "   status: 3\n",
      "  success: False\n",
      "        x: array([0.])\n",
      "\n",
      "\n",
      "      fun: 0.03413673396899472\n",
      " hess_inv: array([[30262800.91743682]])\n",
      "      jac: array([9.94466245e-06])\n",
      "  message: 'Optimization terminated successfully.'\n",
      "     nfev: 44\n",
      "      nit: 21\n",
      "     njev: 22\n",
      "   status: 0\n",
      "  success: True\n",
      "        x: array([-1715.6884316])\n",
      "\n",
      "\n",
      "      fun: -2.140932538638168\n",
      " hess_inv: array([[0.07599896]])\n",
      "      jac: array([-3.01003456e-06])\n",
      "  message: 'Optimization terminated successfully.'\n",
      "     nfev: 14\n",
      "      nit: 4\n",
      "     njev: 7\n",
      "   status: 0\n",
      "  success: True\n",
      "        x: array([0.3333331])\n",
      "\n",
      "\n"
     ]
    },
    {
     "name": "stderr",
     "output_type": "stream",
     "text": [
      "<lambdifygenerated-1>:2: RuntimeWarning: invalid value encountered in sqrt\n",
      "  return sqrt(-2*sqrt(3)*sqrt(48*beta**2 - 32*beta + 7)/(12*beta**2 - 8*beta + 1) - 6/(12*beta**2 - 8*beta + 1))\n",
      "<lambdifygenerated-2>:2: RuntimeWarning: invalid value encountered in sqrt\n",
      "  return -sqrt(-2*sqrt(3)*sqrt(48*beta**2 - 32*beta + 7)/(12*beta**2 - 8*beta + 1) - 6/(12*beta**2 - 8*beta + 1))\n"
     ]
    }
   ],
   "source": [
    "for expr in solve(alphOptP, alpha):\n",
    "    fun = lambdify(beta, -1*expr)\n",
    "    res = minimize(fun, 0)\n",
    "    print(res)\n",
    "    print('\\n')"
   ]
  },
  {
   "cell_type": "code",
   "execution_count": 14,
   "id": "cac52da7",
   "metadata": {},
   "outputs": [
    {
     "data": {
      "text/latex": [
       "$\\displaystyle 1.18571819029967 \\cdot 10^{-12}$"
      ],
      "text/plain": [
       "1.18571819029967e-12"
      ]
     },
     "execution_count": 14,
     "metadata": {},
     "output_type": "execute_result"
    }
   ],
   "source": [
    "alphOptP.subs([(beta, 1/3), (alpha, -2.140932538638168)])"
   ]
  },
  {
   "cell_type": "code",
   "execution_count": null,
   "id": "60cf260c",
   "metadata": {},
   "outputs": [],
   "source": []
  }
 ],
 "metadata": {
  "kernelspec": {
   "display_name": "Python 3 (ipykernel)",
   "language": "python",
   "name": "python3"
  },
  "language_info": {
   "codemirror_mode": {
    "name": "ipython",
    "version": 3
   },
   "file_extension": ".py",
   "mimetype": "text/x-python",
   "name": "python",
   "nbconvert_exporter": "python",
   "pygments_lexer": "ipython3",
   "version": "3.10.7"
  }
 },
 "nbformat": 4,
 "nbformat_minor": 5
}
