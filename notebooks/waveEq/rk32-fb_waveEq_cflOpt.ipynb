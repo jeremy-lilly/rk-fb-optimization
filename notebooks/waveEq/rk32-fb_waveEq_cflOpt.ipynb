{
 "cells": [
  {
   "cell_type": "markdown",
   "id": "b5f1d2ef",
   "metadata": {},
   "source": [
    "# RK(3,2)-FB FBFC Analysis (CFL Optimization)\n",
    "\n",
    "*FBFC = Forward-backward feedback coefficients*\n",
    "\n",
    "Consider a simple model problem:\n",
    "\\begin{align*}\n",
    "    \\frac{\\partial \\zeta}{\\partial t} &= -c \\frac{\\partial u}{\\partial x}, \\\\\n",
    "    \\frac{\\partial u}{\\partial t} &= -c \\frac{\\partial \\zeta}{\\partial x}.\n",
    "\\end{align*}\n",
    "Note that this is similar to the 1D linearized SWEs with the Coriolis term deleted.\n",
    "\n",
    "With the goal of applying a von Neumann stability anaysis, we can apply a Fourier transform in $x$ to the above to get\n",
    "\\begin{align*}\n",
    "    \\frac{\\partial \\hat{\\zeta}}{\\partial t} &= -i \\omega \\hat{u}, \\\\\n",
    "    \\frac{\\partial \\hat{u}}{\\partial t} &= -i \\omega \\hat{\\zeta},\n",
    "\\end{align*}\n",
    "where $\\omega = ck$ for a given wavenumber $k$. Also, from now on, write $u = \\hat{u}$ and $\\zeta = \\hat{\\zeta}$ to ease notation.\n",
    "\n",
    "Chose a time-step $\\Delta t$ and let $\\alpha = \\omega\\Delta t = ck\\Delta t$. The RK(3,2)-FB algorithm for this system is then given by:\n",
    "\\begin{align*}\n",
    "    \\bar{\\zeta}^{n+1/3} &= \\zeta^n - \\frac{i \\alpha}{3} u^n \\\\\n",
    "    \\bar{u}^{n+1/3} &= u^n - \\frac{i \\alpha}{3} \\left( \\beta_1\\bar{\\zeta}^{n+1/3} + (1 - \\beta_1)\\zeta^n \\right) \\\\\n",
    "    & \\\\\n",
    "    \\bar{\\zeta}^{n+1/2} &= \\zeta^n - \\frac{i \\alpha}{2} \\bar{u}^{n+1/3} \\\\\n",
    "    \\bar{u}^{n+1/2} &= u^n - \\frac{i \\alpha}{2} \\left( \\beta_2 \\bar{\\zeta}^{n+1/2} + (1 - \\beta_2)\\zeta^n \\right), \\\\\n",
    "    & \\\\\n",
    "    \\zeta^{n+1} &= \\zeta^n - i \\alpha \\bar{u}^{n+1/2} \\\\\n",
    "    u^{n+1} &= u^n -i \\alpha \\left( \\beta_3\\zeta^{n+1} + (1-2\\beta_3)\\bar{\\zeta}^{n+1/2} + \\beta_3\\zeta^n \\right)\n",
    "\\end{align*}\n",
    "where $\\beta_i$ for $i = 1, 2, 3$, are the tunable FB feedback coefficients."
   ]
  },
  {
   "cell_type": "code",
   "execution_count": 1,
   "id": "b680da8e",
   "metadata": {},
   "outputs": [],
   "source": [
    "from sympy import *\n",
    "from scipy.optimize import minimize, NonlinearConstraint\n",
    "import numpy as np\n",
    "import matplotlib.pyplot as plt\n",
    "%matplotlib inline\n",
    "\n",
    "\n",
    "# define relevent symbols \n",
    "#     _u = u^n, _zeta = \\zeta^n\n",
    "#     U1 = \\bar{u}^{n+1/3}, ZETA1= \\bar{\\zeta}^{n+1/3}\n",
    "#     U2 = \\bar{u}^{n+1/2}, ZETA2= \\bar{\\zeta}^{n+1/2}\n",
    "#     u = u^{n+1}, zeta = \\zeta^{n+1}\n",
    "_u, _zeta = symbols('u^n \\zeta^n')\n",
    "lam, alpha, beta1, beta2, beta3 = symbols('lambda alpha beta_1 beta_2 beta_3')\n",
    "\n",
    "# define time-stepping scheme\n",
    "ZETA1 = _zeta - (I*alpha/3) * _u\n",
    "U1 = _u - (I*alpha/3) * ( beta1*ZETA1 + (1-beta1)*_zeta )\n",
    "\n",
    "ZETA2 = _zeta - (I*alpha/2) * U1 \n",
    "U2 = _u - (I*alpha/2) * ( beta2*ZETA2 + (1-beta2)*_zeta )\n",
    "\n",
    "zeta = _zeta - I*alpha*U2\n",
    "u = _u - I*alpha * ( beta3*zeta + (1-2*beta3)*ZETA2 + beta3*_zeta )\n",
    "\n",
    "# simplify the expressions for zeta and u \n",
    "zeta  = zeta.simplify()\n",
    "u = u.simplify()"
   ]
  },
  {
   "cell_type": "markdown",
   "id": "10cdc9df",
   "metadata": {},
   "source": [
    "Now, we have a system of linear equations in $\\zeta^n$ and $u^n$. We can find the amplification matrix for the scheme by writing it in the form\n",
    "$$ \\mathbf{w}^{n+1} = G \\mathbf{w}^n, $$\n",
    "where $G$ is the amplification matrix and $\\mathbf{w}^* = (\\zeta^*, u^*)^T$.\n",
    "\n",
    "We care about the amplification matrix $G$ as it follows from the above that $\\mathbf{w}^n = G^n \\mathbf{w}^0$. In turn, it follows that the solution $\\mathbf{w}^n$ is bounded as $n \\to \\infty$ if and only if $||G^n||$ is bounded as $n \\to \\infty$."
   ]
  },
  {
   "cell_type": "code",
   "execution_count": 2,
   "id": "f36594b1",
   "metadata": {},
   "outputs": [
    {
     "data": {
      "text/latex": [
       "$\\displaystyle \\left[\\begin{matrix}\\frac{\\alpha^{4} \\beta_{2}}{12} - \\frac{\\alpha^{2}}{2} + 1 & - \\frac{i \\alpha^{5} \\beta_{1} \\beta_{2}}{36} + \\frac{i \\alpha^{3} \\beta_{2}}{4} - i \\alpha\\\\- \\frac{i \\alpha^{5} \\beta_{2} \\beta_{3}}{12} + \\frac{i \\alpha^{3} \\beta_{3}}{6} + \\frac{i \\alpha^{3}}{6} - i \\alpha & - \\frac{\\alpha^{6} \\beta_{1} \\beta_{2} \\beta_{3}}{36} - \\frac{\\alpha^{4} \\beta_{1} \\beta_{3}}{9} + \\frac{\\alpha^{4} \\beta_{1}}{18} + \\frac{\\alpha^{4} \\beta_{2} \\beta_{3}}{4} - \\frac{\\alpha^{2}}{2} + 1\\end{matrix}\\right]$"
      ],
      "text/plain": [
       "Matrix([\n",
       "[                                        alpha**4*beta_2/12 - alpha**2/2 + 1,                                                                  -I*alpha**5*beta_1*beta_2/36 + I*alpha**3*beta_2/4 - I*alpha],\n",
       "[-I*alpha**5*beta_2*beta_3/12 + I*alpha**3*beta_3/6 + I*alpha**3/6 - I*alpha, -alpha**6*beta_1*beta_2*beta_3/36 - alpha**4*beta_1*beta_3/9 + alpha**4*beta_1/18 + alpha**4*beta_2*beta_3/4 - alpha**2/2 + 1]])"
      ]
     },
     "execution_count": 2,
     "metadata": {},
     "output_type": "execute_result"
    }
   ],
   "source": [
    "# create the amplification matrix G\n",
    "_w = [_zeta, _u]\n",
    "w = [zeta, u]\n",
    "G, _ = linear_eq_to_matrix(w, _w)\n",
    "\n",
    "G"
   ]
  },
  {
   "cell_type": "markdown",
   "id": "dc72697a",
   "metadata": {},
   "source": [
    "Normally, we would now be interested in the eigenvalues of $G$ given that it can be shown that as long as $G$ is diagonalizable, then $||G^n||$ is bounded if and only if each eigenvalue $\\lambda$ of $G$ is such that $|\\lambda| \\leq 1$.\n",
    "\n",
    "However, we are first interesting in chosing the \"optimal\" FB feedback coefficients $\\beta_i$.\n",
    "\n",
    "To do this, we observe that we can write the orignal, Fourier transformed, system as\n",
    "$$ \\frac{\\partial}{\\partial t}\\begin{pmatrix} \\zeta \\\\ u \\end{pmatrix} = \\begin{pmatrix} 0 & -i\\omega \\\\ -i\\omega & 0 \\end{pmatrix} \\begin{pmatrix} \\zeta \\\\ u \\end{pmatrix}. $$\n",
    "\n",
    "One can show that the general solution to the system is\n",
    "$$ \\begin{pmatrix} \\zeta(t) \\\\ u(t) \\end{pmatrix} = e^{t \\begin{pmatrix} 0 & -i\\omega \\\\ -i\\omega & 0 \\end{pmatrix}} \\begin{pmatrix} \\zeta(0) \\\\ u(0) \\end{pmatrix}, $$\n",
    "and that eigenvalues of the matrix exponential above are\n",
    "$$ \\lambda = e^{\\pm i \\omega t}. $$\n",
    "At time $t = \\Delta t$, these eigenvalues are $e^{\\pm i \\alpha}$.\n",
    "\n",
    "Our goal here is to find $\\beta_i$ so that the admitable $\\alpha$ is as large as possible while retaining stability. To do this, we are going to solve a numerical optimization problem.\n",
    "\n",
    "Towards this end, first calculate the characteristic polynomial of our amplification matrix $G$:"
   ]
  },
  {
   "cell_type": "code",
   "execution_count": 3,
   "id": "24b7851c",
   "metadata": {},
   "outputs": [
    {
     "data": {
      "text/latex": [
       "$\\displaystyle - \\frac{\\alpha^{6} \\beta_{1} \\beta_{2} \\beta_{3}}{36} + \\frac{\\alpha^{6} \\beta_{1} \\beta_{2}}{36} + \\frac{\\alpha^{6} \\beta_{1} \\beta_{3}}{18} - \\frac{\\alpha^{6} \\beta_{1}}{36} - \\frac{\\alpha^{4} \\beta_{1} \\beta_{3}}{9} + \\frac{\\alpha^{4} \\beta_{1}}{18} + \\frac{\\alpha^{4} \\beta_{2} \\beta_{3}}{4} - \\frac{\\alpha^{4} \\beta_{2}}{6} - \\frac{\\alpha^{4} \\beta_{3}}{6} + \\frac{\\alpha^{4}}{12} + \\lambda^{2} - \\frac{\\lambda \\left(- \\alpha^{6} \\beta_{1} \\beta_{2} \\beta_{3} - 4 \\alpha^{4} \\beta_{1} \\beta_{3} + 2 \\alpha^{4} \\beta_{1} + 9 \\alpha^{4} \\beta_{2} \\beta_{3} + 3 \\alpha^{4} \\beta_{2} - 36 \\alpha^{2} + 72\\right)}{36} + 1$"
      ],
      "text/plain": [
       "-alpha**6*beta_1*beta_2*beta_3/36 + alpha**6*beta_1*beta_2/36 + alpha**6*beta_1*beta_3/18 - alpha**6*beta_1/36 - alpha**4*beta_1*beta_3/9 + alpha**4*beta_1/18 + alpha**4*beta_2*beta_3/4 - alpha**4*beta_2/6 - alpha**4*beta_3/6 + alpha**4/12 + lambda**2 - lambda*(-alpha**6*beta_1*beta_2*beta_3 - 4*alpha**4*beta_1*beta_3 + 2*alpha**4*beta_1 + 9*alpha**4*beta_2*beta_3 + 3*alpha**4*beta_2 - 36*alpha**2 + 72)/36 + 1"
      ]
     },
     "execution_count": 3,
     "metadata": {},
     "output_type": "execute_result"
    }
   ],
   "source": [
    "p = G.charpoly(lam).as_expr()\n",
    "p.simplify()"
   ]
  },
  {
   "cell_type": "markdown",
   "id": "e393713e",
   "metadata": {},
   "source": [
    "We have now have\n",
    "$$ p(\\alpha, \\beta_1, \\beta_2, \\beta_3, \\lambda) = 0. $$\n",
    "Our goal is to choose $\\beta_i$ so that $\\alpha$ can be chosen as large as possible while the eigenvalues $\\lambda = \\lambda(\\alpha, \\beta_1, \\beta_2, \\beta_3)$ retain the property that $|\\lambda| \\leq 1$ as required for stability.\n",
    "\n",
    "Call this desired value $\\alpha_\\text{max}$. To find this, we can solve a numerical optimization problem with the constarints given above, and a user-defined cost function (we will experiment with different choices for this).\n",
    "\n",
    "To state the problem more formally, we wish to minimize the cost function\n",
    "$$ C = C(\\alpha_\\text{max}, \\beta_1, \\beta_2, \\beta_3) $$\n",
    "subject to constraint:\n",
    "$$ |\\lambda(\\alpha, \\beta_1, \\beta_2, \\beta_3)| \\leq 1 \\qquad \\forall \\alpha \\in \\left(0, \\alpha_\\text{max}\\right]. $$\n",
    "\n",
    "In practice, we check this condition by checking the absolute value of the eigenvalues on a grid in $\\alpha$, i.e. we check\n",
    "$$ |\\lambda(\\alpha, \\beta_1, \\beta_2, \\beta_3)| \\leq 1 \\qquad \\forall \\alpha = \\delta, 2\\delta, 3\\delta, \\cdots \\alpha_\\text{max}, $$\n",
    "where $\\delta$ is a user-defined step-size in `eigValMax()`, the smaller $\\delta$ is, the longer the numerical optimization takes to execute."
   ]
  },
  {
   "cell_type": "code",
   "execution_count": 4,
   "id": "da771d38",
   "metadata": {},
   "outputs": [],
   "source": [
    "# Require that |lambda| <= 1 for all 0 < alpha <= alpha_max\n",
    "def eigValMax(x):\n",
    "    step = np.pi/6\n",
    "    absList = []\n",
    "    for a in np.arange(step, x[0], step):\n",
    "        vals = [ (alpha, a), (beta1, x[1]), (beta2, x[2]), (beta3, x[3]) ]\n",
    "        eigVals = solve(p.subs(vals), lam)\n",
    "        for eigVal in eigVals:\n",
    "            absList.append( np.abs(complex(eigVal)) )\n",
    "        # END for\n",
    "    # END for\n",
    "    return np.max(absList)\n",
    "# END eigValCons()\n",
    "nlEigValCons = NonlinearConstraint(eigValMax, 0, 1)\n",
    "cons = [nlEigValCons]\n",
    "\n",
    "# Define a function that gives a measure of how close the numerical eigenvalues are\n",
    "# to their exact counterparts, we want this to be small for given alpha_max and beta_i\n",
    "def eigValDiffSum(x):\n",
    "    step = np.pi/6\n",
    "    diff = 0\n",
    "    diffs = []\n",
    "    for a in np.arange(-np.pi/2, np.pi/2, step):\n",
    "        vals = [ (alpha, a), (beta1, x[1]), (beta2, x[2]), (beta3, x[3]) ]\n",
    "        approxEigVals = solve(p.subs(vals), lam)\n",
    "        for approxEigVal in approxEigVals:\n",
    "            diffs.append( np.abs( complex(exp(I*a).evalf()) - complex(approxEigVal) ) )\n",
    "        # END for\n",
    "        diff += np.min(diffs)\n",
    "    # END for\n",
    "    return diff\n",
    "#END eigValDiffSum()"
   ]
  },
  {
   "cell_type": "markdown",
   "id": "32727a48",
   "metadata": {},
   "source": [
    "First, we try a simple cost function that seeks to maximize $\\alpha_\\text{max}$ while keeping the dissipation and dispersion error low:\n",
    "$$ C(\\alpha_\\text{max}, \\beta_1, \\beta_2, \\beta_3) = \\frac{1}{\\alpha_\\text{max}} + \\int_{\\frac{-\\pi}{2}}^{\\frac{\\pi}{2}} |\\lambda_\\text{exact}(\\alpha) - \\lambda(\\alpha, \\beta_1, \\beta_2, \\beta_3)|\\ \\text{d}\\alpha. $$\n",
    "Note that in practice, this integral term is implemented as a simple sum of the errors in the eigenvalues (see the definition of `eigValDiffSum()`).\n",
    "\n",
    "Below, `x0` defines an initial guess for optimal parameters $(\\alpha_\\text{max}, \\beta_1, \\beta_2, \\beta_3)$ -- unfortunately the results of the numerical optimization depend heavily on the choice of `x0`, maybe there is a way to fix this?"
   ]
  },
  {
   "cell_type": "code",
   "execution_count": 5,
   "id": "e36cb7a1",
   "metadata": {},
   "outputs": [
    {
     "data": {
      "text/plain": [
       "     fun: 0.25513639652493203\n",
       "     jac: array([-0.05799394, -0.02644757,  0.6343754 ,  0.28585051])\n",
       " message: 'Optimization terminated successfully'\n",
       "    nfev: 378\n",
       "     nit: 47\n",
       "    njev: 47\n",
       "  status: 0\n",
       " success: True\n",
       "       x: array([4.15249282, 0.54882035, 0.44256804, 0.36652374])"
      ]
     },
     "execution_count": 5,
     "metadata": {},
     "output_type": "execute_result"
    }
   ],
   "source": [
    "# define cost function\n",
    "cost = lambda x: 1/x[0] + eigValDiffSum(x)\n",
    "\n",
    "x0 = [3.5, 1/2, 1/2, 1/3]\n",
    "bnds = [(3, 6), (0, 1), (0, 1), (0, 1)]\n",
    "res = minimize(cost, x0, bounds=bnds, constraints=cons)\n",
    "res"
   ]
  },
  {
   "cell_type": "code",
   "execution_count": 6,
   "id": "585aae66",
   "metadata": {},
   "outputs": [
    {
     "name": "stdout",
     "output_type": "stream",
     "text": [
      "-4.71238898038469\n",
      "-4.663301595172349\n",
      "-4.614214209960009\n",
      "-4.565126824747668\n",
      "-4.516039439535327\n",
      "-4.466952054322987\n",
      "-4.417864669110647\n",
      "-4.368777283898306\n",
      "-4.319689898685965\n",
      "-4.270602513473625\n",
      "-4.221515128261284\n",
      "-4.172427743048944\n",
      "-4.123340357836604\n",
      "-4.074252972624263\n",
      "-4.025165587411922\n",
      "-3.9760782021995817\n",
      "-3.9269908169872414\n",
      "-3.877903431774901\n",
      "-3.8288160465625602\n",
      "-3.77972866135022\n",
      "-3.730641276137879\n",
      "-3.6815538909255388\n",
      "-3.5342917352885173\n",
      "-3.485204350076177\n",
      "-3.436116964863836\n",
      "-3.3870295796514958\n",
      "-3.3379421944391554\n",
      "-3.2888548092268146\n",
      "-3.2397674240144743\n"
     ]
    },
    {
     "data": {
      "text/plain": [
       "[<matplotlib.lines.Line2D at 0x7f05db5082b0>]"
      ]
     },
     "execution_count": 6,
     "metadata": {},
     "output_type": "execute_result"
    },
    {
     "data": {
      "image/png": "[encoded data removed]",
      "text/plain": [
       "<Figure size 640x480 with 1 Axes>"
      ]
     },
     "metadata": {},
     "output_type": "display_data"
    }
   ],
   "source": [
    "vals = res.x\n",
    "optP = p.subs([(beta1, vals[1]), (beta2, vals[2]), (beta3, vals[3])])\n",
    "\n",
    "fig, ax = plt.subplots(1)\n",
    "\n",
    "ax.spines['left'].set_position('center')\n",
    "ax.spines['right'].set_color('none')\n",
    "ax.spines['bottom'].set_position('center')\n",
    "ax.spines['top'].set_color('none')\n",
    "\n",
    "axLim = 1.5\n",
    "ax.set_xlim(-axLim, axLim)\n",
    "ax.set_ylim(-axLim, axLim)\n",
    "ax.set_aspect(1)\n",
    "\n",
    "unitCircle = plt.Circle((0, 0), 1, fill=False, color='orange')\n",
    "ax.add_artist(unitCircle)\n",
    "\n",
    "approx_real = []\n",
    "approx_imag = []\n",
    "for k in np.arange(-24.0, 24.0, 0.25):\n",
    "    # get complex values for exact and approx eigen values\n",
    "    approx = complex( solve( optP.subs(alpha, k*pi/16), lam )[0 if k <= 0 else 1] )\n",
    "    exact = complex( exp(I*k*pi/16).evalf() )\n",
    "    approx_real.append( approx.real )\n",
    "    approx_imag.append( approx.imag )\n",
    "    \n",
    "    if sqrt(approx.real**2 + approx.imag**2) > 1:\n",
    "        print(k*np.pi/16)\n",
    "\n",
    "    if k % 1 == 0 and np.abs(k) <= 16:\n",
    "        # plot exact and approx eigen values\n",
    "        colo = 'blue' if sqrt(approx.real**2 + approx.imag**2) <= 1 else 'red'\n",
    "        ax.scatter(exact.real, exact.imag, marker='o', color='orange')\n",
    "        ax.scatter(approx.real, approx.imag, marker='*', color=colo)\n",
    "        # connect exact to approx with dashed line\n",
    "        reals = [approx.real, exact.real]\n",
    "        imags = [approx.imag, exact.imag]\n",
    "        ax.plot(reals, imags, color='black', linestyle='dashed', linewidth=0.75, alpha=0.5)\n",
    "# END for\n",
    "ax.plot(approx_real, approx_imag, color='blue')"
   ]
  },
  {
   "cell_type": "code",
   "execution_count": 10,
   "id": "fdbc1129",
   "metadata": {},
   "outputs": [
    {
     "name": "stdout",
     "output_type": "stream",
     "text": [
      "[-5.99107535663530, 5.99107535663530, -2.72831607750989 - 0.690247554902163*I, -2.72831607750989 + 0.690247554902163*I, 2.72831607750989 - 0.690247554902163*I, 2.72831607750989 + 0.690247554902163*I]\n"
     ]
    }
   ],
   "source": [
    "print(solve(optP.subs([(lam, -1)]), alpha))"
   ]
  },
  {
   "cell_type": "markdown",
   "id": "114cbbfa",
   "metadata": {},
   "source": [
    "In the above, we have\n",
    "$$\\alpha_\\text{max} \\approx 3.21, $$\n",
    "not as good as Darren's experimental FBFCs. However, it seems that the dispersion/dissipation errors are much lower up until the point where stability is lost (`dt ~ 185.0` in `swe-python`). Worth thinking about this trade off, maybe some experiments comparing errors in practice? How confident are we that the experimental FBFCs are giving good results?\n",
    "\n",
    "Let's try a different cost function, where we ignore any consideration of dispersion/dissipation errors:\n",
    "$$ C(\\alpha_\\text{max}, \\beta_1, \\beta_2, \\beta_3) = \\frac{1}{\\alpha_\\text{max}} $$"
   ]
  },
  {
   "cell_type": "code",
   "execution_count": 8,
   "id": "0051f611",
   "metadata": {},
   "outputs": [
    {
     "data": {
      "text/plain": [
       "     fun: 0.16666666666666666\n",
       "     jac: array([-0.02777778,  0.        ,  0.        ,  0.        ])\n",
       " message: 'Iteration limit reached'\n",
       "    nfev: 1125\n",
       "     nit: 100\n",
       "    njev: 100\n",
       "  status: 9\n",
       " success: False\n",
       "       x: array([6.        , 0.44147148, 0.53251603, 0.34505174])"
      ]
     },
     "execution_count": 8,
     "metadata": {},
     "output_type": "execute_result"
    }
   ],
   "source": [
    "# define cost function\n",
    "cost = lambda x: 1/x[0]\n",
    "\n",
    "x0 = [3.5, 1/2, 1/2, 1/3]\n",
    "bnds = [(3, 6), (0, 1), (0, 1), (0, 1)]\n",
    "res = minimize(cost, x0, bounds=bnds, constraints=cons)\n",
    "res"
   ]
  },
  {
   "cell_type": "code",
   "execution_count": 9,
   "id": "3a22e976",
   "metadata": {},
   "outputs": [
    {
     "name": "stdout",
     "output_type": "stream",
     "text": [
      "3.9269908169872414\n",
      "3.9760782021995817\n",
      "4.025165587411922\n",
      "4.074252972624263\n",
      "4.123340357836604\n",
      "4.172427743048944\n",
      "4.221515128261284\n",
      "4.270602513473625\n",
      "4.319689898685965\n",
      "4.368777283898306\n",
      "4.417864669110647\n",
      "4.466952054322987\n",
      "4.516039439535327\n",
      "4.565126824747668\n",
      "4.614214209960009\n",
      "4.663301595172349\n"
     ]
    },
    {
     "data": {
      "text/plain": [
       "[<matplotlib.lines.Line2D at 0x7f05db676ce0>]"
      ]
     },
     "execution_count": 9,
     "metadata": {},
     "output_type": "execute_result"
    },
    {
     "data": {
      "image/png": "[encoded data removed]",
      "text/plain": [
       "<Figure size 640x480 with 1 Axes>"
      ]
     },
     "metadata": {},
     "output_type": "display_data"
    }
   ],
   "source": [
    "vals = res.x\n",
    "optP = p.subs([(beta1, vals[1]), (beta2, vals[2]), (beta3, vals[3])])\n",
    "\n",
    "fig, ax = plt.subplots(1)\n",
    "\n",
    "ax.spines['left'].set_position('center')\n",
    "ax.spines['right'].set_color('none')\n",
    "ax.spines['bottom'].set_position('center')\n",
    "ax.spines['top'].set_color('none')\n",
    "\n",
    "axLim = 1.5\n",
    "ax.set_xlim(-axLim, axLim)\n",
    "ax.set_ylim(-axLim, axLim)\n",
    "ax.set_aspect(1)\n",
    "\n",
    "unitCircle = plt.Circle((0, 0), 1, fill=False, color='orange')\n",
    "ax.add_artist(unitCircle)\n",
    "\n",
    "approx_real = []\n",
    "approx_imag = []\n",
    "for k in np.arange(-24.0, 24.0, 0.25):\n",
    "    # get complex values for exact and approx eigen values\n",
    "    approx = complex( solve( optP.subs(alpha, k*pi/16), lam )[0 if k <= 0 else 1] )\n",
    "    exact = complex( exp(I*k*pi/16).evalf() )\n",
    "    approx_real.append( approx.real )\n",
    "    approx_imag.append( approx.imag )\n",
    "    \n",
    "    if sqrt(approx.real**2 + approx.imag**2) > 1:\n",
    "        print(k*np.pi/16)\n",
    "\n",
    "    if k % 1 == 0 and np.abs(k) <= 16:\n",
    "        # plot exact and approx eigen values\n",
    "        colo = 'blue' if sqrt(approx.real**2 + approx.imag**2) <= 1 else 'red'\n",
    "        ax.scatter(exact.real, exact.imag, marker='o', color='orange')\n",
    "        ax.scatter(approx.real, approx.imag, marker='*', color=colo)\n",
    "        # connect exact to approx with dashed line\n",
    "        reals = [approx.real, exact.real]\n",
    "        imags = [approx.imag, exact.imag]\n",
    "        ax.plot(reals, imags, color='black', linestyle='dashed', linewidth=0.75, alpha=0.5)\n",
    "# END for\n",
    "ax.plot(approx_real, approx_imag, color='blue')"
   ]
  },
  {
   "cell_type": "code",
   "execution_count": 16,
   "id": "63ab5403",
   "metadata": {},
   "outputs": [
    {
     "data": {
      "text/plain": [
       "[-6.43202980292160, -4.07235123654821, 0.0, 4.07235123654821, 6.43202980292160]"
      ]
     },
     "execution_count": 16,
     "metadata": {},
     "output_type": "execute_result"
    }
   ],
   "source": [
    "solve(optP.subs([(lam, 1)]), alpha)"
   ]
  },
  {
   "cell_type": "markdown",
   "id": "4261cc72",
   "metadata": {},
   "source": [
    "Here we have\n",
    "$$ \\alpha_\\text{max} \\approx 3.9 $$\n",
    "which is larger than before, but the dispersion/dissipation errors are big for $\\alpha > \\frac{\\pi}{2}$.\n",
    "\n",
    "Trying a cost function that takes the dispersion/dissipation into account, but puts less weight on it:\n",
    "$$ C(\\alpha_\\text{max}, \\beta_1, \\beta_2, \\beta_3) = \\frac{1}{\\alpha_\\text{max}} + \\ln\\left( \\int_{\\frac{-\\pi}{2}}^{\\frac{\\pi}{2}} |\\lambda_\\text{exact}(\\alpha) - \\lambda(\\alpha, \\beta_1, \\beta_2, \\beta_3)|\\ \\text{d}\\alpha \\right). $$"
   ]
  },
  {
   "cell_type": "code",
   "execution_count": 12,
   "id": "145d1b73",
   "metadata": {},
   "outputs": [
    {
     "data": {
      "text/plain": [
       "     fun: -4.035508224653951\n",
       "     jac: array([-0.05699325, -3.98511088, 23.1226936 , 19.32763684])\n",
       " message: 'Optimization terminated successfully'\n",
       "    nfev: 274\n",
       "     nit: 34\n",
       "    njev: 34\n",
       "  status: 0\n",
       " success: True\n",
       "       x: array([4.18878904, 0.37857173, 0.4375219 , 0.35053977])"
      ]
     },
     "execution_count": 12,
     "metadata": {},
     "output_type": "execute_result"
    }
   ],
   "source": [
    "# define cost function\n",
    "cost = lambda x: 1/x[0] + np.log(eigValDiffSum(x))\n",
    "\n",
    "x0 = [3.5, 1/2, 1/2, 1/3]\n",
    "bnds = [(3, 6), (0, 1), (0, 1), (0, 1)]\n",
    "res = minimize(cost, x0, bounds=bnds, constraints=cons)\n",
    "res"
   ]
  },
  {
   "cell_type": "code",
   "execution_count": 13,
   "id": "08f37477",
   "metadata": {},
   "outputs": [
    {
     "name": "stdout",
     "output_type": "stream",
     "text": [
      "-3.0925052683774528\n",
      "-3.043417883165112\n",
      "4.074252972624263\n",
      "4.123340357836604\n",
      "4.172427743048944\n",
      "4.221515128261284\n",
      "4.270602513473625\n",
      "4.319689898685965\n",
      "4.368777283898306\n",
      "4.417864669110647\n",
      "4.466952054322987\n",
      "4.516039439535327\n",
      "4.565126824747668\n",
      "4.614214209960009\n",
      "4.663301595172349\n"
     ]
    },
    {
     "data": {
      "text/plain": [
       "[<matplotlib.lines.Line2D at 0x7f05d43fcbe0>]"
      ]
     },
     "execution_count": 13,
     "metadata": {},
     "output_type": "execute_result"
    },
    {
     "data": {
      "image/png": "[encoded data removed]",
      "text/plain": [
       "<Figure size 640x480 with 1 Axes>"
      ]
     },
     "metadata": {},
     "output_type": "display_data"
    }
   ],
   "source": [
    "vals = res.x\n",
    "optP = p.subs([(beta1, vals[1]), (beta2, vals[2]), (beta3, vals[3])])\n",
    "\n",
    "fig, ax = plt.subplots(1)\n",
    "\n",
    "ax.spines['left'].set_position('center')\n",
    "ax.spines['right'].set_color('none')\n",
    "ax.spines['bottom'].set_position('center')\n",
    "ax.spines['top'].set_color('none')\n",
    "\n",
    "axLim = 1.5\n",
    "ax.set_xlim(-axLim, axLim)\n",
    "ax.set_ylim(-axLim, axLim)\n",
    "ax.set_aspect(1)\n",
    "\n",
    "unitCircle = plt.Circle((0, 0), 1, fill=False, color='orange')\n",
    "ax.add_artist(unitCircle)\n",
    "\n",
    "approx_real = []\n",
    "approx_imag = []\n",
    "for k in np.arange(-24.0, 24.0, 0.25):\n",
    "    # get complex values for exact and approx eigen values\n",
    "    approx = complex( solve( optP.subs(alpha, k*pi/16), lam )[0 if k <= 0 else 1] )\n",
    "    exact = complex( exp(I*k*pi/16).evalf() )\n",
    "    approx_real.append( approx.real )\n",
    "    approx_imag.append( approx.imag )\n",
    "    \n",
    "    if sqrt(approx.real**2 + approx.imag**2) > 1:\n",
    "        print(k*np.pi/16)\n",
    "\n",
    "    if k % 1 == 0 and np.abs(k) <= 16:\n",
    "        # plot exact and approx eigen values\n",
    "        colo = 'blue' if sqrt(approx.real**2 + approx.imag**2) <= 1 else 'red'\n",
    "        ax.scatter(exact.real, exact.imag, marker='o', color='orange')\n",
    "        ax.scatter(approx.real, approx.imag, marker='*', color=colo)\n",
    "        # connect exact to approx with dashed line\n",
    "        reals = [approx.real, exact.real]\n",
    "        imags = [approx.imag, exact.imag]\n",
    "        ax.plot(reals, imags, color='black', linestyle='dashed', linewidth=0.75, alpha=0.5)\n",
    "# END for\n",
    "ax.plot(approx_real, approx_imag, color='blue')"
   ]
  },
  {
   "cell_type": "markdown",
   "id": "d2a0029c",
   "metadata": {},
   "source": [
    "This looks *very* close to what we might want, though we can see that the eigenvalues *just* leave the unit circle when $\\alpha \\approx 3.04$."
   ]
  },
  {
   "cell_type": "code",
   "execution_count": 15,
   "id": "e1bacc33",
   "metadata": {},
   "outputs": [
    {
     "data": {
      "text/plain": [
       "[-4.98597899077145 + 3.47833930642706e-104*I,\n",
       " -3.14138002048527 - 3.7693843615613e-102*I,\n",
       " -3.03672604080737 + 3.97217511225284e-104*I,\n",
       " 3.03672604080737 - 1.76258650314366e-101*I,\n",
       " 3.14138002048527 + 2.7174631443814e-102*I,\n",
       " 4.98597899077145 - 3.47833930642706e-104*I]"
      ]
     },
     "execution_count": 15,
     "metadata": {},
     "output_type": "execute_result"
    }
   ],
   "source": [
    "solve(optP.subs([(lam, -1)]), alpha)"
   ]
  },
  {
   "cell_type": "markdown",
   "id": "e74dd25c",
   "metadata": {},
   "source": [
    "Maybe we can change the inital guess for this cost function to avoid this? We could probably also avoid this by lowering the $\\delta$ in `eigValDiffSum()`, though this is slow (maybe try this later)."
   ]
  },
  {
   "cell_type": "code",
   "execution_count": 17,
   "id": "0c19cca3",
   "metadata": {},
   "outputs": [
    {
     "data": {
      "text/plain": [
       "     fun: -3.9792724236494665\n",
       "     jac: array([-0.04503164, -3.52342629, 24.03260779, 19.01155078])\n",
       " message: 'Iteration limit reached'\n",
       "    nfev: 762\n",
       "     nit: 100\n",
       "    njev: 100\n",
       "  status: 9\n",
       " success: False\n",
       "       x: array([4.71238898, 0.38800435, 0.43630695, 0.35817913])"
      ]
     },
     "execution_count": 17,
     "metadata": {},
     "output_type": "execute_result"
    }
   ],
   "source": [
    "# define cost function\n",
    "cost = lambda x: 1/x[0] + np.log(eigValDiffSum(x))\n",
    "\n",
    "x0 = [4, 1/2, 1/2, 1/3]\n",
    "bnds = [(3.5, 6), (0, 1), (0, 1), (0, 1)]\n",
    "res = minimize(cost, x0, bounds=bnds, constraints=cons)\n",
    "res"
   ]
  },
  {
   "cell_type": "code",
   "execution_count": 18,
   "id": "cbd8bc19",
   "metadata": {},
   "outputs": [
    {
     "name": "stdout",
     "output_type": "stream",
     "text": [
      "4.221515128261284\n",
      "4.270602513473625\n",
      "4.319689898685965\n",
      "4.368777283898306\n",
      "4.417864669110647\n",
      "4.466952054322987\n",
      "4.516039439535327\n",
      "4.565126824747668\n",
      "4.614214209960009\n",
      "4.663301595172349\n"
     ]
    },
    {
     "data": {
      "text/plain": [
       "[<matplotlib.lines.Line2D at 0x7f05d098c850>]"
      ]
     },
     "execution_count": 18,
     "metadata": {},
     "output_type": "execute_result"
    },
    {
     "data": {
      "image/png": "[encoded data removed]",
      "text/plain": [
       "<Figure size 640x480 with 1 Axes>"
      ]
     },
     "metadata": {},
     "output_type": "display_data"
    }
   ],
   "source": [
    "vals = res.x\n",
    "optP = p.subs([(beta1, vals[1]), (beta2, vals[2]), (beta3, vals[3])])\n",
    "\n",
    "fig, ax = plt.subplots(1)\n",
    "\n",
    "ax.spines['left'].set_position('center')\n",
    "ax.spines['right'].set_color('none')\n",
    "ax.spines['bottom'].set_position('center')\n",
    "ax.spines['top'].set_color('none')\n",
    "\n",
    "axLim = 1.5\n",
    "ax.set_xlim(-axLim, axLim)\n",
    "ax.set_ylim(-axLim, axLim)\n",
    "ax.set_aspect(1)\n",
    "\n",
    "unitCircle = plt.Circle((0, 0), 1, fill=False, color='orange')\n",
    "ax.add_artist(unitCircle)\n",
    "\n",
    "approx_real = []\n",
    "approx_imag = []\n",
    "for k in np.arange(-24.0, 24.0, 0.25):\n",
    "    # get complex values for exact and approx eigen values\n",
    "    approx = complex( solve( optP.subs(alpha, k*pi/16), lam )[0 if k <= 0 else 1] )\n",
    "    exact = complex( exp(I*k*pi/16).evalf() )\n",
    "    approx_real.append( approx.real )\n",
    "    approx_imag.append( approx.imag )\n",
    "    \n",
    "    if sqrt(approx.real**2 + approx.imag**2) > 1:\n",
    "        print(k*np.pi/16)\n",
    "\n",
    "    if k % 1 == 0 and np.abs(k) <= 16:\n",
    "        # plot exact and approx eigen values\n",
    "        colo = 'blue' if sqrt(approx.real**2 + approx.imag**2) <= 1 else 'red'\n",
    "        ax.scatter(exact.real, exact.imag, marker='o', color='orange')\n",
    "        ax.scatter(approx.real, approx.imag, marker='*', color=colo)\n",
    "        # connect exact to approx with dashed line\n",
    "        reals = [approx.real, exact.real]\n",
    "        imags = [approx.imag, exact.imag]\n",
    "        ax.plot(reals, imags, color='black', linestyle='dashed', linewidth=0.75, alpha=0.5)\n",
    "# END for\n",
    "ax.plot(approx_real, approx_imag, color='blue')"
   ]
  },
  {
   "cell_type": "code",
   "execution_count": 19,
   "id": "045f7fd0",
   "metadata": {},
   "outputs": [
    {
     "data": {
      "text/plain": [
       "[-5.84016669869682, -4.22121706992399, 0.0, 4.22121706992399, 5.84016669869682]"
      ]
     },
     "execution_count": 19,
     "metadata": {},
     "output_type": "execute_result"
    }
   ],
   "source": [
    "solve(optP.subs([(lam, 1)]), alpha)"
   ]
  },
  {
   "cell_type": "markdown",
   "id": "6b59390e",
   "metadata": {},
   "source": [
    "Here, we have\n",
    "$$ \\alpha_\\text{max} \\approx 4.22 $$\n",
    "much better than the previous example (it is a shame that results depend so heavily on the choice of `x0`, it will be hard to be confident that we have a truly optimal set of FBFCs).\n",
    "\n",
    "Testing this in `swe-python` we have a max time-step of `dt ~ 200.0`, smaller than the `dt ~ 216.0` allowed by the experimental FBFCs.\n",
    "\n",
    "At this point, we've seen a few instances of FBFCs that give a larger $\\alpha_\\text{max}$ than that given by the experimental FBFCs have a smaller admitable time-step in practice (in `swe-python`). The optimization method used here is clearly not perfect, and I'd love to discuss ways to improve on it -- however, I think that the fact that we can't beat the experimental FBFCs with all this work means that we are trying to solve the \"wrong\" problem. \n",
    "\n",
    "We probably need to do this analysis in the linearized SWEs as Bob has pointed out previously. My thinking is that if the best FBFCs were chosen by testing in the SWEs, we might need to do the analysis on that problem to get better results.\n",
    "\n",
    "I am concerned that the 2D linearized SWEs are going to create a problem too complex to solve using these tools -- we might need to think about adding some simpifying assumptions, like no dependence on `y`."
   ]
  }
 ],
 "metadata": {
  "kernelspec": {
   "display_name": "Python 3 (ipykernel)",
   "language": "python",
   "name": "python3"
  },
  "language_info": {
   "codemirror_mode": {
    "name": "ipython",
    "version": 3
   },
   "file_extension": ".py",
   "mimetype": "text/x-python",
   "name": "python",
   "nbconvert_exporter": "python",
   "pygments_lexer": "ipython3",
   "version": "3.10.8"
  }
 },
 "nbformat": 4,
 "nbformat_minor": 5
}
