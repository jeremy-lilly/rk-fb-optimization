{
 "cells": [
  {
   "cell_type": "markdown",
   "id": "b5f1d2ef",
   "metadata": {},
   "source": [
    "# RK(3,2)-FB on 1D SWEs\n",
    "\n",
    "Consider a simple model problem:\n",
    "\\begin{align*}\n",
    "    \\frac{\\partial \\eta}{\\partial t} &= -c \\frac{\\partial u}{\\partial x}, \\\\\n",
    "    \\frac{\\partial u}{\\partial t} &= -c \\frac{\\partial \\eta}{\\partial x}.\n",
    "\\end{align*}\n",
    "Note that these are 1D linearized SWEs.\n",
    "\n",
    "With the goal of applying a von Neumann stability anaysis, we can apply a Fourier transform in $x$ to the above to get\n",
    "\\begin{align*}\n",
    "    \\frac{\\partial \\hat{\\eta}}{\\partial t} &= -ick \\hat{u}, \\\\\n",
    "    \\frac{\\partial \\hat{u}}{\\partial t} &= -ick \\hat{\\eta},\n",
    "\\end{align*}\n",
    "From now on, write $u = \\hat{u}$ and $\\eta = \\hat{\\eta}$ to ease notation.\n",
    "\n",
    "Chose a time-step $\\Delta t$ and let $\\tilde{K} = k\\Delta x$ and $\\nu = c\\frac{\\Delta t}{\\Delta x}$. The RK(3,2)-FB algorithm for this system is then given by:\n",
    "\\begin{align*}\n",
    "    \\bar{\\eta}^{n+1/3} &= \\eta^n - \\frac{i \\nu\\tilde{K}}{3} u^n \\\\\n",
    "    \\bar{u}^{n+1/3} &= u^n - \\frac{i \\nu\\tilde{K}}{3} \\left( \\beta_1\\bar{\\eta}^{n+1/3} + (1 - \\beta_1)\\eta^n \\right) \\\\\n",
    "    & \\\\\n",
    "    \\bar{\\eta}^{n+1/2} &= \\eta^n - \\frac{i \\nu\\tilde{K}}{2} \\bar{u}^{n+1/3} \\\\\n",
    "    \\bar{u}^{n+1/2} &= u^n - \\frac{i \\nu\\tilde{K}}{2} \\left( \\beta_2 \\bar{\\eta}^{n+1/2} + (1 - \\beta_2)\\eta^n \\right), \\\\\n",
    "    & \\\\\n",
    "    \\eta^{n+1} &= \\eta^n - i \\nu\\tilde{K} \\bar{u}^{n+1/2} \\\\\n",
    "    u^{n+1} &= u^n -i \\nu\\tilde{K} \\left( \\beta_3\\eta^{n+1} + (1-2\\beta_3)\\bar{\\eta}^{n+1/2} + \\beta_3\\eta^n \\right)\n",
    "\\end{align*}\n",
    "where $\\beta_i$ for $i = 1, 2, 3$, are the FB-weights."
   ]
  },
  {
   "cell_type": "code",
   "execution_count": 1,
   "id": "b680da8e",
   "metadata": {},
   "outputs": [],
   "source": [
    "from sympy import *\n",
    "import scipy as sp\n",
    "import numpy as np\n",
    "import matplotlib.pyplot as plt\n",
    "%matplotlib inline\n",
    "\n",
    "\n",
    "# define relevent symbols \n",
    "#     _u = u^n, _zeta = \\zeta^n\n",
    "#     U1 = \\bar{u}^{n+1/3}, ZETA1= \\bar{\\zeta}^{n+1/3}\n",
    "#     U2 = \\bar{u}^{n+1/2}, ZETA2= \\bar{\\zeta}^{n+1/2}\n",
    "#     u = u^{n+1}, zeta = \\zeta^{n+1}\n",
    "_u, _eta = symbols('u^n \\zeta^n')\n",
    "lam, nu, Ktilde, beta1, beta2, beta3 = symbols('lambda nu K beta_1 beta_2 beta_3')\n",
    "\n",
    "# define time-stepping scheme\n",
    "ETA1 = _eta - (I*nu*Ktilde/3) * _u\n",
    "U1 = _u - (I*nu*Ktilde/3) * ( beta1*ETA1 + (1-beta1)*_eta )\n",
    "\n",
    "ETA2 = _eta - (I*nu*Ktilde/2) * U1 \n",
    "U2 = _u - (I*nu*Ktilde/2) * ( beta2*ETA2 + (1-beta2)*_eta )\n",
    "\n",
    "eta = _eta - I*nu*Ktilde*U2\n",
    "u = _u - I*nu*Ktilde * ( beta3*eta + (1-2*beta3)*ETA2 + beta3*_eta )"
   ]
  },
  {
   "cell_type": "markdown",
   "id": "10cdc9df",
   "metadata": {},
   "source": [
    "Now, we have a system of linear equations in $\\eta^n$ and $u^n$. We can find the amplification matrix for the scheme by writing it in the form\n",
    "$$ \\mathbf{w}^{n+1} = G \\mathbf{w}^n, $$\n",
    "where $G$ is the amplification matrix and $\\mathbf{w}^* = (\\eta^*, u^*)^T$.\n",
    "\n",
    "We care about the amplification matrix $G$ as it follows from the above that $\\mathbf{w}^n = G^n \\mathbf{w}^0$. In turn, it follows that the solution $\\mathbf{w}^n$ is bounded as $n \\to \\infty$ if and only if $||G^n||$ is bounded as $n \\to \\infty$."
   ]
  },
  {
   "cell_type": "code",
   "execution_count": 2,
   "id": "f36594b1",
   "metadata": {},
   "outputs": [],
   "source": [
    "# create the amplification matrix G\n",
    "_w = [_eta, _u]\n",
    "w = [eta, u]\n",
    "_G, _ = linear_eq_to_matrix(w, _w)\n",
    "\n",
    "x = [nu, beta1, beta2, beta3, Ktilde]\n",
    "_calcG = lambdify(x, _G)"
   ]
  },
  {
   "cell_type": "markdown",
   "id": "dc72697a",
   "metadata": {},
   "source": [
    "Observe that we can write the original, Fourier transformed, system as\n",
    "$$ \\frac{\\partial}{\\partial t}\\begin{pmatrix} \\eta \\\\ u \\end{pmatrix} = \\begin{pmatrix} 0 & -ick \\\\ -ick & 0 \\end{pmatrix} \\begin{pmatrix} \\eta \\\\ u \\end{pmatrix}. $$\n",
    "\n",
    "One can show that the general solution to the system is\n",
    "$$ \\begin{pmatrix} \\eta(t) \\\\ u(t) \\end{pmatrix} = e^{t \\begin{pmatrix} 0 & -ick \\\\ -ick & 0 \\end{pmatrix}} \\begin{pmatrix} \\zeta(0) \\\\ u(0) \\end{pmatrix}, $$\n",
    "and that eigenvalues of the matrix exponential above are\n",
    "$$ \\lambda = e^{\\pm ick t}. $$\n",
    "At time $t = \\Delta t$, these eigenvalues are $e^{\\pm\\nu\\tilde{K}}$."
   ]
  },
  {
   "cell_type": "code",
   "execution_count": 3,
   "id": "1b4d5f8f",
   "metadata": {},
   "outputs": [],
   "source": [
    "def swapRealImag(x):\n",
    "    return x.imag + 1.j*x.real\n",
    "\n",
    "# Define a function to create a plot comparing exact/numerical eigenvalues\n",
    "def eigValPlot(G, KtildeVal, title='', filename='plot.pdf',\n",
    "               a=-np.pi, b=np.pi, delta=np.pi/512, nuDotLimit=np.pi/3):\n",
    "    \n",
    "    red = '#ee4035'\n",
    "    orange = '#f37736'\n",
    "    yellow = '#fdf498'\n",
    "    green = '#7bc043'\n",
    "    blue = '#0392cf'\n",
    "    \n",
    "    fig, ax = plt.subplots(1)\n",
    "\n",
    "    ax.spines['left'].set_position('center')\n",
    "    ax.spines['right'].set_color('none')\n",
    "    ax.spines['bottom'].set_position('center')\n",
    "    ax.spines['top'].set_color('none')\n",
    "\n",
    "    axLim = 1.5\n",
    "    ax.set_xlim(-axLim, axLim)\n",
    "    ax.set_ylim(-axLim, axLim)\n",
    "    ax.set_aspect(1)\n",
    "    \n",
    "    ticks = [-1.5, -1, -0.5, 0.5, 1, 1.5]\n",
    "    ax.set_xticks(ticks)\n",
    "    ax.set_yticks(ticks)\n",
    "\n",
    "    unitCircle = plt.Circle((0, 0), 1, fill=False, color=orange)\n",
    "    ax.add_artist(unitCircle)\n",
    "\n",
    "    approx_real = []\n",
    "    approx_imag = []\n",
    "\n",
    "    for l in np.arange(-32, 32, 1e-2):\n",
    "        nu = l*np.pi/16\n",
    "        # get complex values for exact and approx eigen values\n",
    "        GEigVals = swapRealImag( np.sort( swapRealImag( sp.linalg.eigvals(G(nu)) ) ) )\n",
    "        approx = GEigVals[1 if nu >= 0 else 0]\n",
    "        \n",
    "        approx_real.append( approx.real )\n",
    "        approx_imag.append( approx.imag )\n",
    "        \n",
    "        absValApprox = np.sqrt(approx.real**2 + approx.imag**2)\n",
    "        \n",
    "        if np.abs(nu) <= nuDotLimit and \\\n",
    "            ( np.isclose(l%1, 1, atol=1e-4) or \n",
    "              np.isclose(l%1, 0, atol=1e-4) ):\n",
    "            exact = np.exp(1.j*nu*KtildeVal)\n",
    "            \n",
    "            # plot exact and approx eigen values\n",
    "            colo = blue if absValApprox <= 1 else red\n",
    "            ax.scatter(exact.real, exact.imag, marker='o', color=orange)\n",
    "            ax.scatter(approx.real, approx.imag, marker='*', color=colo)\n",
    "            # connect exact to approx with dashed line\n",
    "            reals = [approx.real, exact.real]\n",
    "            imags = [approx.imag, exact.imag]\n",
    "            ax.plot(reals, imags, color='black', linestyle='dashed', linewidth=0.75, alpha=0.5)\n",
    "        # END if\n",
    "    # END for\n",
    "\n",
    "    ax.plot(approx_real, approx_imag, color=blue)\n",
    "    ax.set_title(title)\n",
    "    \n",
    "    fig.savefig(filename, bbox_inches='tight')\n",
    "# END eigValPlot()"
   ]
  },
  {
   "cell_type": "code",
   "execution_count": 4,
   "id": "183dcf36",
   "metadata": {},
   "outputs": [
    {
     "data": {
      "image/png": "[encoded data removed]",
      "text/plain": [
       "<Figure size 640x480 with 1 Axes>"
      ]
     },
     "metadata": {},
     "output_type": "display_data"
    }
   ],
   "source": [
    "betas = {'U0C1': [0.500, 0.500, 0.344],\n",
    "         'U0C2': [0.516, 0.532, 0.331],\n",
    "         'U05C1': [0.531, 0.531, 0.313],\n",
    "         'U15C1': [0.359, 0.578, 0.234],\n",
    "         'U25C1': [0.656, 0.938, 0.188]}\n",
    "\n",
    "KtildeVal = np.pi/2\n",
    "vals = betas['U05C1']\n",
    "optG = lambda nu: _calcG(nu, vals[0], vals[1], vals[2], KtildeVal)\n",
    "\n",
    "filename = 'U05C1.pdf'\n",
    "betaStr = '{}'.format(betas['U05C1'])[1:-1]\n",
    "title = '$|\\mathbf{U}| = 0.05, C_1$\\n' + betaStr\n",
    "eigValPlot(optG, KtildeVal, title, filename, delta=np.pi/512, nuDotLimit=np.pi/1.75)"
   ]
  },
  {
   "cell_type": "code",
   "execution_count": null,
   "id": "d7800b02",
   "metadata": {},
   "outputs": [],
   "source": []
  }
 ],
 "metadata": {
  "kernelspec": {
   "display_name": "Python 3 (ipykernel)",
   "language": "python",
   "name": "python3"
  },
  "language_info": {
   "codemirror_mode": {
    "name": "ipython",
    "version": 3
   },
   "file_extension": ".py",
   "mimetype": "text/x-python",
   "name": "python",
   "nbconvert_exporter": "python",
   "pygments_lexer": "ipython3",
   "version": "3.10.10"
  }
 },
 "nbformat": 4,
 "nbformat_minor": 5
}
